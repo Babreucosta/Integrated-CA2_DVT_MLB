{
 "cells": [
  {
   "cell_type": "markdown",
   "id": "7cd44276",
   "metadata": {},
   "source": [
    "<div style=\"padding:20px;color:white;margin:0;font-size:35px;font-family:arial;text-align:center;display:fill;border-radius:5px;background-color:#257CCB;overflow:hidden\"><b>INTEGRATED CONTINUOUS ASSESSMENT</b></div>"
   ]
  },
  {
   "cell_type": "markdown",
   "id": "10a5be77",
   "metadata": {},
   "source": [
    "<a id=\"1.1\"></a>\n",
    "<h2 style=\"font-family:arial;text-align:center; font-size: 32px; font-style: normal; font-weight: normal; text-decoration: none; text-transform: centre; letter-spacing: 5px; color:#257CCB; background-color: #ffffff;\"> <b>DATA VISUALISATION + MACHINE LEARNING</b></h2>"
   ]
  },
  {
   "cell_type": "markdown",
   "id": "35284fbd",
   "metadata": {},
   "source": [
    "Programme Title: HDIP Data Analytics\n",
    "\n",
    "Cohort: HDIP Feb 22 FT/PT\n",
    "\n",
    "Module Title(s): Data Visualization Techniques & Machine Learning for Business \n",
    "\n",
    "Assignment Type: Individual  \n",
    "\n",
    "Assignment Title: Integrated CA2_DVT_MLB\n",
    "\n",
    "Lecturer(s): David McQuaid & Dr. Muhammad Iqba\n",
    "\n",
    "Issue Date: 19th October 2023  \n",
    "\n",
    "Submission Deadline Date:  26th November 2023 \n",
    "\n",
    "Student: **_Bárbara Abreu Costa 2023099_**\n",
    "\n",
    "GitHub Repository: https://github.com/Babreucosta/Integrated-CA2_DVT_MLB"
   ]
  },
  {
   "cell_type": "markdown",
   "id": "d9ab5f8e",
   "metadata": {},
   "source": [
    "-----"
   ]
  },
  {
   "cell_type": "markdown",
   "id": "52cd9868",
   "metadata": {},
   "source": [
    "<a id=\"1\"></a>\n",
    "# <p style=\"padding:10px;background-color:#257CCB;margin:0;color:white;font-family:arial;font-size:100%;text-align:center;border-radius: 15px 50px;overflow:hidden;font-weight:500\">_MACHINE LEARNING_</p>"
   ]
  },
  {
   "cell_type": "markdown",
   "id": "cb3c57c5",
   "metadata": {},
   "source": [
    "**QUESTION 1**\n",
    "\n",
    "Discuss and explain the purpose of a recommendation system for online retail business in machine\n",
    "learning. Briefly compare Content and Collaborative filtering using any dataset of your choice (Datasets used\n",
    "in the class tutorials or exercises are not allowed to use in this CA2). Train and test machine learning models\n",
    "for the user-user or item-item collaborative filtering. Justify your recommendations for the considered\n",
    "scenario by providing a conceptual insight"
   ]
  },
  {
   "cell_type": "markdown",
   "id": "fac0f99a",
   "metadata": {},
   "source": [
    "> RECOMMENDATION SYSTEM PURPOSE\n",
    "> \n",
    "> Recommendation systems play a pivotal role in the success of online retail businesses by leveraging machine learning algorithms to deliver personalized product suggestions to users. This technology harnesses historical user behavior, preferences, and item characteristics to make tailored recommendations, thereby enhancing the shopping experience and boosting sales.\n",
    "Enhanced Customer Experience:\n",
    "One of the primary purposes of a recommendation system is to augment the customer experience. By presenting relevant products to users based on their past interactions, the system assists in narrowing down choices from a vast array of offerings. This not only saves time for the customer but also creates a sense of personalization, fostering customer loyalty. For instance, Amazon's recommendation engine analyzes user behavior and provides suggestions such as \"Customers who bought this also bought...\" or \"Recommended for you\", contributing significantly to their sales revenue (Linden et al., 2003).\n",
    "\n",
    "Increased Sales and Revenue:\n",
    "Recommendation systems have a direct impact on revenue generation. By intelligently suggesting complementary or alternative products, online retailers can increase the average order value. For instance, Netflix's recommendation engine, powered by machine learning, is estimated to be responsible for a significant portion of their viewer retention and subscription revenue (Yin et al., 2012).\n",
    "\n",
    "Reducing Information Overload:\n",
    "In the digital era, customers are inundated with choices, leading to decision fatigue. Recommendation systems act as filters, alleviating this burden by presenting options that align with the user's preferences. For example, Spotify's music recommendation system curates playlists and suggests songs based on the user's listening history and preferences, making the process of discovering new music effortless (McFee et al., 2012).\n",
    "\n",
    "Encouraging Cross-Selling and Up-Selling:\n",
    "Another vital purpose of recommendation systems is to facilitate cross-selling and up-selling opportunities. Cross-selling involves suggesting related or complementary products to the user's current selection, while up-selling involves recommending higher-value alternatives. For instance, e-commerce giant Alibaba uses recommendation algorithms to effectively cross-sell products across their diverse range of categories, significantly impacting their sales volume (Kang et al., 2012).\n",
    "\n",
    "Conclusion:\n",
    "In conclusion, recommendation systems are indispensable tools for online retail businesses, leveraging machine learning techniques to enhance the customer experience, increase sales, alleviate information overload, and drive cross-selling and up-selling initiatives. Through personalized suggestions, these systems create a win-win situation, benefiting both the customer and the retailer.\n",
    "\n",
    "References:\n",
    "\n",
    "Linden, G., Smith, B., & York, J. (2003). Amazon.com recommendations: Item-to-item collaborative filtering. IEEE Internet Computing, 7(1), 76-80.\n",
    "\n",
    "Yin, D., Hong, L., Davison, B. D., & Sidiropoulos, N. (2012). Comparative recommendation: A study of effectiveness metrics. In Proceedings of the 35th international ACM SIGIR conference on Research and development in information retrieval (pp. 339-348).\n",
    "\n",
    "McFee, B., Lanckriet, G. R., & Lanckriet, G. R. (2012). Metric learning to rank. In Advances in neural information processing systems (pp. 2573-2581).\n",
    "\n",
    "Kang, J., McAuley, J., & Leskovec, J. (2012). Exploring patterns of activity on e-commerce sites. In Proceedings of the 21st international conference on World Wide Web (pp. 795-804)."
   ]
  },
  {
   "cell_type": "markdown",
   "id": "31fe5949",
   "metadata": {},
   "source": [
    "---"
   ]
  },
  {
   "cell_type": "markdown",
   "id": "4c7ef68c",
   "metadata": {},
   "source": [
    "##### DATA UNDERSTANDING"
   ]
  },
  {
   "cell_type": "code",
   "execution_count": 1,
   "id": "84da413b",
   "metadata": {},
   "outputs": [],
   "source": [
    "import pandas as pd\n",
    "import numpy as np\n",
    "import matplotlib.pyplot as plt\n",
    "import seaborn as sns"
   ]
  },
  {
   "cell_type": "code",
   "execution_count": 2,
   "id": "2fa4d054",
   "metadata": {},
   "outputs": [],
   "source": [
    "df = pd.read_csv('amazon.csv')"
   ]
  },
  {
   "cell_type": "code",
   "execution_count": 3,
   "id": "a53a3e89",
   "metadata": {},
   "outputs": [
    {
     "data": {
      "text/html": [
       "<div>\n",
       "<style scoped>\n",
       "    .dataframe tbody tr th:only-of-type {\n",
       "        vertical-align: middle;\n",
       "    }\n",
       "\n",
       "    .dataframe tbody tr th {\n",
       "        vertical-align: top;\n",
       "    }\n",
       "\n",
       "    .dataframe thead th {\n",
       "        text-align: right;\n",
       "    }\n",
       "</style>\n",
       "<table border=\"1\" class=\"dataframe\">\n",
       "  <thead>\n",
       "    <tr style=\"text-align: right;\">\n",
       "      <th></th>\n",
       "      <th>product_id</th>\n",
       "      <th>product_name</th>\n",
       "      <th>category</th>\n",
       "      <th>discounted_price</th>\n",
       "      <th>actual_price</th>\n",
       "      <th>discount_percentage</th>\n",
       "      <th>rating</th>\n",
       "      <th>rating_count</th>\n",
       "      <th>about_product</th>\n",
       "      <th>user_id</th>\n",
       "      <th>user_name</th>\n",
       "      <th>review_id</th>\n",
       "      <th>review_title</th>\n",
       "      <th>review_content</th>\n",
       "      <th>img_link</th>\n",
       "      <th>product_link</th>\n",
       "    </tr>\n",
       "  </thead>\n",
       "  <tbody>\n",
       "    <tr>\n",
       "      <th>0</th>\n",
       "      <td>B07JW9H4J1</td>\n",
       "      <td>Wayona Nylon Braided USB to Lightning Fast Cha...</td>\n",
       "      <td>Computers&amp;Accessories|Accessories&amp;Peripherals|...</td>\n",
       "      <td>₹399</td>\n",
       "      <td>₹1,099</td>\n",
       "      <td>64%</td>\n",
       "      <td>4.2</td>\n",
       "      <td>24,269</td>\n",
       "      <td>High Compatibility : Compatible With iPhone 12...</td>\n",
       "      <td>AG3D6O4STAQKAY2UVGEUV46KN35Q,AHMY5CWJMMK5BJRBB...</td>\n",
       "      <td>Manav,Adarsh gupta,Sundeep,S.Sayeed Ahmed,jasp...</td>\n",
       "      <td>R3HXWT0LRP0NMF,R2AJM3LFTLZHFO,R6AQJGUP6P86,R1K...</td>\n",
       "      <td>Satisfied,Charging is really fast,Value for mo...</td>\n",
       "      <td>Looks durable Charging is fine tooNo complains...</td>\n",
       "      <td>https://m.media-amazon.com/images/W/WEBP_40237...</td>\n",
       "      <td>https://www.amazon.in/Wayona-Braided-WN3LG1-Sy...</td>\n",
       "    </tr>\n",
       "    <tr>\n",
       "      <th>1</th>\n",
       "      <td>B098NS6PVG</td>\n",
       "      <td>Ambrane Unbreakable 60W / 3A Fast Charging 1.5...</td>\n",
       "      <td>Computers&amp;Accessories|Accessories&amp;Peripherals|...</td>\n",
       "      <td>₹199</td>\n",
       "      <td>₹349</td>\n",
       "      <td>43%</td>\n",
       "      <td>4.0</td>\n",
       "      <td>43,994</td>\n",
       "      <td>Compatible with all Type C enabled devices, be...</td>\n",
       "      <td>AECPFYFQVRUWC3KGNLJIOREFP5LQ,AGYYVPDD7YG7FYNBX...</td>\n",
       "      <td>ArdKn,Nirbhay kumar,Sagar Viswanathan,Asp,Plac...</td>\n",
       "      <td>RGIQEG07R9HS2,R1SMWZQ86XIN8U,R2J3Y1WL29GWDE,RY...</td>\n",
       "      <td>A Good Braided Cable for Your Type C Device,Go...</td>\n",
       "      <td>I ordered this cable to connect my phone to An...</td>\n",
       "      <td>https://m.media-amazon.com/images/W/WEBP_40237...</td>\n",
       "      <td>https://www.amazon.in/Ambrane-Unbreakable-Char...</td>\n",
       "    </tr>\n",
       "    <tr>\n",
       "      <th>2</th>\n",
       "      <td>B096MSW6CT</td>\n",
       "      <td>Sounce Fast Phone Charging Cable &amp; Data Sync U...</td>\n",
       "      <td>Computers&amp;Accessories|Accessories&amp;Peripherals|...</td>\n",
       "      <td>₹199</td>\n",
       "      <td>₹1,899</td>\n",
       "      <td>90%</td>\n",
       "      <td>3.9</td>\n",
       "      <td>7,928</td>\n",
       "      <td>【 Fast Charger&amp; Data Sync】-With built-in safet...</td>\n",
       "      <td>AGU3BBQ2V2DDAMOAKGFAWDDQ6QHA,AESFLDV2PT363T2AQ...</td>\n",
       "      <td>Kunal,Himanshu,viswanath,sai niharka,saqib mal...</td>\n",
       "      <td>R3J3EQQ9TZI5ZJ,R3E7WBGK7ID0KV,RWU79XKQ6I1QF,R2...</td>\n",
       "      <td>Good speed for earlier versions,Good Product,W...</td>\n",
       "      <td>Not quite durable and sturdy,https://m.media-a...</td>\n",
       "      <td>https://m.media-amazon.com/images/W/WEBP_40237...</td>\n",
       "      <td>https://www.amazon.in/Sounce-iPhone-Charging-C...</td>\n",
       "    </tr>\n",
       "    <tr>\n",
       "      <th>3</th>\n",
       "      <td>B08HDJ86NZ</td>\n",
       "      <td>boAt Deuce USB 300 2 in 1 Type-C &amp; Micro USB S...</td>\n",
       "      <td>Computers&amp;Accessories|Accessories&amp;Peripherals|...</td>\n",
       "      <td>₹329</td>\n",
       "      <td>₹699</td>\n",
       "      <td>53%</td>\n",
       "      <td>4.2</td>\n",
       "      <td>94,363</td>\n",
       "      <td>The boAt Deuce USB 300 2 in 1 cable is compati...</td>\n",
       "      <td>AEWAZDZZJLQUYVOVGBEUKSLXHQ5A,AG5HTSFRRE6NL3M5S...</td>\n",
       "      <td>Omkar dhale,JD,HEMALATHA,Ajwadh a.,amar singh ...</td>\n",
       "      <td>R3EEUZKKK9J36I,R3HJVYCLYOY554,REDECAZ7AMPQC,R1...</td>\n",
       "      <td>Good product,Good one,Nice,Really nice product...</td>\n",
       "      <td>Good product,long wire,Charges good,Nice,I bou...</td>\n",
       "      <td>https://m.media-amazon.com/images/I/41V5FtEWPk...</td>\n",
       "      <td>https://www.amazon.in/Deuce-300-Resistant-Tang...</td>\n",
       "    </tr>\n",
       "    <tr>\n",
       "      <th>4</th>\n",
       "      <td>B08CF3B7N1</td>\n",
       "      <td>Portronics Konnect L 1.2M Fast Charging 3A 8 P...</td>\n",
       "      <td>Computers&amp;Accessories|Accessories&amp;Peripherals|...</td>\n",
       "      <td>₹154</td>\n",
       "      <td>₹399</td>\n",
       "      <td>61%</td>\n",
       "      <td>4.2</td>\n",
       "      <td>16,905</td>\n",
       "      <td>[CHARGE &amp; SYNC FUNCTION]- This cable comes wit...</td>\n",
       "      <td>AE3Q6KSUK5P75D5HFYHCRAOLODSA,AFUGIFH5ZAFXRDSZH...</td>\n",
       "      <td>rahuls6099,Swasat Borah,Ajay Wadke,Pranali,RVK...</td>\n",
       "      <td>R1BP4L2HH9TFUP,R16PVJEXKV6QZS,R2UPDB81N66T4P,R...</td>\n",
       "      <td>As good as original,Decent,Good one for second...</td>\n",
       "      <td>Bought this instead of original apple, does th...</td>\n",
       "      <td>https://m.media-amazon.com/images/W/WEBP_40237...</td>\n",
       "      <td>https://www.amazon.in/Portronics-Konnect-POR-1...</td>\n",
       "    </tr>\n",
       "  </tbody>\n",
       "</table>\n",
       "</div>"
      ],
      "text/plain": [
       "   product_id                                       product_name  \\\n",
       "0  B07JW9H4J1  Wayona Nylon Braided USB to Lightning Fast Cha...   \n",
       "1  B098NS6PVG  Ambrane Unbreakable 60W / 3A Fast Charging 1.5...   \n",
       "2  B096MSW6CT  Sounce Fast Phone Charging Cable & Data Sync U...   \n",
       "3  B08HDJ86NZ  boAt Deuce USB 300 2 in 1 Type-C & Micro USB S...   \n",
       "4  B08CF3B7N1  Portronics Konnect L 1.2M Fast Charging 3A 8 P...   \n",
       "\n",
       "                                            category discounted_price  \\\n",
       "0  Computers&Accessories|Accessories&Peripherals|...             ₹399   \n",
       "1  Computers&Accessories|Accessories&Peripherals|...             ₹199   \n",
       "2  Computers&Accessories|Accessories&Peripherals|...             ₹199   \n",
       "3  Computers&Accessories|Accessories&Peripherals|...             ₹329   \n",
       "4  Computers&Accessories|Accessories&Peripherals|...             ₹154   \n",
       "\n",
       "  actual_price discount_percentage rating rating_count  \\\n",
       "0       ₹1,099                 64%    4.2       24,269   \n",
       "1         ₹349                 43%    4.0       43,994   \n",
       "2       ₹1,899                 90%    3.9        7,928   \n",
       "3         ₹699                 53%    4.2       94,363   \n",
       "4         ₹399                 61%    4.2       16,905   \n",
       "\n",
       "                                       about_product  \\\n",
       "0  High Compatibility : Compatible With iPhone 12...   \n",
       "1  Compatible with all Type C enabled devices, be...   \n",
       "2  【 Fast Charger& Data Sync】-With built-in safet...   \n",
       "3  The boAt Deuce USB 300 2 in 1 cable is compati...   \n",
       "4  [CHARGE & SYNC FUNCTION]- This cable comes wit...   \n",
       "\n",
       "                                             user_id  \\\n",
       "0  AG3D6O4STAQKAY2UVGEUV46KN35Q,AHMY5CWJMMK5BJRBB...   \n",
       "1  AECPFYFQVRUWC3KGNLJIOREFP5LQ,AGYYVPDD7YG7FYNBX...   \n",
       "2  AGU3BBQ2V2DDAMOAKGFAWDDQ6QHA,AESFLDV2PT363T2AQ...   \n",
       "3  AEWAZDZZJLQUYVOVGBEUKSLXHQ5A,AG5HTSFRRE6NL3M5S...   \n",
       "4  AE3Q6KSUK5P75D5HFYHCRAOLODSA,AFUGIFH5ZAFXRDSZH...   \n",
       "\n",
       "                                           user_name  \\\n",
       "0  Manav,Adarsh gupta,Sundeep,S.Sayeed Ahmed,jasp...   \n",
       "1  ArdKn,Nirbhay kumar,Sagar Viswanathan,Asp,Plac...   \n",
       "2  Kunal,Himanshu,viswanath,sai niharka,saqib mal...   \n",
       "3  Omkar dhale,JD,HEMALATHA,Ajwadh a.,amar singh ...   \n",
       "4  rahuls6099,Swasat Borah,Ajay Wadke,Pranali,RVK...   \n",
       "\n",
       "                                           review_id  \\\n",
       "0  R3HXWT0LRP0NMF,R2AJM3LFTLZHFO,R6AQJGUP6P86,R1K...   \n",
       "1  RGIQEG07R9HS2,R1SMWZQ86XIN8U,R2J3Y1WL29GWDE,RY...   \n",
       "2  R3J3EQQ9TZI5ZJ,R3E7WBGK7ID0KV,RWU79XKQ6I1QF,R2...   \n",
       "3  R3EEUZKKK9J36I,R3HJVYCLYOY554,REDECAZ7AMPQC,R1...   \n",
       "4  R1BP4L2HH9TFUP,R16PVJEXKV6QZS,R2UPDB81N66T4P,R...   \n",
       "\n",
       "                                        review_title  \\\n",
       "0  Satisfied,Charging is really fast,Value for mo...   \n",
       "1  A Good Braided Cable for Your Type C Device,Go...   \n",
       "2  Good speed for earlier versions,Good Product,W...   \n",
       "3  Good product,Good one,Nice,Really nice product...   \n",
       "4  As good as original,Decent,Good one for second...   \n",
       "\n",
       "                                      review_content  \\\n",
       "0  Looks durable Charging is fine tooNo complains...   \n",
       "1  I ordered this cable to connect my phone to An...   \n",
       "2  Not quite durable and sturdy,https://m.media-a...   \n",
       "3  Good product,long wire,Charges good,Nice,I bou...   \n",
       "4  Bought this instead of original apple, does th...   \n",
       "\n",
       "                                            img_link  \\\n",
       "0  https://m.media-amazon.com/images/W/WEBP_40237...   \n",
       "1  https://m.media-amazon.com/images/W/WEBP_40237...   \n",
       "2  https://m.media-amazon.com/images/W/WEBP_40237...   \n",
       "3  https://m.media-amazon.com/images/I/41V5FtEWPk...   \n",
       "4  https://m.media-amazon.com/images/W/WEBP_40237...   \n",
       "\n",
       "                                        product_link  \n",
       "0  https://www.amazon.in/Wayona-Braided-WN3LG1-Sy...  \n",
       "1  https://www.amazon.in/Ambrane-Unbreakable-Char...  \n",
       "2  https://www.amazon.in/Sounce-iPhone-Charging-C...  \n",
       "3  https://www.amazon.in/Deuce-300-Resistant-Tang...  \n",
       "4  https://www.amazon.in/Portronics-Konnect-POR-1...  "
      ]
     },
     "execution_count": 3,
     "metadata": {},
     "output_type": "execute_result"
    }
   ],
   "source": [
    "df.head()"
   ]
  },
  {
   "cell_type": "code",
   "execution_count": 4,
   "id": "0cbe8113",
   "metadata": {},
   "outputs": [
    {
     "data": {
      "text/plain": [
       "(1465, 16)"
      ]
     },
     "execution_count": 4,
     "metadata": {},
     "output_type": "execute_result"
    }
   ],
   "source": [
    "df.shape"
   ]
  },
  {
   "cell_type": "markdown",
   "id": "71257bb9",
   "metadata": {},
   "source": [
    "##### MISSING VALUES"
   ]
  },
  {
   "cell_type": "code",
   "execution_count": 5,
   "id": "6e46c8fa",
   "metadata": {},
   "outputs": [
    {
     "name": "stdout",
     "output_type": "stream",
     "text": [
      "product_id             0\n",
      "product_name           0\n",
      "category               0\n",
      "discounted_price       0\n",
      "actual_price           0\n",
      "discount_percentage    0\n",
      "rating                 0\n",
      "rating_count           2\n",
      "about_product          0\n",
      "user_id                0\n",
      "user_name              0\n",
      "review_id              0\n",
      "review_title           0\n",
      "review_content         0\n",
      "img_link               0\n",
      "product_link           0\n",
      "dtype: int64\n"
     ]
    },
    {
     "data": {
      "text/html": [
       "<div>\n",
       "<style scoped>\n",
       "    .dataframe tbody tr th:only-of-type {\n",
       "        vertical-align: middle;\n",
       "    }\n",
       "\n",
       "    .dataframe tbody tr th {\n",
       "        vertical-align: top;\n",
       "    }\n",
       "\n",
       "    .dataframe thead th {\n",
       "        text-align: right;\n",
       "    }\n",
       "</style>\n",
       "<table border=\"1\" class=\"dataframe\">\n",
       "  <thead>\n",
       "    <tr style=\"text-align: right;\">\n",
       "      <th></th>\n",
       "      <th>product_id</th>\n",
       "      <th>product_name</th>\n",
       "      <th>category</th>\n",
       "      <th>discounted_price</th>\n",
       "      <th>actual_price</th>\n",
       "      <th>discount_percentage</th>\n",
       "      <th>rating</th>\n",
       "      <th>rating_count</th>\n",
       "      <th>about_product</th>\n",
       "      <th>user_id</th>\n",
       "      <th>user_name</th>\n",
       "      <th>review_id</th>\n",
       "      <th>review_title</th>\n",
       "      <th>review_content</th>\n",
       "      <th>img_link</th>\n",
       "      <th>product_link</th>\n",
       "    </tr>\n",
       "  </thead>\n",
       "  <tbody>\n",
       "    <tr>\n",
       "      <th>282</th>\n",
       "      <td>B0B94JPY2N</td>\n",
       "      <td>Amazon Brand - Solimo 65W Fast Charging Braide...</td>\n",
       "      <td>Computers&amp;Accessories|Accessories&amp;Peripherals|...</td>\n",
       "      <td>₹199</td>\n",
       "      <td>₹999</td>\n",
       "      <td>80%</td>\n",
       "      <td>3.0</td>\n",
       "      <td>NaN</td>\n",
       "      <td>USB C to C Cable: This cable has type C connec...</td>\n",
       "      <td>AE7CFHY23VAJT2FI4NZKKP6GS2UQ</td>\n",
       "      <td>Pranav</td>\n",
       "      <td>RUB7U91HVZ30</td>\n",
       "      <td>The cable works but is not 65W as advertised</td>\n",
       "      <td>I have a pd supported car charger and I bought...</td>\n",
       "      <td>https://m.media-amazon.com/images/W/WEBP_40237...</td>\n",
       "      <td>https://www.amazon.in/Amazon-Brand-Charging-Su...</td>\n",
       "    </tr>\n",
       "    <tr>\n",
       "      <th>324</th>\n",
       "      <td>B0BQRJ3C47</td>\n",
       "      <td>REDTECH USB-C to Lightning Cable 3.3FT, [Apple...</td>\n",
       "      <td>Computers&amp;Accessories|Accessories&amp;Peripherals|...</td>\n",
       "      <td>₹249</td>\n",
       "      <td>₹999</td>\n",
       "      <td>75%</td>\n",
       "      <td>5.0</td>\n",
       "      <td>NaN</td>\n",
       "      <td>💎[The Fastest Charge] - This iPhone USB C cabl...</td>\n",
       "      <td>AGJC5O5H5BBXWUV7WRIEIOOR3TVQ</td>\n",
       "      <td>Abdul Gafur</td>\n",
       "      <td>RQXD5SAMMPC6L</td>\n",
       "      <td>Awesome Product</td>\n",
       "      <td>Quick delivery.Awesome ProductPacking was good...</td>\n",
       "      <td>https://m.media-amazon.com/images/I/31-q0xhaTA...</td>\n",
       "      <td>https://www.amazon.in/REDTECH-Lightning-Certif...</td>\n",
       "    </tr>\n",
       "  </tbody>\n",
       "</table>\n",
       "</div>"
      ],
      "text/plain": [
       "     product_id                                       product_name  \\\n",
       "282  B0B94JPY2N  Amazon Brand - Solimo 65W Fast Charging Braide...   \n",
       "324  B0BQRJ3C47  REDTECH USB-C to Lightning Cable 3.3FT, [Apple...   \n",
       "\n",
       "                                              category discounted_price  \\\n",
       "282  Computers&Accessories|Accessories&Peripherals|...             ₹199   \n",
       "324  Computers&Accessories|Accessories&Peripherals|...             ₹249   \n",
       "\n",
       "    actual_price discount_percentage rating rating_count  \\\n",
       "282         ₹999                 80%    3.0          NaN   \n",
       "324         ₹999                 75%    5.0          NaN   \n",
       "\n",
       "                                         about_product  \\\n",
       "282  USB C to C Cable: This cable has type C connec...   \n",
       "324  💎[The Fastest Charge] - This iPhone USB C cabl...   \n",
       "\n",
       "                          user_id    user_name      review_id  \\\n",
       "282  AE7CFHY23VAJT2FI4NZKKP6GS2UQ       Pranav   RUB7U91HVZ30   \n",
       "324  AGJC5O5H5BBXWUV7WRIEIOOR3TVQ  Abdul Gafur  RQXD5SAMMPC6L   \n",
       "\n",
       "                                     review_title  \\\n",
       "282  The cable works but is not 65W as advertised   \n",
       "324                               Awesome Product   \n",
       "\n",
       "                                        review_content  \\\n",
       "282  I have a pd supported car charger and I bought...   \n",
       "324  Quick delivery.Awesome ProductPacking was good...   \n",
       "\n",
       "                                              img_link  \\\n",
       "282  https://m.media-amazon.com/images/W/WEBP_40237...   \n",
       "324  https://m.media-amazon.com/images/I/31-q0xhaTA...   \n",
       "\n",
       "                                          product_link  \n",
       "282  https://www.amazon.in/Amazon-Brand-Charging-Su...  \n",
       "324  https://www.amazon.in/REDTECH-Lightning-Certif...  "
      ]
     },
     "execution_count": 5,
     "metadata": {},
     "output_type": "execute_result"
    }
   ],
   "source": [
    "def check_missing_values(dataframe):\n",
    "    return dataframe.isnull().sum()\n",
    "\n",
    "print(check_missing_values(df))\n",
    "df[df.rating_count.isnull()]"
   ]
  },
  {
   "cell_type": "markdown",
   "id": "0a30adb1",
   "metadata": {},
   "source": [
    "> Only rating_count present NaN. As it is only two rows I decided to remove then using .dropna() function."
   ]
  },
  {
   "cell_type": "code",
   "execution_count": 6,
   "id": "200f56b4",
   "metadata": {},
   "outputs": [
    {
     "name": "stdout",
     "output_type": "stream",
     "text": [
      "product_id             0\n",
      "product_name           0\n",
      "category               0\n",
      "discounted_price       0\n",
      "actual_price           0\n",
      "discount_percentage    0\n",
      "rating                 0\n",
      "rating_count           0\n",
      "about_product          0\n",
      "user_id                0\n",
      "user_name              0\n",
      "review_id              0\n",
      "review_title           0\n",
      "review_content         0\n",
      "img_link               0\n",
      "product_link           0\n",
      "dtype: int64\n"
     ]
    }
   ],
   "source": [
    "df.dropna(subset=['rating_count'], inplace=True)\n",
    "print(check_missing_values(df))"
   ]
  },
  {
   "cell_type": "markdown",
   "id": "42858343",
   "metadata": {},
   "source": [
    "##### DUPLICATE DATA"
   ]
  },
  {
   "cell_type": "code",
   "execution_count": 7,
   "id": "7be51f47",
   "metadata": {},
   "outputs": [
    {
     "name": "stdout",
     "output_type": "stream",
     "text": [
      "0\n"
     ]
    }
   ],
   "source": [
    "def check_duplicates(dataframe):\n",
    "    return dataframe.duplicated().sum()\n",
    "\n",
    "print(check_duplicates(df))"
   ]
  },
  {
   "cell_type": "markdown",
   "id": "4cf3fd57",
   "metadata": {},
   "source": [
    "##### DATA TYPES"
   ]
  },
  {
   "cell_type": "code",
   "execution_count": 8,
   "id": "3261616a",
   "metadata": {},
   "outputs": [
    {
     "name": "stdout",
     "output_type": "stream",
     "text": [
      "product_id             object\n",
      "product_name           object\n",
      "category               object\n",
      "discounted_price       object\n",
      "actual_price           object\n",
      "discount_percentage    object\n",
      "rating                 object\n",
      "rating_count           object\n",
      "about_product          object\n",
      "user_id                object\n",
      "user_name              object\n",
      "review_id              object\n",
      "review_title           object\n",
      "review_content         object\n",
      "img_link               object\n",
      "product_link           object\n",
      "dtype: object\n"
     ]
    }
   ],
   "source": [
    "def check_data_types(dataframe):\n",
    "    return dataframe.dtypes\n",
    "\n",
    "print(check_data_types(df))"
   ]
  },
  {
   "cell_type": "markdown",
   "id": "c871f5f6",
   "metadata": {},
   "source": [
    "> Some variables in a dataset may have an object data type, which means they are strings. In order to perform numerical analysis on these variables, we need to convert them to numeric values. For example, if we want to calculate the total price of all products, we cannot do so if the price variable is in object format. We need to convert it to a numeric data type first."
   ]
  },
  {
   "cell_type": "code",
   "execution_count": 9,
   "id": "9d77769d",
   "metadata": {},
   "outputs": [],
   "source": [
    "df['discounted_price'] = df['discounted_price'].astype(str).str.replace('₹', '').str.replace(',', '').astype(float)\n",
    "df['actual_price'] = df['actual_price'].astype(str).str.replace('₹', '').str.replace(',', '').astype(float)\n",
    "df['discount_percentage'] = df['discount_percentage'].astype(str).str.replace('%','').astype(float)/100"
   ]
  },
  {
   "cell_type": "code",
   "execution_count": 10,
   "id": "3450c40b",
   "metadata": {},
   "outputs": [
    {
     "name": "stdout",
     "output_type": "stream",
     "text": [
      "Total de linhas com '|' na coluna 'rating': 1\n",
      "Total de linhas com '|' na coluna 'rating': 0\n"
     ]
    }
   ],
   "source": [
    "# The rating column has a value with an incorrect character, so we will exclude\n",
    "# the row to obtain a clean dataset.\n",
    "count = df['rating'].str.contains('\\|').sum()\n",
    "print(f\"Total de linhas com '|' na coluna 'rating': {count}\")\n",
    "df = df[df['rating'].apply(lambda x: '|' not in str(x))]\n",
    "count = df['rating'].str.contains('\\|').sum()\n",
    "print(f\"Total de linhas com '|' na coluna 'rating': {count}\")"
   ]
  },
  {
   "cell_type": "code",
   "execution_count": 11,
   "id": "de34c77a",
   "metadata": {},
   "outputs": [],
   "source": [
    "df['rating'] = df['rating'].astype(str).str.replace(',', '').astype(float)\n",
    "df['rating_count'] = df['rating_count'].astype(str).str.replace(',', '').astype(float)"
   ]
  },
  {
   "cell_type": "code",
   "execution_count": 12,
   "id": "d2c826c5",
   "metadata": {},
   "outputs": [
    {
     "name": "stdout",
     "output_type": "stream",
     "text": [
      "product_id              object\n",
      "product_name            object\n",
      "category                object\n",
      "discounted_price       float64\n",
      "actual_price           float64\n",
      "discount_percentage    float64\n",
      "rating                 float64\n",
      "rating_count           float64\n",
      "about_product           object\n",
      "user_id                 object\n",
      "user_name               object\n",
      "review_id               object\n",
      "review_title            object\n",
      "review_content          object\n",
      "img_link                object\n",
      "product_link            object\n",
      "dtype: object\n"
     ]
    }
   ],
   "source": [
    "print(check_data_types(df))"
   ]
  },
  {
   "cell_type": "markdown",
   "id": "1c6e6bce",
   "metadata": {},
   "source": [
    "> Now that the data types have been modified, let's add another column to our database that could be useful. \"rating_weighted\" was chosen since it may be used to take into account both the quantity and the average of ratings for a product. This column gives ratings with a high number of raters more weight by dividing the average rating by the total number of ratings. This can assist distinguish between items with high average ratings but few raters and those with great customer satisfaction and numerous positive reviews."
   ]
  },
  {
   "cell_type": "markdown",
   "id": "0e2f567d",
   "metadata": {},
   "source": [
    "##### DROPING UNUSUFUL COLUMNS"
   ]
  },
  {
   "cell_type": "code",
   "execution_count": 13,
   "id": "34ddffbc",
   "metadata": {},
   "outputs": [],
   "source": [
    "df = df.drop(['user_name', 'review_id', 'img_link', 'product_link'], axis=1)"
   ]
  },
  {
   "cell_type": "code",
   "execution_count": 14,
   "id": "86520a5a",
   "metadata": {},
   "outputs": [
    {
     "name": "stdout",
     "output_type": "stream",
     "text": [
      "product_id              object\n",
      "product_name            object\n",
      "category                object\n",
      "discounted_price       float64\n",
      "actual_price           float64\n",
      "discount_percentage    float64\n",
      "rating                 float64\n",
      "rating_count           float64\n",
      "about_product           object\n",
      "user_id                 object\n",
      "review_title            object\n",
      "review_content          object\n",
      "dtype: object\n"
     ]
    }
   ],
   "source": [
    "print(check_data_types(df))"
   ]
  },
  {
   "cell_type": "markdown",
   "id": "af38bdbe",
   "metadata": {},
   "source": [
    "###### CREATING RATING WEIGH"
   ]
  },
  {
   "cell_type": "markdown",
   "id": "c76858fe",
   "metadata": {},
   "source": [
    "> Now that we have adjusted the data types, let's create one more colum that could be interesting to have in our database. \"rating_weighted\" because it can be created as a way of considering not only the average rating, but also the number of people who rated the product. This column weighs the average rating by the number of ratings, giving more weight to ratings with a large number of raters. This can help identify products with high customer satisfaction and many positive ratings compared to products with high average ratings but few raters."
   ]
  },
  {
   "cell_type": "code",
   "execution_count": 15,
   "id": "d22376c5",
   "metadata": {},
   "outputs": [],
   "source": [
    "# Creating the column \"rating_weighted\"\n",
    "df['rating_weighted'] = df['rating'] * df['rating_count']"
   ]
  },
  {
   "cell_type": "markdown",
   "id": "c640f36e",
   "metadata": {},
   "source": [
    "> In order to have a better understanding of how our items are distributed throughout the various categories I will extract both the main and final categories from the category column. By defining the primary category, we can comprehend the product's categorization in a more general sense, whereas the secondary category explains the product's nature in more detail.\n",
    ">\n",
    "> As an example, if there is a primary category for \"Electronics\" and a subcategory for \"Smartphones\", we may infer that the product in question is a smartphone and so belongs to the electronics category as a whole. Understanding the distribution of our items and spotting trends and patterns within particular categories may both benefit from this knowledge.\n",
    ">\n",
    "> Also, removing both the primary and secondary categories helps improve communication and data presentation. These categories allow us to produce more informative and succinct charts and tables that more clearly depict the distribution of items by category.\n",
    ">\n",
    "> In summary, identifying both the primary and secondary categories is a crucial phase in our exploratory data analysis procedure that aids in our knowledge of the data and decision-making."
   ]
  },
  {
   "cell_type": "code",
   "execution_count": 16,
   "id": "cf3555e3",
   "metadata": {},
   "outputs": [],
   "source": [
    "df['sub_category'] = df['category'].astype(str).str.split('|').str[-1]\n",
    "df['main_category'] = df['category'].astype(str).str.split('|').str[0]"
   ]
  },
  {
   "cell_type": "code",
   "execution_count": 17,
   "id": "1031bf4e",
   "metadata": {},
   "outputs": [
    {
     "data": {
      "text/plain": [
       "Index(['product_id', 'product_name', 'category', 'discounted_price',\n",
       "       'actual_price', 'discount_percentage', 'rating', 'rating_count',\n",
       "       'about_product', 'user_id', 'review_title', 'review_content',\n",
       "       'rating_weighted', 'sub_category', 'main_category'],\n",
       "      dtype='object')"
      ]
     },
     "execution_count": 17,
     "metadata": {},
     "output_type": "execute_result"
    }
   ],
   "source": [
    "df.columns"
   ]
  },
  {
   "cell_type": "code",
   "execution_count": 19,
   "id": "4f20e8b8",
   "metadata": {},
   "outputs": [
    {
     "data": {
      "text/plain": [
       "Electronics              526\n",
       "Computers&Accessories    451\n",
       "Home&Kitchen             447\n",
       "OfficeProducts            31\n",
       "MusicalInstruments         2\n",
       "HomeImprovement            2\n",
       "Toys&Games                 1\n",
       "Car&Motorbike              1\n",
       "Health&PersonalCare        1\n",
       "Name: category, dtype: int64"
      ]
     },
     "execution_count": 19,
     "metadata": {},
     "output_type": "execute_result"
    }
   ],
   "source": [
    "df['category'].str.split('|').apply(lambda x: x[0]).value_counts()"
   ]
  },
  {
   "cell_type": "code",
   "execution_count": 22,
   "id": "19605b46",
   "metadata": {},
   "outputs": [],
   "source": [
    "df['category']=df['category'].str.split('|').apply(lambda x: x[0])"
   ]
  },
  {
   "cell_type": "code",
   "execution_count": 23,
   "id": "c26a52e6",
   "metadata": {},
   "outputs": [
    {
     "data": {
      "text/html": [
       "<div>\n",
       "<style scoped>\n",
       "    .dataframe tbody tr th:only-of-type {\n",
       "        vertical-align: middle;\n",
       "    }\n",
       "\n",
       "    .dataframe tbody tr th {\n",
       "        vertical-align: top;\n",
       "    }\n",
       "\n",
       "    .dataframe thead th {\n",
       "        text-align: right;\n",
       "    }\n",
       "</style>\n",
       "<table border=\"1\" class=\"dataframe\">\n",
       "  <thead>\n",
       "    <tr style=\"text-align: right;\">\n",
       "      <th></th>\n",
       "      <th>product_id</th>\n",
       "      <th>category</th>\n",
       "      <th>discounted_price</th>\n",
       "      <th>actual_price</th>\n",
       "      <th>discount_percentage</th>\n",
       "      <th>rating</th>\n",
       "      <th>rating_count</th>\n",
       "      <th>about_product</th>\n",
       "      <th>user_id</th>\n",
       "      <th>review_title</th>\n",
       "      <th>review_content</th>\n",
       "      <th>rating_weighted</th>\n",
       "      <th>sub_category</th>\n",
       "      <th>main_category</th>\n",
       "    </tr>\n",
       "    <tr>\n",
       "      <th>product_name</th>\n",
       "      <th></th>\n",
       "      <th></th>\n",
       "      <th></th>\n",
       "      <th></th>\n",
       "      <th></th>\n",
       "      <th></th>\n",
       "      <th></th>\n",
       "      <th></th>\n",
       "      <th></th>\n",
       "      <th></th>\n",
       "      <th></th>\n",
       "      <th></th>\n",
       "      <th></th>\n",
       "      <th></th>\n",
       "    </tr>\n",
       "  </thead>\n",
       "  <tbody>\n",
       "    <tr>\n",
       "      <th>Wayona Nylon Braided USB to Lightning Fast Charging and Data Sync Cable Compatible for iPhone 13, 12,11, X, 8, 7, 6, 5, iPad Air, Pro, Mini (3 FT Pack of 1, Grey)</th>\n",
       "      <td>B07JW9H4J1</td>\n",
       "      <td>Computers&amp;Accessories</td>\n",
       "      <td>399.0</td>\n",
       "      <td>1099.0</td>\n",
       "      <td>0.64</td>\n",
       "      <td>4.2</td>\n",
       "      <td>24269.0</td>\n",
       "      <td>High Compatibility : Compatible With iPhone 12...</td>\n",
       "      <td>AG3D6O4STAQKAY2UVGEUV46KN35Q,AHMY5CWJMMK5BJRBB...</td>\n",
       "      <td>Satisfied,Charging is really fast,Value for mo...</td>\n",
       "      <td>Looks durable Charging is fine tooNo complains...</td>\n",
       "      <td>101929.8</td>\n",
       "      <td>USBCables</td>\n",
       "      <td>Computers&amp;Accessories</td>\n",
       "    </tr>\n",
       "    <tr>\n",
       "      <th>Ambrane Unbreakable 60W / 3A Fast Charging 1.5m Braided Type C Cable for Smartphones, Tablets, Laptops &amp; other Type C devices, PD Technology, 480Mbps Data Sync, Quick Charge 3.0 (RCT15A, Black)</th>\n",
       "      <td>B098NS6PVG</td>\n",
       "      <td>Computers&amp;Accessories</td>\n",
       "      <td>199.0</td>\n",
       "      <td>349.0</td>\n",
       "      <td>0.43</td>\n",
       "      <td>4.0</td>\n",
       "      <td>43994.0</td>\n",
       "      <td>Compatible with all Type C enabled devices, be...</td>\n",
       "      <td>AECPFYFQVRUWC3KGNLJIOREFP5LQ,AGYYVPDD7YG7FYNBX...</td>\n",
       "      <td>A Good Braided Cable for Your Type C Device,Go...</td>\n",
       "      <td>I ordered this cable to connect my phone to An...</td>\n",
       "      <td>175976.0</td>\n",
       "      <td>USBCables</td>\n",
       "      <td>Computers&amp;Accessories</td>\n",
       "    </tr>\n",
       "    <tr>\n",
       "      <th>Sounce Fast Phone Charging Cable &amp; Data Sync USB Cable Compatible for iPhone 13, 12,11, X, 8, 7, 6, 5, iPad Air, Pro, Mini &amp; iOS Devices</th>\n",
       "      <td>B096MSW6CT</td>\n",
       "      <td>Computers&amp;Accessories</td>\n",
       "      <td>199.0</td>\n",
       "      <td>1899.0</td>\n",
       "      <td>0.90</td>\n",
       "      <td>3.9</td>\n",
       "      <td>7928.0</td>\n",
       "      <td>【 Fast Charger&amp; Data Sync】-With built-in safet...</td>\n",
       "      <td>AGU3BBQ2V2DDAMOAKGFAWDDQ6QHA,AESFLDV2PT363T2AQ...</td>\n",
       "      <td>Good speed for earlier versions,Good Product,W...</td>\n",
       "      <td>Not quite durable and sturdy,https://m.media-a...</td>\n",
       "      <td>30919.2</td>\n",
       "      <td>USBCables</td>\n",
       "      <td>Computers&amp;Accessories</td>\n",
       "    </tr>\n",
       "    <tr>\n",
       "      <th>boAt Deuce USB 300 2 in 1 Type-C &amp; Micro USB Stress Resistant, Tangle-Free, Sturdy Cable with 3A Fast Charging &amp; 480mbps Data Transmission, 10000+ Bends Lifespan and Extended 1.5m Length(Martian Red)</th>\n",
       "      <td>B08HDJ86NZ</td>\n",
       "      <td>Computers&amp;Accessories</td>\n",
       "      <td>329.0</td>\n",
       "      <td>699.0</td>\n",
       "      <td>0.53</td>\n",
       "      <td>4.2</td>\n",
       "      <td>94363.0</td>\n",
       "      <td>The boAt Deuce USB 300 2 in 1 cable is compati...</td>\n",
       "      <td>AEWAZDZZJLQUYVOVGBEUKSLXHQ5A,AG5HTSFRRE6NL3M5S...</td>\n",
       "      <td>Good product,Good one,Nice,Really nice product...</td>\n",
       "      <td>Good product,long wire,Charges good,Nice,I bou...</td>\n",
       "      <td>396324.6</td>\n",
       "      <td>USBCables</td>\n",
       "      <td>Computers&amp;Accessories</td>\n",
       "    </tr>\n",
       "    <tr>\n",
       "      <th>Portronics Konnect L 1.2M Fast Charging 3A 8 Pin USB Cable with Charge &amp; Sync Function for iPhone, iPad (Grey)</th>\n",
       "      <td>B08CF3B7N1</td>\n",
       "      <td>Computers&amp;Accessories</td>\n",
       "      <td>154.0</td>\n",
       "      <td>399.0</td>\n",
       "      <td>0.61</td>\n",
       "      <td>4.2</td>\n",
       "      <td>16905.0</td>\n",
       "      <td>[CHARGE &amp; SYNC FUNCTION]- This cable comes wit...</td>\n",
       "      <td>AE3Q6KSUK5P75D5HFYHCRAOLODSA,AFUGIFH5ZAFXRDSZH...</td>\n",
       "      <td>As good as original,Decent,Good one for second...</td>\n",
       "      <td>Bought this instead of original apple, does th...</td>\n",
       "      <td>71001.0</td>\n",
       "      <td>USBCables</td>\n",
       "      <td>Computers&amp;Accessories</td>\n",
       "    </tr>\n",
       "    <tr>\n",
       "      <th>...</th>\n",
       "      <td>...</td>\n",
       "      <td>...</td>\n",
       "      <td>...</td>\n",
       "      <td>...</td>\n",
       "      <td>...</td>\n",
       "      <td>...</td>\n",
       "      <td>...</td>\n",
       "      <td>...</td>\n",
       "      <td>...</td>\n",
       "      <td>...</td>\n",
       "      <td>...</td>\n",
       "      <td>...</td>\n",
       "      <td>...</td>\n",
       "      <td>...</td>\n",
       "    </tr>\n",
       "    <tr>\n",
       "      <th>Noir Aqua - 5pcs PP Spun Filter + 1 Spanner | for All Types of RO Water purifiers (5 Piece, White, 10 Inch, 5 Micron) - RO Spun Filter Cartridge Sponge Replacement Water Filter Candle</th>\n",
       "      <td>B08L7J3T31</td>\n",
       "      <td>Home&amp;Kitchen</td>\n",
       "      <td>379.0</td>\n",
       "      <td>919.0</td>\n",
       "      <td>0.59</td>\n",
       "      <td>4.0</td>\n",
       "      <td>1090.0</td>\n",
       "      <td>SUPREME QUALITY 90 GRAM 3 LAYER THIK PP SPUN F...</td>\n",
       "      <td>AHITFY6AHALOFOHOZEOC6XBP4FEA,AFRABBODZJZQB6Z4U...</td>\n",
       "      <td>Received the product without spanner,Excellent...</td>\n",
       "      <td>I received product without spanner,Excellent p...</td>\n",
       "      <td>4360.0</td>\n",
       "      <td>WaterPurifierAccessories</td>\n",
       "      <td>Home&amp;Kitchen</td>\n",
       "    </tr>\n",
       "    <tr>\n",
       "      <th>Prestige Delight PRWO Electric Rice Cooker (1 L, White)</th>\n",
       "      <td>B01M6453MB</td>\n",
       "      <td>Home&amp;Kitchen</td>\n",
       "      <td>2280.0</td>\n",
       "      <td>3045.0</td>\n",
       "      <td>0.25</td>\n",
       "      <td>4.1</td>\n",
       "      <td>4118.0</td>\n",
       "      <td>230 Volts, 400 watts, 1 Year</td>\n",
       "      <td>AFG5FM3NEMOL6BNFRV2NK5FNJCHQ,AGEINTRN6Z563RMLH...</td>\n",
       "      <td>ok,everything was good couldn't return bcoz I ...</td>\n",
       "      <td>ok,got everything as mentioned but the measuri...</td>\n",
       "      <td>16883.8</td>\n",
       "      <td>Rice&amp;PastaCookers</td>\n",
       "      <td>Home&amp;Kitchen</td>\n",
       "    </tr>\n",
       "    <tr>\n",
       "      <th>Bajaj Majesty RX10 2000 Watts Heat Convector Room Heater (White, ISI Approved)</th>\n",
       "      <td>B009P2LIL4</td>\n",
       "      <td>Home&amp;Kitchen</td>\n",
       "      <td>2219.0</td>\n",
       "      <td>3080.0</td>\n",
       "      <td>0.28</td>\n",
       "      <td>3.6</td>\n",
       "      <td>468.0</td>\n",
       "      <td>International design and styling|Two heat sett...</td>\n",
       "      <td>AGVPWCMAHYQWJOQKMUJN4DW3KM5Q,AF4Q3E66MY4SR7YQZ...</td>\n",
       "      <td>very good,Work but front melt after 2 month,Go...</td>\n",
       "      <td>plastic but cool body ,u have to find sturdy s...</td>\n",
       "      <td>1684.8</td>\n",
       "      <td>HeatConvectors</td>\n",
       "      <td>Home&amp;Kitchen</td>\n",
       "    </tr>\n",
       "    <tr>\n",
       "      <th>Havells Ventil Air DSP 230mm Exhaust Fan (Pista Green)</th>\n",
       "      <td>B00J5DYCCA</td>\n",
       "      <td>Home&amp;Kitchen</td>\n",
       "      <td>1399.0</td>\n",
       "      <td>1890.0</td>\n",
       "      <td>0.26</td>\n",
       "      <td>4.0</td>\n",
       "      <td>8031.0</td>\n",
       "      <td>Fan sweep area: 230 MM ; Noise level: (40 - 45...</td>\n",
       "      <td>AF2JQCLSCY3QJATWUNNHUSVUPNQQ,AFDMLUXC5LS5RXDJS...</td>\n",
       "      <td>Fan Speed is slow,Good quality,Good product,go...</td>\n",
       "      <td>I have installed this in my kitchen working fi...</td>\n",
       "      <td>32124.0</td>\n",
       "      <td>ExhaustFans</td>\n",
       "      <td>Home&amp;Kitchen</td>\n",
       "    </tr>\n",
       "    <tr>\n",
       "      <th>Borosil Jumbo 1000-Watt Grill Sandwich Maker (Black)</th>\n",
       "      <td>B01486F4G6</td>\n",
       "      <td>Home&amp;Kitchen</td>\n",
       "      <td>2863.0</td>\n",
       "      <td>3690.0</td>\n",
       "      <td>0.22</td>\n",
       "      <td>4.3</td>\n",
       "      <td>6987.0</td>\n",
       "      <td>Brand-Borosil, Specification â€“ 23V ~ 5Hz;1 W...</td>\n",
       "      <td>AFGW5PT3R6ZAVQR4Y5MWVAKBZAYA,AG7QNJ2SCS5VS5VYY...</td>\n",
       "      <td>Works perfect,Ok good product,Nice Product. Re...</td>\n",
       "      <td>It does it job perfectly..only issue is temp c...</td>\n",
       "      <td>30044.1</td>\n",
       "      <td>SandwichMakers</td>\n",
       "      <td>Home&amp;Kitchen</td>\n",
       "    </tr>\n",
       "  </tbody>\n",
       "</table>\n",
       "<p>1462 rows × 14 columns</p>\n",
       "</div>"
      ],
      "text/plain": [
       "                                                    product_id  \\\n",
       "product_name                                                     \n",
       "Wayona Nylon Braided USB to Lightning Fast Char...  B07JW9H4J1   \n",
       "Ambrane Unbreakable 60W / 3A Fast Charging 1.5m...  B098NS6PVG   \n",
       "Sounce Fast Phone Charging Cable & Data Sync US...  B096MSW6CT   \n",
       "boAt Deuce USB 300 2 in 1 Type-C & Micro USB St...  B08HDJ86NZ   \n",
       "Portronics Konnect L 1.2M Fast Charging 3A 8 Pi...  B08CF3B7N1   \n",
       "...                                                        ...   \n",
       "Noir Aqua - 5pcs PP Spun Filter + 1 Spanner | f...  B08L7J3T31   \n",
       "Prestige Delight PRWO Electric Rice Cooker (1 L...  B01M6453MB   \n",
       "Bajaj Majesty RX10 2000 Watts Heat Convector Ro...  B009P2LIL4   \n",
       "Havells Ventil Air DSP 230mm Exhaust Fan (Pista...  B00J5DYCCA   \n",
       "Borosil Jumbo 1000-Watt Grill Sandwich Maker (B...  B01486F4G6   \n",
       "\n",
       "                                                                 category  \\\n",
       "product_name                                                                \n",
       "Wayona Nylon Braided USB to Lightning Fast Char...  Computers&Accessories   \n",
       "Ambrane Unbreakable 60W / 3A Fast Charging 1.5m...  Computers&Accessories   \n",
       "Sounce Fast Phone Charging Cable & Data Sync US...  Computers&Accessories   \n",
       "boAt Deuce USB 300 2 in 1 Type-C & Micro USB St...  Computers&Accessories   \n",
       "Portronics Konnect L 1.2M Fast Charging 3A 8 Pi...  Computers&Accessories   \n",
       "...                                                                   ...   \n",
       "Noir Aqua - 5pcs PP Spun Filter + 1 Spanner | f...           Home&Kitchen   \n",
       "Prestige Delight PRWO Electric Rice Cooker (1 L...           Home&Kitchen   \n",
       "Bajaj Majesty RX10 2000 Watts Heat Convector Ro...           Home&Kitchen   \n",
       "Havells Ventil Air DSP 230mm Exhaust Fan (Pista...           Home&Kitchen   \n",
       "Borosil Jumbo 1000-Watt Grill Sandwich Maker (B...           Home&Kitchen   \n",
       "\n",
       "                                                    discounted_price  \\\n",
       "product_name                                                           \n",
       "Wayona Nylon Braided USB to Lightning Fast Char...             399.0   \n",
       "Ambrane Unbreakable 60W / 3A Fast Charging 1.5m...             199.0   \n",
       "Sounce Fast Phone Charging Cable & Data Sync US...             199.0   \n",
       "boAt Deuce USB 300 2 in 1 Type-C & Micro USB St...             329.0   \n",
       "Portronics Konnect L 1.2M Fast Charging 3A 8 Pi...             154.0   \n",
       "...                                                              ...   \n",
       "Noir Aqua - 5pcs PP Spun Filter + 1 Spanner | f...             379.0   \n",
       "Prestige Delight PRWO Electric Rice Cooker (1 L...            2280.0   \n",
       "Bajaj Majesty RX10 2000 Watts Heat Convector Ro...            2219.0   \n",
       "Havells Ventil Air DSP 230mm Exhaust Fan (Pista...            1399.0   \n",
       "Borosil Jumbo 1000-Watt Grill Sandwich Maker (B...            2863.0   \n",
       "\n",
       "                                                    actual_price  \\\n",
       "product_name                                                       \n",
       "Wayona Nylon Braided USB to Lightning Fast Char...        1099.0   \n",
       "Ambrane Unbreakable 60W / 3A Fast Charging 1.5m...         349.0   \n",
       "Sounce Fast Phone Charging Cable & Data Sync US...        1899.0   \n",
       "boAt Deuce USB 300 2 in 1 Type-C & Micro USB St...         699.0   \n",
       "Portronics Konnect L 1.2M Fast Charging 3A 8 Pi...         399.0   \n",
       "...                                                          ...   \n",
       "Noir Aqua - 5pcs PP Spun Filter + 1 Spanner | f...         919.0   \n",
       "Prestige Delight PRWO Electric Rice Cooker (1 L...        3045.0   \n",
       "Bajaj Majesty RX10 2000 Watts Heat Convector Ro...        3080.0   \n",
       "Havells Ventil Air DSP 230mm Exhaust Fan (Pista...        1890.0   \n",
       "Borosil Jumbo 1000-Watt Grill Sandwich Maker (B...        3690.0   \n",
       "\n",
       "                                                    discount_percentage  \\\n",
       "product_name                                                              \n",
       "Wayona Nylon Braided USB to Lightning Fast Char...                 0.64   \n",
       "Ambrane Unbreakable 60W / 3A Fast Charging 1.5m...                 0.43   \n",
       "Sounce Fast Phone Charging Cable & Data Sync US...                 0.90   \n",
       "boAt Deuce USB 300 2 in 1 Type-C & Micro USB St...                 0.53   \n",
       "Portronics Konnect L 1.2M Fast Charging 3A 8 Pi...                 0.61   \n",
       "...                                                                 ...   \n",
       "Noir Aqua - 5pcs PP Spun Filter + 1 Spanner | f...                 0.59   \n",
       "Prestige Delight PRWO Electric Rice Cooker (1 L...                 0.25   \n",
       "Bajaj Majesty RX10 2000 Watts Heat Convector Ro...                 0.28   \n",
       "Havells Ventil Air DSP 230mm Exhaust Fan (Pista...                 0.26   \n",
       "Borosil Jumbo 1000-Watt Grill Sandwich Maker (B...                 0.22   \n",
       "\n",
       "                                                    rating  rating_count  \\\n",
       "product_name                                                               \n",
       "Wayona Nylon Braided USB to Lightning Fast Char...     4.2       24269.0   \n",
       "Ambrane Unbreakable 60W / 3A Fast Charging 1.5m...     4.0       43994.0   \n",
       "Sounce Fast Phone Charging Cable & Data Sync US...     3.9        7928.0   \n",
       "boAt Deuce USB 300 2 in 1 Type-C & Micro USB St...     4.2       94363.0   \n",
       "Portronics Konnect L 1.2M Fast Charging 3A 8 Pi...     4.2       16905.0   \n",
       "...                                                    ...           ...   \n",
       "Noir Aqua - 5pcs PP Spun Filter + 1 Spanner | f...     4.0        1090.0   \n",
       "Prestige Delight PRWO Electric Rice Cooker (1 L...     4.1        4118.0   \n",
       "Bajaj Majesty RX10 2000 Watts Heat Convector Ro...     3.6         468.0   \n",
       "Havells Ventil Air DSP 230mm Exhaust Fan (Pista...     4.0        8031.0   \n",
       "Borosil Jumbo 1000-Watt Grill Sandwich Maker (B...     4.3        6987.0   \n",
       "\n",
       "                                                                                        about_product  \\\n",
       "product_name                                                                                            \n",
       "Wayona Nylon Braided USB to Lightning Fast Char...  High Compatibility : Compatible With iPhone 12...   \n",
       "Ambrane Unbreakable 60W / 3A Fast Charging 1.5m...  Compatible with all Type C enabled devices, be...   \n",
       "Sounce Fast Phone Charging Cable & Data Sync US...  【 Fast Charger& Data Sync】-With built-in safet...   \n",
       "boAt Deuce USB 300 2 in 1 Type-C & Micro USB St...  The boAt Deuce USB 300 2 in 1 cable is compati...   \n",
       "Portronics Konnect L 1.2M Fast Charging 3A 8 Pi...  [CHARGE & SYNC FUNCTION]- This cable comes wit...   \n",
       "...                                                                                               ...   \n",
       "Noir Aqua - 5pcs PP Spun Filter + 1 Spanner | f...  SUPREME QUALITY 90 GRAM 3 LAYER THIK PP SPUN F...   \n",
       "Prestige Delight PRWO Electric Rice Cooker (1 L...                       230 Volts, 400 watts, 1 Year   \n",
       "Bajaj Majesty RX10 2000 Watts Heat Convector Ro...  International design and styling|Two heat sett...   \n",
       "Havells Ventil Air DSP 230mm Exhaust Fan (Pista...  Fan sweep area: 230 MM ; Noise level: (40 - 45...   \n",
       "Borosil Jumbo 1000-Watt Grill Sandwich Maker (B...  Brand-Borosil, Specification â€“ 23V ~ 5Hz;1 W...   \n",
       "\n",
       "                                                                                              user_id  \\\n",
       "product_name                                                                                            \n",
       "Wayona Nylon Braided USB to Lightning Fast Char...  AG3D6O4STAQKAY2UVGEUV46KN35Q,AHMY5CWJMMK5BJRBB...   \n",
       "Ambrane Unbreakable 60W / 3A Fast Charging 1.5m...  AECPFYFQVRUWC3KGNLJIOREFP5LQ,AGYYVPDD7YG7FYNBX...   \n",
       "Sounce Fast Phone Charging Cable & Data Sync US...  AGU3BBQ2V2DDAMOAKGFAWDDQ6QHA,AESFLDV2PT363T2AQ...   \n",
       "boAt Deuce USB 300 2 in 1 Type-C & Micro USB St...  AEWAZDZZJLQUYVOVGBEUKSLXHQ5A,AG5HTSFRRE6NL3M5S...   \n",
       "Portronics Konnect L 1.2M Fast Charging 3A 8 Pi...  AE3Q6KSUK5P75D5HFYHCRAOLODSA,AFUGIFH5ZAFXRDSZH...   \n",
       "...                                                                                               ...   \n",
       "Noir Aqua - 5pcs PP Spun Filter + 1 Spanner | f...  AHITFY6AHALOFOHOZEOC6XBP4FEA,AFRABBODZJZQB6Z4U...   \n",
       "Prestige Delight PRWO Electric Rice Cooker (1 L...  AFG5FM3NEMOL6BNFRV2NK5FNJCHQ,AGEINTRN6Z563RMLH...   \n",
       "Bajaj Majesty RX10 2000 Watts Heat Convector Ro...  AGVPWCMAHYQWJOQKMUJN4DW3KM5Q,AF4Q3E66MY4SR7YQZ...   \n",
       "Havells Ventil Air DSP 230mm Exhaust Fan (Pista...  AF2JQCLSCY3QJATWUNNHUSVUPNQQ,AFDMLUXC5LS5RXDJS...   \n",
       "Borosil Jumbo 1000-Watt Grill Sandwich Maker (B...  AFGW5PT3R6ZAVQR4Y5MWVAKBZAYA,AG7QNJ2SCS5VS5VYY...   \n",
       "\n",
       "                                                                                         review_title  \\\n",
       "product_name                                                                                            \n",
       "Wayona Nylon Braided USB to Lightning Fast Char...  Satisfied,Charging is really fast,Value for mo...   \n",
       "Ambrane Unbreakable 60W / 3A Fast Charging 1.5m...  A Good Braided Cable for Your Type C Device,Go...   \n",
       "Sounce Fast Phone Charging Cable & Data Sync US...  Good speed for earlier versions,Good Product,W...   \n",
       "boAt Deuce USB 300 2 in 1 Type-C & Micro USB St...  Good product,Good one,Nice,Really nice product...   \n",
       "Portronics Konnect L 1.2M Fast Charging 3A 8 Pi...  As good as original,Decent,Good one for second...   \n",
       "...                                                                                               ...   \n",
       "Noir Aqua - 5pcs PP Spun Filter + 1 Spanner | f...  Received the product without spanner,Excellent...   \n",
       "Prestige Delight PRWO Electric Rice Cooker (1 L...  ok,everything was good couldn't return bcoz I ...   \n",
       "Bajaj Majesty RX10 2000 Watts Heat Convector Ro...  very good,Work but front melt after 2 month,Go...   \n",
       "Havells Ventil Air DSP 230mm Exhaust Fan (Pista...  Fan Speed is slow,Good quality,Good product,go...   \n",
       "Borosil Jumbo 1000-Watt Grill Sandwich Maker (B...  Works perfect,Ok good product,Nice Product. Re...   \n",
       "\n",
       "                                                                                       review_content  \\\n",
       "product_name                                                                                            \n",
       "Wayona Nylon Braided USB to Lightning Fast Char...  Looks durable Charging is fine tooNo complains...   \n",
       "Ambrane Unbreakable 60W / 3A Fast Charging 1.5m...  I ordered this cable to connect my phone to An...   \n",
       "Sounce Fast Phone Charging Cable & Data Sync US...  Not quite durable and sturdy,https://m.media-a...   \n",
       "boAt Deuce USB 300 2 in 1 Type-C & Micro USB St...  Good product,long wire,Charges good,Nice,I bou...   \n",
       "Portronics Konnect L 1.2M Fast Charging 3A 8 Pi...  Bought this instead of original apple, does th...   \n",
       "...                                                                                               ...   \n",
       "Noir Aqua - 5pcs PP Spun Filter + 1 Spanner | f...  I received product without spanner,Excellent p...   \n",
       "Prestige Delight PRWO Electric Rice Cooker (1 L...  ok,got everything as mentioned but the measuri...   \n",
       "Bajaj Majesty RX10 2000 Watts Heat Convector Ro...  plastic but cool body ,u have to find sturdy s...   \n",
       "Havells Ventil Air DSP 230mm Exhaust Fan (Pista...  I have installed this in my kitchen working fi...   \n",
       "Borosil Jumbo 1000-Watt Grill Sandwich Maker (B...  It does it job perfectly..only issue is temp c...   \n",
       "\n",
       "                                                    rating_weighted  \\\n",
       "product_name                                                          \n",
       "Wayona Nylon Braided USB to Lightning Fast Char...         101929.8   \n",
       "Ambrane Unbreakable 60W / 3A Fast Charging 1.5m...         175976.0   \n",
       "Sounce Fast Phone Charging Cable & Data Sync US...          30919.2   \n",
       "boAt Deuce USB 300 2 in 1 Type-C & Micro USB St...         396324.6   \n",
       "Portronics Konnect L 1.2M Fast Charging 3A 8 Pi...          71001.0   \n",
       "...                                                             ...   \n",
       "Noir Aqua - 5pcs PP Spun Filter + 1 Spanner | f...           4360.0   \n",
       "Prestige Delight PRWO Electric Rice Cooker (1 L...          16883.8   \n",
       "Bajaj Majesty RX10 2000 Watts Heat Convector Ro...           1684.8   \n",
       "Havells Ventil Air DSP 230mm Exhaust Fan (Pista...          32124.0   \n",
       "Borosil Jumbo 1000-Watt Grill Sandwich Maker (B...          30044.1   \n",
       "\n",
       "                                                                sub_category  \\\n",
       "product_name                                                                   \n",
       "Wayona Nylon Braided USB to Lightning Fast Char...                 USBCables   \n",
       "Ambrane Unbreakable 60W / 3A Fast Charging 1.5m...                 USBCables   \n",
       "Sounce Fast Phone Charging Cable & Data Sync US...                 USBCables   \n",
       "boAt Deuce USB 300 2 in 1 Type-C & Micro USB St...                 USBCables   \n",
       "Portronics Konnect L 1.2M Fast Charging 3A 8 Pi...                 USBCables   \n",
       "...                                                                      ...   \n",
       "Noir Aqua - 5pcs PP Spun Filter + 1 Spanner | f...  WaterPurifierAccessories   \n",
       "Prestige Delight PRWO Electric Rice Cooker (1 L...         Rice&PastaCookers   \n",
       "Bajaj Majesty RX10 2000 Watts Heat Convector Ro...            HeatConvectors   \n",
       "Havells Ventil Air DSP 230mm Exhaust Fan (Pista...               ExhaustFans   \n",
       "Borosil Jumbo 1000-Watt Grill Sandwich Maker (B...            SandwichMakers   \n",
       "\n",
       "                                                            main_category  \n",
       "product_name                                                               \n",
       "Wayona Nylon Braided USB to Lightning Fast Char...  Computers&Accessories  \n",
       "Ambrane Unbreakable 60W / 3A Fast Charging 1.5m...  Computers&Accessories  \n",
       "Sounce Fast Phone Charging Cable & Data Sync US...  Computers&Accessories  \n",
       "boAt Deuce USB 300 2 in 1 Type-C & Micro USB St...  Computers&Accessories  \n",
       "Portronics Konnect L 1.2M Fast Charging 3A 8 Pi...  Computers&Accessories  \n",
       "...                                                                   ...  \n",
       "Noir Aqua - 5pcs PP Spun Filter + 1 Spanner | f...           Home&Kitchen  \n",
       "Prestige Delight PRWO Electric Rice Cooker (1 L...           Home&Kitchen  \n",
       "Bajaj Majesty RX10 2000 Watts Heat Convector Ro...           Home&Kitchen  \n",
       "Havells Ventil Air DSP 230mm Exhaust Fan (Pista...           Home&Kitchen  \n",
       "Borosil Jumbo 1000-Watt Grill Sandwich Maker (B...           Home&Kitchen  \n",
       "\n",
       "[1462 rows x 14 columns]"
      ]
     },
     "execution_count": 23,
     "metadata": {},
     "output_type": "execute_result"
    }
   ],
   "source": [
    "df.set_index('product_name')"
   ]
  },
  {
   "cell_type": "markdown",
   "id": "0652cff6",
   "metadata": {},
   "source": [
    "##### EDA + VISUALIZATION"
   ]
  },
  {
   "cell_type": "markdown",
   "id": "22c3c91e",
   "metadata": {},
   "source": [
    "> In this phase I will do some exploratory data analysis. Takin a closer look at the data to comprehend how our produtucs are distributed across categories,how customer ratings and reviews are structured, and what consumers are saying"
   ]
  },
  {
   "cell_type": "code",
   "execution_count": null,
   "id": "dabe6092",
   "metadata": {},
   "outputs": [],
   "source": [
    "# Analyzing distribution of products by main category"
   ]
  },
  {
   "cell_type": "code",
   "execution_count": 25,
   "id": "36ffc400",
   "metadata": {},
   "outputs": [
    {
     "data": {
      "image/png": "[encoded data removed]",
      "text/plain": [
       "<Figure size 640x480 with 1 Axes>"
      ]
     },
     "metadata": {},
     "output_type": "display_data"
    }
   ],
   "source": [
    "main_category_counts = df['main_category'].value_counts()[:30] # Select only the top 30 main categories.\n",
    "plt.bar(range(len(main_category_counts)), main_category_counts.values)\n",
    "plt.ylabel('Number of Products')\n",
    "plt.title('Distribution of Products by Main Category (Top 30)')\n",
    "plt.xticks(range(len(main_category_counts)), '') # hide X-axis labels\n",
    "plt.show()"
   ]
  },
  {
   "cell_type": "code",
   "execution_count": null,
   "id": "54d103c4",
   "metadata": {},
   "outputs": [],
   "source": [
    "# Top 30 main categories "
   ]
  },
  {
   "cell_type": "code",
   "execution_count": 26,
   "id": "a77dabc8",
   "metadata": {},
   "outputs": [
    {
     "name": "stdout",
     "output_type": "stream",
     "text": [
      "Top 30 main categories:\n",
      "        Main Category  Number of Products\n",
      "          Electronics                 526\n",
      "Computers&Accessories                 451\n",
      "         Home&Kitchen                 447\n",
      "       OfficeProducts                  31\n",
      "   MusicalInstruments                   2\n",
      "      HomeImprovement                   2\n",
      "           Toys&Games                   1\n",
      "        Car&Motorbike                   1\n",
      "  Health&PersonalCare                   1\n"
     ]
    }
   ],
   "source": [
    "top_main_categories = pd.DataFrame({'Main Category': main_category_counts.index, 'Number of Products': main_category_counts.values})\n",
    "print('Top 30 main categories:')\n",
    "print(top_main_categories.to_string(index=False))"
   ]
  },
  {
   "cell_type": "markdown",
   "id": "07cf992b",
   "metadata": {},
   "source": [
    "> Based on the results, we can infer the following insights: The most prominent categories are Electronics, Computers & Accessories, and Home & Kitchen, demonstrating their popularity among customers. Conversely, other main categories have a notably lower product count, indicating lesser popularity. Specifically, Office Products, Musical Instruments, Home Improvement, Toys & Games, Car & Motorbike, and Health & Personal Care exhibit a limited product presence, suggesting potentially lower demand. In sum, this data provides valuable market trends for businesses to discern and potentially identify growth opportunities in specific categories."
   ]
  },
  {
   "cell_type": "code",
   "execution_count": null,
   "id": "9291aa57",
   "metadata": {},
   "outputs": [],
   "source": [
    "# Analyzing distribution of products by last category"
   ]
  },
  {
   "cell_type": "code",
   "execution_count": 27,
   "id": "ca2f3589",
   "metadata": {},
   "outputs": [
    {
     "data": {
      "image/png": "[encoded data removed]",
      "text/plain": [
       "<Figure size 640x480 with 1 Axes>"
      ]
     },
     "metadata": {},
     "output_type": "display_data"
    }
   ],
   "source": [
    "sub_category_counts = df['sub_category'].value_counts()[:30] # Select only the top 30 last categories.\n",
    "plt.bar(range(len(sub_category_counts)), sub_category_counts.values)\n",
    "plt.ylabel('Number of Products')\n",
    "plt.title('Distribution of Products by Sub Category (Top 30)')\n",
    "plt.xticks(range(len(sub_category_counts)), '') # hide X-axis labels\n",
    "plt.show()"
   ]
  },
  {
   "cell_type": "code",
   "execution_count": null,
   "id": "985fd759",
   "metadata": {},
   "outputs": [],
   "source": [
    "# Top 30 sub categories "
   ]
  },
  {
   "cell_type": "code",
   "execution_count": 28,
   "id": "21d5c21d",
   "metadata": {},
   "outputs": [
    {
     "name": "stdout",
     "output_type": "stream",
     "text": [
      "Top 30 sub categories:\n",
      "            Sub Category  Number of Products\n",
      "               USBCables                 231\n",
      "            SmartWatches                  76\n",
      "             Smartphones                  68\n",
      "        SmartTelevisions                  63\n",
      "                  In-Ear                  52\n",
      "          RemoteControls                  49\n",
      "           MixerGrinders                  27\n",
      "              HDMICables                  24\n",
      "                DryIrons                  24\n",
      "                    Mice                  24\n",
      "     InstantWaterHeaters                  23\n",
      "             LintShavers                  22\n",
      "              FanHeaters                  20\n",
      "         ElectricHeaters                  20\n",
      "         ElectricKettles                  19\n",
      "            HandBlenders                  19\n",
      "     WirelessUSBAdapters                  18\n",
      "            WallChargers                  16\n",
      "                Lapdesks                  14\n",
      "          LaundryBaskets                  13\n",
      "                 MicroSD                  13\n",
      "      Kettle&ToasterSets                  13\n",
      "              SteamIrons                  12\n",
      "     JuicerMixerGrinders                  12\n",
      "  WaterFilters&Purifiers                  12\n",
      "        ScreenProtectors                  12\n",
      "     StorageWaterHeaters                  12\n",
      "              PowerBanks                  12\n",
      "          SandwichMakers                  11\n",
      "WaterPurifierAccessories                  11\n"
     ]
    }
   ],
   "source": [
    "top_sub_categories = pd.DataFrame({'Sub Category': sub_category_counts.index, 'Number of Products': sub_category_counts.values})\n",
    "print('Top 30 sub categories:')\n",
    "print(top_sub_categories.to_string(index=False))"
   ]
  },
  {
   "cell_type": "code",
   "execution_count": 29,
   "id": "09a21ac5",
   "metadata": {},
   "outputs": [
    {
     "data": {
      "image/png": "[encoded data removed]",
      "text/plain": [
       "<Figure size 640x480 with 1 Axes>"
      ]
     },
     "metadata": {},
     "output_type": "display_data"
    }
   ],
   "source": [
    "# 3.2 Analyze the distribution of customer ratings using a histogram.\n",
    "# Plot histogram\n",
    "plt.hist(df['rating'])\n",
    "plt.xlabel('Rating')\n",
    "plt.ylabel('Number of Reviews')\n",
    "plt.title('Distribution of Customer Ratings')\n",
    "plt.show()"
   ]
  },
  {
   "cell_type": "code",
   "execution_count": 30,
   "id": "75f4a5e7",
   "metadata": {},
   "outputs": [
    {
     "name": "stdout",
     "output_type": "stream",
     "text": [
      "  Cluster  Number of Reviews\n",
      "4     0-1                  0\n",
      "3     1-2                  1\n",
      "2     2-3                  8\n",
      "1     3-4                525\n",
      "0     4-5                928\n"
     ]
    }
   ],
   "source": [
    "# Create table with values per cluster\n",
    "bins = [0, 1, 2, 3, 4, 5] # Define bin edges\n",
    "df['cluster'] = pd.cut(df['rating'], bins=bins, include_lowest=True, labels=['0-1', '1-2', '2-3', '3-4', '4-5'])\n",
    "table = df['cluster'].value_counts().reset_index().sort_values('index').rename(columns={'index': 'Cluster', 'cluster': 'Number of Reviews'})\n",
    "print(table)"
   ]
  },
  {
   "cell_type": "markdown",
   "id": "b336d42d",
   "metadata": {},
   "source": [
    "> The analysis reveals the following insights:\n",
    ">\n",
    ">   * The majority of customer ratings fall within the 3-4 and 4-5 range, comprising a total of 1453 reviews.\n",
    ">   * Notably, there is a rise in reviews within the 2-3 range, compared to the lower 0-1 and 1-2 ranges.\n",
    ">   * The 0-1 range exhibits the fewest reviews, indicating potential areas for enhancing customer satisfaction.\n",
    ">\n",
    "> In summary, while most customers express satisfaction, there are opportunities to further elevate positive ratings."
   ]
  },
  {
   "cell_type": "code",
   "execution_count": 32,
   "id": "4b9dc64a",
   "metadata": {},
   "outputs": [
    {
     "data": {
      "text/plain": [
       "<AxesSubplot:xlabel='discounted_price', ylabel='rating_count'>"
      ]
     },
     "execution_count": 32,
     "metadata": {},
     "output_type": "execute_result"
    },
    {
     "data": {
      "image/png": "[encoded data removed]",
      "text/plain": [
       "<Figure size 1500x500 with 1 Axes>"
      ]
     },
     "metadata": {},
     "output_type": "display_data"
    }
   ],
   "source": [
    "# Demand relation with discount\n",
    "plt.figure(figsize=(15,5))\n",
    "sns.regplot(data=df, x='discounted_price', y='rating_count', )"
   ]
  },
  {
   "cell_type": "markdown",
   "id": "504a64f3",
   "metadata": {},
   "source": [
    "##### APPLY MODEL"
   ]
  },
  {
   "cell_type": "code",
   "execution_count": 49,
   "id": "2353a862",
   "metadata": {},
   "outputs": [],
   "source": [
    "X1 = df[['rating', 'rating_count', 'actual_price']]\n",
    "y1 = df['discounted_price']"
   ]
  },
  {
   "cell_type": "code",
   "execution_count": 50,
   "id": "fe330580",
   "metadata": {},
   "outputs": [],
   "source": [
    "from sklearn.model_selection import train_test_split\n",
    "from sklearn.linear_model import LinearRegression\n",
    "\n",
    "X1_train, X1_test, y1_train, y1_test = train_test_split(X1, y1, test_size = 0.2)\n",
    "lr_model = LinearRegression()\n",
    "lr_model.fit(X1_train, y1_train)\n",
    "\n",
    "y1_pred = lr_model.predict(X1_test)"
   ]
  },
  {
   "cell_type": "code",
   "execution_count": 51,
   "id": "4abe43ff",
   "metadata": {},
   "outputs": [
    {
     "name": "stdout",
     "output_type": "stream",
     "text": [
      "Linear Regression Intercept:  -619.0332522719436\n",
      "Linear Regression Coefficient:  [9.75485570e+01 1.43517417e-03 6.11979776e-01]\n",
      "R2 Score:  0.9017221574541873\n"
     ]
    }
   ],
   "source": [
    "# Calculating Intercept, Coefficient, R Squared Value\n",
    "from sklearn.metrics import r2_score\n",
    "\n",
    "print('Linear Regression Intercept: ',lr_model.intercept_)\n",
    "print('Linear Regression Coefficient: ',lr_model.coef_)\n",
    "print('R2 Score: ', r2_score(y1_test, y1_pred))"
   ]
  },
  {
   "cell_type": "code",
   "execution_count": 52,
   "id": "098c7e3f",
   "metadata": {},
   "outputs": [],
   "source": [
    "#### SCALING"
   ]
  },
  {
   "cell_type": "code",
   "execution_count": 54,
   "id": "d7e04720",
   "metadata": {},
   "outputs": [],
   "source": [
    "from sklearn.preprocessing import StandardScaler\n",
    "\n",
    "scaler = StandardScaler()\n",
    "\n",
    "X2 = df[['rating', 'rating_count', 'actual_price']]\n",
    "y2 = df['discounted_price']\n",
    "\n",
    "X2 = scaler.fit_transform(X2)"
   ]
  },
  {
   "cell_type": "code",
   "execution_count": 55,
   "id": "72706c6f",
   "metadata": {},
   "outputs": [
    {
     "name": "stdout",
     "output_type": "stream",
     "text": [
      "R2 Score: 0.9367094189011956\n"
     ]
    }
   ],
   "source": [
    "X2_train, X2_test, y2_train, y2_test = train_test_split(X2, y2, test_size = 0.2)\n",
    "\n",
    "lr_model.fit(X2_train, y2_train)\n",
    "\n",
    "y2_pred = lr_model.predict(X2_test)\n",
    "print('R2 Score:', r2_score(y2_test, y2_pred))"
   ]
  },
  {
   "cell_type": "code",
   "execution_count": null,
   "id": "f56f336e",
   "metadata": {},
   "outputs": [],
   "source": [
    "##### LASSO"
   ]
  },
  {
   "cell_type": "code",
   "execution_count": 56,
   "id": "fe33f309",
   "metadata": {},
   "outputs": [
    {
     "name": "stdout",
     "output_type": "stream",
     "text": [
      "Lasso coefficients:  [   9.00166899   39.53967714 6574.05113032]\n",
      "Lasso score:  0.9367068841343661\n"
     ]
    }
   ],
   "source": [
    "from sklearn.linear_model import Lasso\n",
    "\n",
    "lasso = Lasso(alpha=0.1)\n",
    "lasso.fit(X2_train, y2_train)\n",
    "\n",
    "lasso_pred = lasso.predict(X2_test)\n",
    "\n",
    "print('Lasso coefficients: ',lasso.coef_)\n",
    "print('Lasso score: ',lasso.score(X2_test, y2_test))"
   ]
  },
  {
   "cell_type": "code",
   "execution_count": null,
   "id": "fe4056b6",
   "metadata": {},
   "outputs": [],
   "source": [
    "#### RIDGE"
   ]
  },
  {
   "cell_type": "code",
   "execution_count": 57,
   "id": "dcace7c7",
   "metadata": {},
   "outputs": [
    {
     "name": "stdout",
     "output_type": "stream",
     "text": [
      "Ridge score:  0.9366974252867827\n"
     ]
    }
   ],
   "source": [
    "from sklearn.linear_model import Ridge\n",
    "ridge = Ridge(alpha = 0.1)\n",
    "\n",
    "ridge.fit(X2_train, y2_train)\n",
    "ridge_pred = ridge.predict(X2_test)\n",
    "print('Ridge score: ',ridge.score(X2_test, y2_test))"
   ]
  },
  {
   "cell_type": "code",
   "execution_count": null,
   "id": "2ae2868d",
   "metadata": {},
   "outputs": [],
   "source": []
  },
  {
   "cell_type": "markdown",
   "id": "2a4fbac1",
   "metadata": {},
   "source": [
    "<a id=\"1\"></a>\n",
    "# <p style=\"padding:10px;background-color:#257CCB;margin:0;color:white;font-family:arial;font-size:100%;text-align:center;border-radius: 15px 50px;overflow:hidden;font-weight:500\"></p>"
   ]
  },
  {
   "cell_type": "markdown",
   "id": "6b734dda",
   "metadata": {},
   "source": [
    "##### TEXT PREPROCESSING"
   ]
  },
  {
   "cell_type": "code",
   "execution_count": null,
   "id": "2a95ff10",
   "metadata": {},
   "outputs": [],
   "source": []
  },
  {
   "cell_type": "code",
   "execution_count": 33,
   "id": "918143f4",
   "metadata": {},
   "outputs": [
    {
     "data": {
      "text/plain": [
       "0    Looks durable Charging is fine tooNo complains...\n",
       "1    I ordered this cable to connect my phone to An...\n",
       "2    Not quite durable and sturdy,https://m.media-a...\n",
       "3    Good product,long wire,Charges good,Nice,I bou...\n",
       "4    Bought this instead of original apple, does th...\n",
       "5    It's a good product.,Like,Very good item stron...\n",
       "6    Build quality is good and it is comes with 2 y...\n",
       "7    Worth for money - suitable for Android auto......\n",
       "8    I use this to connect an old PC to internet. I...\n",
       "9    I ordered this cable to connect my phone to An...\n",
       "Name: review_content, dtype: object"
      ]
     },
     "execution_count": 33,
     "metadata": {},
     "output_type": "execute_result"
    }
   ],
   "source": [
    "# Print plot overviews of the first 10 review content.\n",
    "df['review_content'].head(10)"
   ]
  },
  {
   "cell_type": "code",
   "execution_count": 34,
   "id": "47d87220",
   "metadata": {},
   "outputs": [
    {
     "data": {
      "text/plain": [
       "(1462, 13826)"
      ]
     },
     "execution_count": 34,
     "metadata": {},
     "output_type": "execute_result"
    }
   ],
   "source": [
    "# Import TfIdfVectorizer from scikit-learn\n",
    "from sklearn.feature_extraction.text import TfidfVectorizer\n",
    "\n",
    "# Define a TF-IDF Vectorizer Object. Remove all english stop words such as 'the', 'a'\n",
    "tfidf = TfidfVectorizer(stop_words = 'english')\n",
    "\n",
    "# Replace NaN with an empty string\n",
    "df['review_content'] = df['review_content'].fillna('')\n",
    "\n",
    "# Construct the required TF-IDF matrix by fitting and transforming the data\n",
    "tfidf_matrix = tfidf.fit_transform(df['review_content'])\n",
    "\n",
    "# Output the shape of tfidf_matrix\n",
    "tfidf_matrix.shape"
   ]
  },
  {
   "cell_type": "code",
   "execution_count": 35,
   "id": "bbae3cba",
   "metadata": {},
   "outputs": [
    {
     "data": {
      "text/plain": [
       "array(['exist', 'existent', 'existing', 'exists', 'exlent', 'exllent',\n",
       "       'expand', 'expandable', 'expanded', 'expanding'], dtype=object)"
      ]
     },
     "execution_count": 35,
     "metadata": {},
     "output_type": "execute_result"
    }
   ],
   "source": [
    "# Array mapping from feature integer indices to feature name.\n",
    "# In this code snippet, the [5000:5010] slice is used to get the feature names for the indices between 5000 and 5010 (exclusive).\n",
    "tfidf.get_feature_names_out()[5000:5010]"
   ]
  },
  {
   "cell_type": "markdown",
   "id": "48121bf0",
   "metadata": {},
   "source": [
    "> From the above output, you observe that 13826 different vocabularies or words in your dataset have 1462 review."
   ]
  },
  {
   "cell_type": "code",
   "execution_count": 36,
   "id": "0b102bf4",
   "metadata": {},
   "outputs": [],
   "source": [
    "# Import linear_kernel\n",
    "from sklearn.metrics.pairwise import linear_kernel\n",
    "\n",
    "# Compute the cosine similarity matrix\n",
    "cosine_sim = linear_kernel(tfidf_matrix[:10000], tfidf_matrix[:10000])"
   ]
  },
  {
   "cell_type": "code",
   "execution_count": 37,
   "id": "7fab2594",
   "metadata": {},
   "outputs": [
    {
     "data": {
      "text/plain": [
       "(1462, 1462)"
      ]
     },
     "execution_count": 37,
     "metadata": {},
     "output_type": "execute_result"
    }
   ],
   "source": [
    "cosine_sim.shape"
   ]
  },
  {
   "cell_type": "code",
   "execution_count": 38,
   "id": "bb0151e8",
   "metadata": {},
   "outputs": [
    {
     "data": {
      "text/plain": [
       "array([0.23957207, 1.        , 0.03289605, ..., 0.02845232, 0.03285085,\n",
       "       0.020841  ])"
      ]
     },
     "execution_count": 38,
     "metadata": {},
     "output_type": "execute_result"
    }
   ],
   "source": [
    "cosine_sim[1]"
   ]
  },
  {
   "cell_type": "markdown",
   "id": "39d54ed4",
   "metadata": {},
   "source": [
    "##### CALCULATE PRODUCT SIMILARITY"
   ]
  },
  {
   "cell_type": "code",
   "execution_count": 39,
   "id": "fb302d4c",
   "metadata": {},
   "outputs": [],
   "source": [
    "# Combine 'product_name' and 'review_content' into a single text column\n",
    "df['text'] = df['product_name'] + ' ' + df['review_content']"
   ]
  },
  {
   "cell_type": "code",
   "execution_count": 40,
   "id": "78e63ab3",
   "metadata": {},
   "outputs": [],
   "source": [
    "# Initialize TF-IDF vectorizer\n",
    "vectorizer = TfidfVectorizer()"
   ]
  },
  {
   "cell_type": "code",
   "execution_count": 41,
   "id": "c1e0ff31",
   "metadata": {},
   "outputs": [],
   "source": [
    "# Apply TF-IDF vectorization to 'text' column\n",
    "tfidf_matrix = vectorizer.fit_transform(df['text'])"
   ]
  },
  {
   "cell_type": "markdown",
   "id": "03fdbac0",
   "metadata": {},
   "source": [
    "##### GET PRODUCT RECOMMENDATIONS"
   ]
  },
  {
   "cell_type": "code",
   "execution_count": 42,
   "id": "c37e3358",
   "metadata": {},
   "outputs": [],
   "source": [
    "def get_product_recommendations(product_id, num_recommendations=5):\n",
    "    # Get the index of the product with the given ID\n",
    "    index = df[df['product_id'] == product_id].index[0]\n",
    "\n",
    "    # Get the pairwise similarity scores of the product\n",
    "    sim_scores = list(enumerate(cosine_sim[index]))\n",
    "\n",
    "    # Sort the products based on similarity scores\n",
    "    sim_scores = sorted(sim_scores, key=lambda x: x[1], reverse=True)\n",
    "\n",
    "    # Get the top N similar products\n",
    "    top_products = [df.iloc[score[0]] for score in sim_scores[1:num_recommendations+1]]\n",
    "\n",
    "    return top_products"
   ]
  },
  {
   "cell_type": "code",
   "execution_count": 43,
   "id": "cfdd663f",
   "metadata": {},
   "outputs": [],
   "source": [
    "# Replace 'product_id' with any product "
   ]
  },
  {
   "cell_type": "code",
   "execution_count": 44,
   "id": "b96812f6",
   "metadata": {},
   "outputs": [
    {
     "name": "stdout",
     "output_type": "stream",
     "text": [
      "[product_id                                                    B08CF3B7N1\n",
      "product_name           Portronics Konnect L 1.2M Fast Charging 3A 8 P...\n",
      "category                                           Computers&Accessories\n",
      "discounted_price                                                   154.0\n",
      "actual_price                                                       399.0\n",
      "discount_percentage                                                 0.61\n",
      "rating                                                               4.2\n",
      "rating_count                                                     16905.0\n",
      "about_product          [CHARGE & SYNC FUNCTION]- This cable comes wit...\n",
      "user_id                AE3Q6KSUK5P75D5HFYHCRAOLODSA,AFUGIFH5ZAFXRDSZH...\n",
      "review_title           As good as original,Decent,Good one for second...\n",
      "review_content         Bought this instead of original apple, does th...\n",
      "rating_weighted                                                  71001.0\n",
      "sub_category                                                   USBCables\n",
      "main_category                                      Computers&Accessories\n",
      "cluster                                                              4-5\n",
      "text                   Portronics Konnect L 1.2M Fast Charging 3A 8 P...\n",
      "Name: 393, dtype: object, product_id                                                    B08CF3B7N1\n",
      "product_name           Portronics Konnect L 1.2M Fast Charging 3A 8 P...\n",
      "category                                           Computers&Accessories\n",
      "discounted_price                                                   154.0\n",
      "actual_price                                                       399.0\n",
      "discount_percentage                                                 0.61\n",
      "rating                                                               4.2\n",
      "rating_count                                                     16905.0\n",
      "about_product          [CHARGE & SYNC FUNCTION]- This cable comes wit...\n",
      "user_id                AE3Q6KSUK5P75D5HFYHCRAOLODSA,AFUGIFH5ZAFXRDSZH...\n",
      "review_title           As good as original,Decent,Good one for second...\n",
      "review_content         Bought this instead of original apple, does th...\n",
      "rating_weighted                                                  71001.0\n",
      "sub_category                                                   USBCables\n",
      "main_category                                      Computers&Accessories\n",
      "cluster                                                              4-5\n",
      "text                   Portronics Konnect L 1.2M Fast Charging 3A 8 P...\n",
      "Name: 632, dtype: object, product_id                                                    B0B8SSZ76F\n",
      "product_name           Amazon Basics USB C to Lightning TPE MFi Certi...\n",
      "category                                           Computers&Accessories\n",
      "discounted_price                                                   799.0\n",
      "actual_price                                                      1999.0\n",
      "discount_percentage                                                  0.6\n",
      "rating                                                               4.2\n",
      "rating_count                                                      8583.0\n",
      "about_product          TPE MFi-certified charging cable to fast charg...\n",
      "user_id                AHXJZSVEOLZI5RBMJNOHPVSA2DNA,AGM3M7VSW4O2MBOMC...\n",
      "review_title           Perfect cable for my use. Far better than the ...\n",
      "review_content         I was looking for durable cable for my ipad ca...\n",
      "rating_weighted                                                  36048.6\n",
      "sub_category                                                   USBCables\n",
      "main_category                                      Computers&Accessories\n",
      "cluster                                                              4-5\n",
      "text                   Amazon Basics USB C to Lightning TPE MFi Certi...\n",
      "Name: 213, dtype: object, product_id                                                    B07DWFX9YS\n",
      "product_name           Amazon Basics USB A to Lightning PVC Molded Ny...\n",
      "category                                           Computers&Accessories\n",
      "discounted_price                                                   789.0\n",
      "actual_price                                                      1999.0\n",
      "discount_percentage                                                 0.61\n",
      "rating                                                               4.2\n",
      "rating_count                                                     34540.0\n",
      "about_product          MFi-certified charging cable for charging Appl...\n",
      "user_id                AEFJC2FTSOL3UWEG42NAOBRG5VTA,AFLEC3GF7O2FVX6GU...\n",
      "review_title           Looks more durable,cheap n best,Good length an...\n",
      "review_content         This is my third time which purchasing a light...\n",
      "rating_weighted                                                 145068.0\n",
      "sub_category                                                   USBCables\n",
      "main_category                                      Computers&Accessories\n",
      "cluster                                                              4-5\n",
      "text                   Amazon Basics USB A to Lightning PVC Molded Ny...\n",
      "Name: 259, dtype: object, product_id                                                    B08CHKQ8D4\n",
      "product_name           Wayona Type C to Lightning MFI Certified 20W F...\n",
      "category                                           Computers&Accessories\n",
      "discounted_price                                                   719.0\n",
      "actual_price                                                      1499.0\n",
      "discount_percentage                                                 0.52\n",
      "rating                                                               4.1\n",
      "rating_count                                                      1045.0\n",
      "about_product          【Power Delivery Fast Charging】: Charge your iP...\n",
      "user_id                AFKENW6K3CFMTD3EGXQCUGK5XWWA,AHW52L6QGPO7TTN7L...\n",
      "review_title           Good,I don’t like this product,Awesome product...\n",
      "review_content         Good,,Quality of cable is good and fast chargi...\n",
      "rating_weighted                                                   4284.5\n",
      "sub_category                                                   USBCables\n",
      "main_category                                      Computers&Accessories\n",
      "cluster                                                              4-5\n",
      "text                   Wayona Type C to Lightning MFI Certified 20W F...\n",
      "Name: 99, dtype: object]\n"
     ]
    }
   ],
   "source": [
    "product_id = 'B08CF3B7N1'  \n",
    "recommendations = get_product_recommendations(product_id)\n",
    "print(recommendations)"
   ]
  },
  {
   "cell_type": "code",
   "execution_count": 45,
   "id": "36504dbf",
   "metadata": {},
   "outputs": [
    {
     "name": "stdout",
     "output_type": "stream",
     "text": [
      "      User ID  Frequency\n",
      "0        1045         10\n",
      "1         622          8\n",
      "2         673          8\n",
      "3         253          7\n",
      "4          87          7\n",
      "...       ...        ...\n",
      "1186      505          1\n",
      "1187       11          1\n",
      "1188      897          1\n",
      "1189      369          1\n",
      "1190      432          1\n",
      "\n",
      "[1191 rows x 2 columns]\n",
      "1045\n"
     ]
    }
   ],
   "source": [
    "from sklearn.preprocessing import LabelEncoder\n",
    "\n",
    "le = LabelEncoder()\n",
    "df['user_id_encoded'] = le.fit_transform(df['user_id'])\n",
    "\n",
    "# Create a new dataframe with the user_id frequency table\n",
    "freq_table = pd.DataFrame({'User ID': df['user_id_encoded'].value_counts().index, 'Frequency': df['user_id_encoded'].value_counts().values})\n",
    "\n",
    "# Display the dataframe\n",
    "print(freq_table)\n",
    "id_example = freq_table.iloc[0,0]\n",
    "print(id_example)"
   ]
  },
  {
   "cell_type": "code",
   "execution_count": 46,
   "id": "52dc940c",
   "metadata": {},
   "outputs": [],
   "source": [
    "from sklearn.feature_extraction.text import TfidfVectorizer\n",
    "from sklearn.metrics.pairwise import cosine_similarity\n",
    "\n",
    "def recommend_products(df, user_id_encoded):\n",
    "    # Use TfidfVectorizer to transform the product descriptions into numerical feature vectors\n",
    "    tfidf = TfidfVectorizer(stop_words='english')\n",
    "    df['about_product'] = df['about_product'].fillna('')  # fill NaN values with empty string\n",
    "    tfidf_matrix = tfidf.fit_transform(df['about_product'])\n",
    "\n",
    "    # Get the purchase history for the user\n",
    "    user_history = df[df['user_id_encoded'] == user_id_encoded]\n",
    "\n",
    "    # Use cosine_similarity to calculate the similarity between each pair of product descriptions\n",
    "    # only for the products that the user has already purchased\n",
    "    indices = user_history.index.tolist()\n",
    "\n",
    "    if indices:\n",
    "        # Create a new similarity matrix with only the rows and columns for the purchased products\n",
    "        cosine_sim_user = cosine_similarity(tfidf_matrix[indices], tfidf_matrix)\n",
    "\n",
    "        # Create a pandas Series with product indices as the index and product names as the values\n",
    "        products = df.iloc[indices]['product_name']\n",
    "        indices = pd.Series(products.index, index=products)\n",
    "\n",
    "        # Get the indices and similarity scores of products similar to the ones the user has already purchased\n",
    "        similarity_scores = list(enumerate(cosine_sim_user[-1]))\n",
    "        similarity_scores = [(i, score) for (i, score) in similarity_scores if i not in indices]\n",
    "\n",
    "        # Sort the similarity scores in descending order\n",
    "        similarity_scores = sorted(similarity_scores, key=lambda x: x[1], reverse=True)\n",
    "\n",
    "        # Get the indices of the top 5 most similar products\n",
    "        top_products = [i[0] for i in similarity_scores[1:6]]\n",
    "\n",
    "        # Get the names of the top 5 most similar products\n",
    "        recommended_products = df.iloc[top_products]['product_name'].tolist()\n",
    "\n",
    "        # Get the reasons for the recommendation\n",
    "        score = [similarity_scores[i][1] for i in range(5)]\n",
    "\n",
    "        # Create a DataFrame with the results\n",
    "        results_df = pd.DataFrame({'Id Encoded': [user_id_encoded] * 5,\n",
    "                                   'recommended product': recommended_products,\n",
    "                                   'score recommendation': score})\n",
    "\n",
    "        return results_df\n",
    "\n",
    "    else:\n",
    "        print(\"No purchase history found.\")\n",
    "        return None"
   ]
  },
  {
   "cell_type": "code",
   "execution_count": 47,
   "id": "8a0367d5",
   "metadata": {},
   "outputs": [
    {
     "data": {
      "text/html": [
       "<div>\n",
       "<style scoped>\n",
       "    .dataframe tbody tr th:only-of-type {\n",
       "        vertical-align: middle;\n",
       "    }\n",
       "\n",
       "    .dataframe tbody tr th {\n",
       "        vertical-align: top;\n",
       "    }\n",
       "\n",
       "    .dataframe thead th {\n",
       "        text-align: right;\n",
       "    }\n",
       "</style>\n",
       "<table border=\"1\" class=\"dataframe\">\n",
       "  <thead>\n",
       "    <tr style=\"text-align: right;\">\n",
       "      <th></th>\n",
       "      <th>Id Encoded</th>\n",
       "      <th>recommended product</th>\n",
       "      <th>score recommendation</th>\n",
       "    </tr>\n",
       "  </thead>\n",
       "  <tbody>\n",
       "    <tr>\n",
       "      <th>0</th>\n",
       "      <td>893</td>\n",
       "      <td>FYA Handheld Vacuum Cleaner Cordless, Wireless...</td>\n",
       "      <td>1.000000</td>\n",
       "    </tr>\n",
       "    <tr>\n",
       "      <th>1</th>\n",
       "      <td>893</td>\n",
       "      <td>Eureka Forbes Active Clean 700 Watts Powerful ...</td>\n",
       "      <td>0.347227</td>\n",
       "    </tr>\n",
       "    <tr>\n",
       "      <th>2</th>\n",
       "      <td>893</td>\n",
       "      <td>AMERICAN MICRONIC- Imported Wet &amp; Dry Vacuum C...</td>\n",
       "      <td>0.317435</td>\n",
       "    </tr>\n",
       "    <tr>\n",
       "      <th>3</th>\n",
       "      <td>893</td>\n",
       "      <td>INALSA Upright Vacuum Cleaner, 2-in-1,Handheld...</td>\n",
       "      <td>0.310397</td>\n",
       "    </tr>\n",
       "    <tr>\n",
       "      <th>4</th>\n",
       "      <td>893</td>\n",
       "      <td>INALSA Vaccum Cleaner Handheld 800W High Power...</td>\n",
       "      <td>0.298666</td>\n",
       "    </tr>\n",
       "  </tbody>\n",
       "</table>\n",
       "</div>"
      ],
      "text/plain": [
       "   Id Encoded                                recommended product  \\\n",
       "0         893  FYA Handheld Vacuum Cleaner Cordless, Wireless...   \n",
       "1         893  Eureka Forbes Active Clean 700 Watts Powerful ...   \n",
       "2         893  AMERICAN MICRONIC- Imported Wet & Dry Vacuum C...   \n",
       "3         893  INALSA Upright Vacuum Cleaner, 2-in-1,Handheld...   \n",
       "4         893  INALSA Vaccum Cleaner Handheld 800W High Power...   \n",
       "\n",
       "   score recommendation  \n",
       "0              1.000000  \n",
       "1              0.347227  \n",
       "2              0.317435  \n",
       "3              0.310397  \n",
       "4              0.298666  "
      ]
     },
     "execution_count": 47,
     "metadata": {},
     "output_type": "execute_result"
    }
   ],
   "source": [
    "recommend_products(df, 893)"
   ]
  },
  {
   "cell_type": "code",
   "execution_count": null,
   "id": "b42d2e87",
   "metadata": {},
   "outputs": [],
   "source": []
  },
  {
   "cell_type": "code",
   "execution_count": null,
   "id": "33415ab3",
   "metadata": {},
   "outputs": [],
   "source": []
  },
  {
   "cell_type": "markdown",
   "id": "6ce86690",
   "metadata": {},
   "source": [
    "-----"
   ]
  },
  {
   "cell_type": "markdown",
   "id": "e13e9c7a",
   "metadata": {},
   "source": [
    "**QUESTION 2**\n",
    "\n",
    "Perform Market Basket Analysis on the chosen dataset by using Apriori and FP growth algorithms. Can\n",
    "you express major divergence between these models? Compare and contrast the machine learning results\n",
    "obtained based on both algorithms."
   ]
  },
  {
   "cell_type": "markdown",
   "id": "2be0baef",
   "metadata": {},
   "source": [
    "> **Market basket analysis** - consider products that are frequently reviewed together as being bought together"
   ]
  },
  {
   "cell_type": "code",
   "execution_count": null,
   "id": "88d3b3f4",
   "metadata": {},
   "outputs": [],
   "source": []
  },
  {
   "cell_type": "markdown",
   "id": "b2e52218",
   "metadata": {},
   "source": [
    "<a id=\"1\"></a>\n",
    "# <p style=\"padding:10px;background-color:#257CCB;margin:0;color:white;font-family:arial;font-size:100%;text-align:center;border-radius: 15px 50px;overflow:hidden;font-weight:500\">_ASSESSMENT TASK | DATA VISUALISATION_</p>"
   ]
  },
  {
   "cell_type": "markdown",
   "id": "c48b4c58",
   "metadata": {},
   "source": [
    "**QUESTION 3**\n",
    "\n",
    "Create an interactive Dashboard aimed at older adults (65+) with specific features to summarise the most\n",
    "important aspects of the data and identify through your visualisation why this dataset is suitable for\n",
    "Machine Learning models in an online retail business. Explain how your dashboard is designed with this\n",
    "demographic in mind."
   ]
  },
  {
   "cell_type": "code",
   "execution_count": null,
   "id": "7bf79b02",
   "metadata": {},
   "outputs": [],
   "source": []
  },
  {
   "cell_type": "code",
   "execution_count": null,
   "id": "2ec36164",
   "metadata": {},
   "outputs": [],
   "source": []
  },
  {
   "cell_type": "code",
   "execution_count": null,
   "id": "f1bebb21",
   "metadata": {},
   "outputs": [],
   "source": []
  },
  {
   "cell_type": "markdown",
   "id": "8ad21c16",
   "metadata": {},
   "source": [
    "<a id=\"1\"></a>\n",
    "# <p style=\"padding:10px;background-color:#257CCB;margin:0;color:white;font-family:arial;font-size:100%;text-align:center;border-radius: 15px 50px;overflow:hidden;font-weight:500\">_TITLE HERE_</p>"
   ]
  },
  {
   "cell_type": "code",
   "execution_count": null,
   "id": "a014bcdc",
   "metadata": {},
   "outputs": [],
   "source": []
  },
  {
   "cell_type": "markdown",
   "id": "cd4cc257",
   "metadata": {},
   "source": [
    "<a id=\"1\"></a>\n",
    "# <p style=\"padding:10px;background-color:#257CCB;margin:0;color:white;font-family:arial;font-size:100%;text-align:center;border-radius: 15px 50px;overflow:hidden;font-weight:500\">_REFERENCES_</p>"
   ]
  },
  {
   "cell_type": "markdown",
   "id": "22d7a5b0",
   "metadata": {},
   "source": [
    "(22/10)\n",
    " \n",
    "https://stackoverflow.com/questions/14088687/how-to-change-plot-background-color\n",
    "    \n",
    "https://datascientyst.com/full-list-named-colors-pandas-python-matplotlib/\n",
    "\n",
    "https://htmlcolorcodes.com/\n",
    "\n",
    "Amazon Customer Reviews (dataset) https://www.tensorflow.org/datasets/catalog/amazon_us_reviews\n",
    "\n",
    "https://github.com/tensorflow/datasets/blob/master/tensorflow_datasets/datasets/amazon_us_reviews/dummy_data/test.tsv"
   ]
  },
  {
   "cell_type": "code",
   "execution_count": null,
   "id": "1f6d2bc3",
   "metadata": {},
   "outputs": [],
   "source": []
  }
 ],
 "metadata": {
  "kernelspec": {
   "display_name": "Python 3 (ipykernel)",
   "language": "python",
   "name": "python3"
  },
  "language_info": {
   "codemirror_mode": {
    "name": "ipython",
    "version": 3
   },
   "file_extension": ".py",
   "mimetype": "text/x-python",
   "name": "python",
   "nbconvert_exporter": "python",
   "pygments_lexer": "ipython3",
   "version": "3.9.13"
  }
 },
 "nbformat": 4,
 "nbformat_minor": 5
}
