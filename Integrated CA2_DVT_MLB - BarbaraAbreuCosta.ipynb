{
 "cells": [
  {
   "cell_type": "markdown",
   "id": "7cd44276",
   "metadata": {},
   "source": [
    "<div style=\"padding:20px;color:white;margin:0;font-size:35px;font-family:arial;text-align:center;display:fill;border-radius:5px;background-color:#257CCB;overflow:hidden\"><b>INTEGRATED CONTINUOUS ASSESSMENT</b></div>"
   ]
  },
  {
   "cell_type": "markdown",
   "id": "10a5be77",
   "metadata": {},
   "source": [
    "<a id=\"1.1\"></a>\n",
    "<h2 style=\"font-family:arial;text-align:center; font-size: 32px; font-style: normal; font-weight: normal; text-decoration: none; text-transform: centre; letter-spacing: 5px; color:#257CCB; background-color: #ffffff;\"> <b>DATA PREPARATION + MACHINE LEARNING</b></h2>"
   ]
  },
  {
   "cell_type": "markdown",
   "id": "35284fbd",
   "metadata": {},
   "source": [
    "Programme Title: HDIP Data Analytics\n",
    "\n",
    "Cohort: HDIP Feb 22 FT/PT\n",
    "\n",
    "Module Title(s): Data Visualization Techniques & Machine Learning for Business \n",
    "\n",
    "Assignment Type: Individual  \n",
    "\n",
    "Assignment Title: Integrated CA2_DVT_MLB\n",
    "\n",
    "Lecturer(s): David McQuaid & Dr. Muhammad Iqba\n",
    "\n",
    "Issue Date: 19th October 2023  \n",
    "\n",
    "Submission Deadline Date:  26th November 2023 \n",
    "\n",
    "Student: **_Bárbara Abreu Costa 2023099_**\n",
    "\n",
    "GitHub Repository: https://github.com/Babreucosta/Integrated-CA2_DVT_MLB"
   ]
  },
  {
   "cell_type": "markdown",
   "id": "d9ab5f8e",
   "metadata": {},
   "source": [
    "-----"
   ]
  },
  {
   "cell_type": "markdown",
   "id": "52cd9868",
   "metadata": {},
   "source": [
    "<a id=\"1\"></a>\n",
    "# <p style=\"padding:10px;background-color:#257CCB;margin:0;color:white;font-family:arial;font-size:100%;text-align:center;border-radius: 15px 50px;overflow:hidden;font-weight:500\">_ASSESSMENT TASK_</p>"
   ]
  },
  {
   "cell_type": "code",
   "execution_count": null,
   "id": "37100f75",
   "metadata": {},
   "outputs": [],
   "source": []
  },
  {
   "cell_type": "code",
   "execution_count": null,
   "id": "cd1f161e",
   "metadata": {},
   "outputs": [],
   "source": []
  },
  {
   "cell_type": "code",
   "execution_count": null,
   "id": "16053c8f",
   "metadata": {},
   "outputs": [],
   "source": []
  },
  {
   "cell_type": "markdown",
   "id": "8ad21c16",
   "metadata": {},
   "source": [
    "<a id=\"1\"></a>\n",
    "# <p style=\"padding:10px;background-color:#257CCB;margin:0;color:white;font-family:arial;font-size:100%;text-align:center;border-radius: 15px 50px;overflow:hidden;font-weight:500\">_TITLE HERE_</p>"
   ]
  },
  {
   "cell_type": "code",
   "execution_count": null,
   "id": "a014bcdc",
   "metadata": {},
   "outputs": [],
   "source": []
  },
  {
   "cell_type": "markdown",
   "id": "cd4cc257",
   "metadata": {},
   "source": [
    "<a id=\"1\"></a>\n",
    "# <p style=\"padding:10px;background-color:#257CCB;margin:0;color:white;font-family:arial;font-size:100%;text-align:center;border-radius: 15px 50px;overflow:hidden;font-weight:500\">_REFERENCES_</p>"
   ]
  },
  {
   "cell_type": "markdown",
   "id": "22d7a5b0",
   "metadata": {},
   "source": [
    "(22/10)\n",
    " \n",
    "https://stackoverflow.com/questions/14088687/how-to-change-plot-background-color\n",
    "    \n",
    "https://datascientyst.com/full-list-named-colors-pandas-python-matplotlib/\n",
    "\n",
    "https://htmlcolorcodes.com/"
   ]
  }
 ],
 "metadata": {
  "kernelspec": {
   "display_name": "Python 3 (ipykernel)",
   "language": "python",
   "name": "python3"
  },
  "language_info": {
   "codemirror_mode": {
    "name": "ipython",
    "version": 3
   },
   "file_extension": ".py",
   "mimetype": "text/x-python",
   "name": "python",
   "nbconvert_exporter": "python",
   "pygments_lexer": "ipython3",
   "version": "3.9.13"
  }
 },
 "nbformat": 4,
 "nbformat_minor": 5
}
