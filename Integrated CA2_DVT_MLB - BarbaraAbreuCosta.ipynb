{
 "cells": [
  {
   "cell_type": "markdown",
   "id": "7cd44276",
   "metadata": {},
   "source": [
    "<div style=\"padding:20px;color:white;margin:0;font-size:35px;font-family:arial;text-align:center;display:fill;border-radius:5px;background-color:#257CCB;overflow:hidden\"><b>INTEGRATED CONTINUOUS ASSESSMENT</b></div>"
   ]
  },
  {
   "cell_type": "markdown",
   "id": "10a5be77",
   "metadata": {},
   "source": [
    "<a id=\"1.1\"></a>\n",
    "<h2 style=\"font-family:arial;text-align:center; font-size: 32px; font-style: normal; font-weight: normal; text-decoration: none; text-transform: centre; letter-spacing: 5px; color:#257CCB; background-color: #ffffff;\"> <b>DATA VISUALISATION + MACHINE LEARNING</b></h2>"
   ]
  },
  {
   "cell_type": "markdown",
   "id": "35284fbd",
   "metadata": {},
   "source": [
    "Programme Title: HDIP Data Analytics\n",
    "\n",
    "Cohort: HDIP Feb 22 FT/PT\n",
    "\n",
    "Module Title(s): Data Visualization Techniques & Machine Learning for Business \n",
    "\n",
    "Assignment Type: Individual  \n",
    "\n",
    "Assignment Title: Integrated CA2_DVT_MLB\n",
    "\n",
    "Lecturer(s): David McQuaid & Dr. Muhammad Iqba\n",
    "\n",
    "Issue Date: 19th October 2023  \n",
    "\n",
    "Submission Deadline Date:  26th November 2023 \n",
    "\n",
    "Student: **_Bárbara Abreu Costa 2023099_**\n",
    "\n",
    "GitHub Repository: https://github.com/Babreucosta/Integrated-CA2_DVT_MLB"
   ]
  },
  {
   "cell_type": "markdown",
   "id": "d9ab5f8e",
   "metadata": {},
   "source": [
    "-----"
   ]
  },
  {
   "cell_type": "markdown",
   "id": "52cd9868",
   "metadata": {},
   "source": [
    "<a id=\"1\"></a>\n",
    "# <p style=\"padding:10px;background-color:#257CCB;margin:0;color:white;font-family:arial;font-size:100%;text-align:center;border-radius: 15px 50px;overflow:hidden;font-weight:500\">_ASSESSMENT TASK | MACHINE LEARNING_</p>"
   ]
  },
  {
   "cell_type": "markdown",
   "id": "3bf26aa1",
   "metadata": {},
   "source": [
    "**QUESTION 1**\n",
    "\n",
    "Discuss and explain the purpose of a recommendation system for online retail business in machine\n",
    "learning. Briefly compare Content and Collaborative filtering using any dataset of your choice (Datasets used\n",
    "in the class tutorials or exercises are not allowed to use in this CA2). Train and test machine learning models\n",
    "for the user-user or item-item collaborative filtering. Justify your recommendations for the considered\n",
    "scenario by providing a conceptual insight"
   ]
  },
  {
   "cell_type": "code",
   "execution_count": 2,
   "id": "efc6d5a8",
   "metadata": {},
   "outputs": [],
   "source": [
    "import pandas as pd\n",
    "import numpy as np"
   ]
  },
  {
   "cell_type": "code",
   "execution_count": 6,
   "id": "d2462b01",
   "metadata": {},
   "outputs": [
    {
     "data": {
      "text/html": [
       "<div>\n",
       "<style scoped>\n",
       "    .dataframe tbody tr th:only-of-type {\n",
       "        vertical-align: middle;\n",
       "    }\n",
       "\n",
       "    .dataframe tbody tr th {\n",
       "        vertical-align: top;\n",
       "    }\n",
       "\n",
       "    .dataframe thead th {\n",
       "        text-align: right;\n",
       "    }\n",
       "</style>\n",
       "<table border=\"1\" class=\"dataframe\">\n",
       "  <thead>\n",
       "    <tr style=\"text-align: right;\">\n",
       "      <th></th>\n",
       "      <th>marketplace</th>\n",
       "      <th>customer_id</th>\n",
       "      <th>review_id</th>\n",
       "      <th>product_id</th>\n",
       "      <th>product_parent</th>\n",
       "      <th>product_title</th>\n",
       "      <th>product_category</th>\n",
       "      <th>star_rating</th>\n",
       "      <th>helpful_votes</th>\n",
       "      <th>total_votes</th>\n",
       "      <th>vine</th>\n",
       "      <th>verified_purchase</th>\n",
       "      <th>review_headline</th>\n",
       "      <th>review_body</th>\n",
       "      <th>review_date</th>\n",
       "    </tr>\n",
       "  </thead>\n",
       "  <tbody>\n",
       "    <tr>\n",
       "      <th>0</th>\n",
       "      <td>US</td>\n",
       "      <td>33244958</td>\n",
       "      <td>R5C6CLP5P31G2</td>\n",
       "      <td>B0145UJPGA</td>\n",
       "      <td>691778818</td>\n",
       "      <td>Alain Dupetit Men’s Two Button TR Blend Suit i...</td>\n",
       "      <td>Apparel</td>\n",
       "      <td>5</td>\n",
       "      <td>1</td>\n",
       "      <td>1</td>\n",
       "      <td>N</td>\n",
       "      <td>N</td>\n",
       "      <td>Five Stars</td>\n",
       "      <td>Great fit, nice fabric highly recommend this s...</td>\n",
       "      <td>2015-08-29</td>\n",
       "    </tr>\n",
       "    <tr>\n",
       "      <th>1</th>\n",
       "      <td>US</td>\n",
       "      <td>14612404</td>\n",
       "      <td>R2UKKXGC15773O</td>\n",
       "      <td>B0145U0HYE</td>\n",
       "      <td>25610428</td>\n",
       "      <td>Pay Off Your Hard Work These Smart, Classy, an...</td>\n",
       "      <td>Apparel</td>\n",
       "      <td>3</td>\n",
       "      <td>0</td>\n",
       "      <td>0</td>\n",
       "      <td>N</td>\n",
       "      <td>N</td>\n",
       "      <td>This dress is really nice and great quality</td>\n",
       "      <td>This dress is really nice and great quality. H...</td>\n",
       "      <td>2015-08-28</td>\n",
       "    </tr>\n",
       "    <tr>\n",
       "      <th>2</th>\n",
       "      <td>US</td>\n",
       "      <td>11058333</td>\n",
       "      <td>R336FF9HN9MO7U</td>\n",
       "      <td>B0145JTYDA</td>\n",
       "      <td>66085473</td>\n",
       "      <td>Silver Lilly Adult Pajamas - Plush One Piece C...</td>\n",
       "      <td>Apparel</td>\n",
       "      <td>5</td>\n",
       "      <td>0</td>\n",
       "      <td>0</td>\n",
       "      <td>N</td>\n",
       "      <td>N</td>\n",
       "      <td>This is fantastic. Fit great and fabric is sup...</td>\n",
       "      <td>This is fantastic. Fit great and fabric is sup...</td>\n",
       "      <td>2015-08-29</td>\n",
       "    </tr>\n",
       "    <tr>\n",
       "      <th>3</th>\n",
       "      <td>US</td>\n",
       "      <td>32794219</td>\n",
       "      <td>R2LEJGWX1FPI5E</td>\n",
       "      <td>B0145HGFDO</td>\n",
       "      <td>478223136</td>\n",
       "      <td>Power Rangers Men's Ranger Costume Cosplay T s...</td>\n",
       "      <td>Apparel</td>\n",
       "      <td>5</td>\n",
       "      <td>0</td>\n",
       "      <td>0</td>\n",
       "      <td>N</td>\n",
       "      <td>Y</td>\n",
       "      <td>Cool Tshirt.</td>\n",
       "      <td>Cool Tshirt.</td>\n",
       "      <td>2015-08-25</td>\n",
       "    </tr>\n",
       "    <tr>\n",
       "      <th>4</th>\n",
       "      <td>US</td>\n",
       "      <td>12006337</td>\n",
       "      <td>R37WK55R7T0334</td>\n",
       "      <td>B0145EOAK2</td>\n",
       "      <td>893688100</td>\n",
       "      <td>TMNT Little Boys S/S Sublimation All Over Prin...</td>\n",
       "      <td>Apparel</td>\n",
       "      <td>5</td>\n",
       "      <td>0</td>\n",
       "      <td>0</td>\n",
       "      <td>N</td>\n",
       "      <td>N</td>\n",
       "      <td>Five Stars</td>\n",
       "      <td>Great colors great fit ! My son loves it</td>\n",
       "      <td>2015-08-19</td>\n",
       "    </tr>\n",
       "  </tbody>\n",
       "</table>\n",
       "</div>"
      ],
      "text/plain": [
       "  marketplace  customer_id       review_id  product_id  product_parent  \\\n",
       "0          US     33244958   R5C6CLP5P31G2  B0145UJPGA       691778818   \n",
       "1          US     14612404  R2UKKXGC15773O  B0145U0HYE        25610428   \n",
       "2          US     11058333  R336FF9HN9MO7U  B0145JTYDA        66085473   \n",
       "3          US     32794219  R2LEJGWX1FPI5E  B0145HGFDO       478223136   \n",
       "4          US     12006337  R37WK55R7T0334  B0145EOAK2       893688100   \n",
       "\n",
       "                                       product_title product_category  \\\n",
       "0  Alain Dupetit Men’s Two Button TR Blend Suit i...          Apparel   \n",
       "1  Pay Off Your Hard Work These Smart, Classy, an...          Apparel   \n",
       "2  Silver Lilly Adult Pajamas - Plush One Piece C...          Apparel   \n",
       "3  Power Rangers Men's Ranger Costume Cosplay T s...          Apparel   \n",
       "4  TMNT Little Boys S/S Sublimation All Over Prin...          Apparel   \n",
       "\n",
       "   star_rating  helpful_votes  total_votes vine verified_purchase  \\\n",
       "0            5              1            1    N                 N   \n",
       "1            3              0            0    N                 N   \n",
       "2            5              0            0    N                 N   \n",
       "3            5              0            0    N                 Y   \n",
       "4            5              0            0    N                 N   \n",
       "\n",
       "                                     review_headline  \\\n",
       "0                                         Five Stars   \n",
       "1        This dress is really nice and great quality   \n",
       "2  This is fantastic. Fit great and fabric is sup...   \n",
       "3                                       Cool Tshirt.   \n",
       "4                                         Five Stars   \n",
       "\n",
       "                                         review_body review_date  \n",
       "0  Great fit, nice fabric highly recommend this s...  2015-08-29  \n",
       "1  This dress is really nice and great quality. H...  2015-08-28  \n",
       "2  This is fantastic. Fit great and fabric is sup...  2015-08-29  \n",
       "3                                       Cool Tshirt.  2015-08-25  \n",
       "4           Great colors great fit ! My son loves it  2015-08-19  "
      ]
     },
     "execution_count": 6,
     "metadata": {},
     "output_type": "execute_result"
    }
   ],
   "source": [
    "df_path ='test.tsv'\n",
    "df = pd.read_csv(df_path, sep='\\t')\n",
    "df.head()"
   ]
  },
  {
   "cell_type": "markdown",
   "id": "94a582ef",
   "metadata": {},
   "source": [
    "> **Recommendation systems** - build content-based filtering models based on the textual content of reviews."
   ]
  },
  {
   "cell_type": "markdown",
   "id": "d543a06a",
   "metadata": {},
   "source": [
    "-----"
   ]
  },
  {
   "cell_type": "markdown",
   "id": "2b23f2a1",
   "metadata": {},
   "source": [
    "**QUESTION 2**\n",
    "\n",
    "Perform Market Basket Analysis on the chosen dataset by using Apriori and FP growth algorithms. Can\n",
    "you express major divergence between these models? Compare and contrast the machine learning results\n",
    "obtained based on both algorithms."
   ]
  },
  {
   "cell_type": "markdown",
   "id": "5215b711",
   "metadata": {},
   "source": [
    "> **Market basket analysis** - consider products that are frequently reviewed together as being bought together"
   ]
  },
  {
   "cell_type": "markdown",
   "id": "fabdf63d",
   "metadata": {},
   "source": [
    "<a id=\"1\"></a>\n",
    "# <p style=\"padding:10px;background-color:#257CCB;margin:0;color:white;font-family:arial;font-size:100%;text-align:center;border-radius: 15px 50px;overflow:hidden;font-weight:500\">_ASSESSMENT TASK | DATA VISUALISATION_</p>"
   ]
  },
  {
   "cell_type": "markdown",
   "id": "40dee073",
   "metadata": {},
   "source": [
    "**QUESTION 3**\n",
    "\n",
    "Create an interactive Dashboard aimed at older adults (65+) with specific features to summarise the most\n",
    "important aspects of the data and identify through your visualisation why this dataset is suitable for\n",
    "Machine Learning models in an online retail business. Explain how your dashboard is designed with this\n",
    "demographic in mind."
   ]
  },
  {
   "cell_type": "markdown",
   "id": "8ad21c16",
   "metadata": {},
   "source": [
    "<a id=\"1\"></a>\n",
    "# <p style=\"padding:10px;background-color:#257CCB;margin:0;color:white;font-family:arial;font-size:100%;text-align:center;border-radius: 15px 50px;overflow:hidden;font-weight:500\">_TITLE HERE_</p>"
   ]
  },
  {
   "cell_type": "code",
   "execution_count": null,
   "id": "a014bcdc",
   "metadata": {},
   "outputs": [],
   "source": []
  },
  {
   "cell_type": "markdown",
   "id": "cd4cc257",
   "metadata": {},
   "source": [
    "<a id=\"1\"></a>\n",
    "# <p style=\"padding:10px;background-color:#257CCB;margin:0;color:white;font-family:arial;font-size:100%;text-align:center;border-radius: 15px 50px;overflow:hidden;font-weight:500\">_REFERENCES_</p>"
   ]
  },
  {
   "cell_type": "markdown",
   "id": "22d7a5b0",
   "metadata": {},
   "source": [
    "(22/10)\n",
    " \n",
    "https://stackoverflow.com/questions/14088687/how-to-change-plot-background-color\n",
    "    \n",
    "https://datascientyst.com/full-list-named-colors-pandas-python-matplotlib/\n",
    "\n",
    "https://htmlcolorcodes.com/\n",
    "\n",
    "Amazon Customer Reviews (dataset) https://www.tensorflow.org/datasets/catalog/amazon_us_reviews"
   ]
  },
  {
   "cell_type": "code",
   "execution_count": null,
   "id": "7cd60a89",
   "metadata": {},
   "outputs": [],
   "source": []
  }
 ],
 "metadata": {
  "kernelspec": {
   "display_name": "Python 3 (ipykernel)",
   "language": "python",
   "name": "python3"
  },
  "language_info": {
   "codemirror_mode": {
    "name": "ipython",
    "version": 3
   },
   "file_extension": ".py",
   "mimetype": "text/x-python",
   "name": "python",
   "nbconvert_exporter": "python",
   "pygments_lexer": "ipython3",
   "version": "3.9.13"
  }
 },
 "nbformat": 4,
 "nbformat_minor": 5
}
