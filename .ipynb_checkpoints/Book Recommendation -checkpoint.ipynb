{
 "cells": [
  {
   "cell_type": "markdown",
   "id": "7cd44276",
   "metadata": {},
   "source": [
    "<div style=\"padding:20px;color:white;margin:0;font-size:35px;font-family:arial;text-align:center;display:fill;border-radius:5px; letter-spacing: 2px; background-color:#257CCB;overflow:hidden\"><b>INTEGRATED CONTINUOUS ASSESSMENT</b></div>"
   ]
  },
  {
   "cell_type": "markdown",
   "id": "10a5be77",
   "metadata": {},
   "source": [
    "<a id=\"1.1\"></a>\n",
    "<h2 style=\"font-family:arial;text-align:center; font-size: 32px; font-style: normal; font-weight: normal; text-decoration: none; text-transform: centre; letter-spacing: 5px; color:#257CCB; background-color: #ffffff;\"> <b>DATA VISUALISATION + MACHINE LEARNING</b></h2>"
   ]
  },
  {
   "cell_type": "markdown",
   "id": "35284fbd",
   "metadata": {},
   "source": [
    "Programme Title: HDIP Data Analytics\n",
    "\n",
    "Cohort: HDIP Feb 22 FT/PT\n",
    "\n",
    "Module Title(s): Data Visualization Techniques & Machine Learning for Business \n",
    "\n",
    "Assignment Type: Individual  \n",
    "\n",
    "Assignment Title: Integrated CA2_DVT_MLB\n",
    "\n",
    "Lecturer(s): David McQuaid & Dr. Muhammad Iqba\n",
    "\n",
    "Issue Date: 19th October 2023  \n",
    "\n",
    "Submission Deadline Date:  26th November 2023 \n",
    "\n",
    "Student: **_Bárbara Abreu Costa 2023099_**\n",
    "\n",
    "GitHub Repository: https://github.com/Babreucosta/Integrated-CA2_DVT_MLB"
   ]
  },
  {
   "cell_type": "markdown",
   "id": "d9ab5f8e",
   "metadata": {},
   "source": [
    "-----"
   ]
  },
  {
   "cell_type": "markdown",
   "id": "52cd9868",
   "metadata": {},
   "source": [
    "<a id=\"1\"></a>\n",
    "# <p style=\"padding:10px;background-color:#257CCB;margin:0;color:white;font-family:arial;font-size:100%;text-align:center;border-radius:5px;overflow:hidden;font-weight:500\">_MACHINE LEARNING_</p>"
   ]
  },
  {
   "cell_type": "markdown",
   "id": "cb3c57c5",
   "metadata": {},
   "source": [
    "**QUESTION 1**\n",
    "\n",
    "Discuss and explain the purpose of a recommendation system for online retail business in machine\n",
    "learning. Briefly compare Content and Collaborative filtering using any dataset of your choice (Datasets used\n",
    "in the class tutorials or exercises are not allowed to use in this CA2). Train and test machine learning models\n",
    "for the user-user or item-item collaborative filtering. Justify your recommendations for the considered\n",
    "scenario by providing a conceptual insight"
   ]
  },
  {
   "cell_type": "markdown",
   "id": "8985e3df",
   "metadata": {},
   "source": [
    "> **_RECOMMENDATION SYSTEM PURPOSE_**\n",
    "> \n",
    "> Recommendation systems play a pivotal role in the success of online retail businesses by leveraging machine learning algorithms to deliver personalized product suggestions to users. It analyze a user's historical behavior, preferences, and interactions with the platform to offer product suggestions tailored to their individual tastes and needs. This personalization creates a more engaging and relevant shopping experience. \n",
    "> \n",
    "> One of the primary purposes of a recommendation system is to augment the customer experience. By presenting relevant products to users based on their past interactions, the system assists in narrowing down choices from a vast array of offerings. This not only saves time for the customer but also creates a sense of personalization, fostering customer loyalty. For instance, Amazon's recommendation engine analyzes user behavior and provides suggestions such as \"Customers who bought this also bought...\" or \"Recommended for you\", contributing significantly to their sales revenue (Linden et al., 2003).\n",
    ">\n",
    "> Another vital purpose of recommendation systems is to facilitate cross-selling and up-selling opportunities. Cross-selling involves suggesting related or complementary products to the user's current selection, while up-selling involves recommending higher-value alternatives. \n",
    ">\n",
    "> In conclusion, recommendation systems are indispensable tools for online retail businesses, leveraging machine learning techniques to enhance the customer experience, increase sales, alleviate information overload, and drive cross-selling and up-selling initiatives. Through personalized suggestions, these systems create a win-win situation, benefiting both the customer and the retailer."
   ]
  },
  {
   "cell_type": "markdown",
   "id": "12c796f1",
   "metadata": {},
   "source": [
    "---"
   ]
  },
  {
   "cell_type": "markdown",
   "id": "729f3a46",
   "metadata": {},
   "source": [
    "<a id=\"1.1\"></a>\n",
    "<h2 style=\"font-family:arial;text-align:center; font-size: 32px; font-style: normal; font-weight: normal; text-decoration: none; text-transform: centre; letter-spacing: 3px; color:#257CCB; background-color: #ffffff;\"> <b>AMAZON SALES DATASET</b></h2>"
   ]
  },
  {
   "cell_type": "markdown",
   "id": "99189a1b",
   "metadata": {},
   "source": [
    "This dataset is having the data of 1K+ Amazon Product's Ratings and Reviews as per their details listed on the official website of Amazon"
   ]
  },
  {
   "cell_type": "markdown",
   "id": "54dc7aca",
   "metadata": {},
   "source": [
    "##### DICTIONARY"
   ]
  },
  {
   "cell_type": "markdown",
   "id": "95e52c1e",
   "metadata": {},
   "source": [
    "| STT | ATTRIBUTE NAME | MEANING |\n",
    "|:---| :--- |:--- |\n",
    "| 0 | product_id | Product ID\n",
    "| 1 |product_name | Name of the Product\n",
    "| 2 |category | Category of the Product\n",
    "| 3 |discounted_price | Discounted Price of the Product\n",
    "| 4 |actual_price | Actual Price of the Product\n",
    "| 5 |discount_percentage | Percentage of Discount for the Product\n",
    "| 6 |rating | Rating of the Product\n",
    "| 7 |rating_count | Number of people who voted for the Amazon rating\n",
    "| 8 |about_product | Description about the Product\n",
    "| 9 |user_id | ID of the user who wrote review for the Product\n",
    "| 10 |user_name | Name of the user who wrote review for the Product\n",
    "| 11 |review_id | ID of the user review\n",
    "| 12 |review_title | Short review\n",
    "| 13 |review_content | Long review\n",
    "| 14 |img_link | Image Link of the Product\n",
    "| 15 |product_link | Official Website Link of the Product"
   ]
  },
  {
   "cell_type": "markdown",
   "id": "4c7ef68c",
   "metadata": {},
   "source": [
    "##### DATA UNDERSTANDING"
   ]
  },
  {
   "cell_type": "code",
   "execution_count": 1,
   "id": "84da413b",
   "metadata": {},
   "outputs": [],
   "source": [
    "import pandas as pd\n",
    "import numpy as np\n",
    "import matplotlib.pyplot as plt\n",
    "import seaborn as sns"
   ]
  },
  {
   "cell_type": "code",
   "execution_count": 2,
   "id": "2fa4d054",
   "metadata": {},
   "outputs": [],
   "source": [
    "df = pd.read_csv('amazon.csv')"
   ]
  },
  {
   "cell_type": "code",
   "execution_count": 3,
   "id": "a53a3e89",
   "metadata": {},
   "outputs": [
    {
     "data": {
      "text/html": [
       "<div>\n",
       "<style scoped>\n",
       "    .dataframe tbody tr th:only-of-type {\n",
       "        vertical-align: middle;\n",
       "    }\n",
       "\n",
       "    .dataframe tbody tr th {\n",
       "        vertical-align: top;\n",
       "    }\n",
       "\n",
       "    .dataframe thead th {\n",
       "        text-align: right;\n",
       "    }\n",
       "</style>\n",
       "<table border=\"1\" class=\"dataframe\">\n",
       "  <thead>\n",
       "    <tr style=\"text-align: right;\">\n",
       "      <th></th>\n",
       "      <th>product_id</th>\n",
       "      <th>product_name</th>\n",
       "      <th>category</th>\n",
       "      <th>discounted_price</th>\n",
       "      <th>actual_price</th>\n",
       "      <th>discount_percentage</th>\n",
       "      <th>rating</th>\n",
       "      <th>rating_count</th>\n",
       "      <th>about_product</th>\n",
       "      <th>user_id</th>\n",
       "      <th>user_name</th>\n",
       "      <th>review_id</th>\n",
       "      <th>review_title</th>\n",
       "      <th>review_content</th>\n",
       "      <th>img_link</th>\n",
       "      <th>product_link</th>\n",
       "    </tr>\n",
       "  </thead>\n",
       "  <tbody>\n",
       "    <tr>\n",
       "      <th>0</th>\n",
       "      <td>B07JW9H4J1</td>\n",
       "      <td>Wayona Nylon Braided USB to Lightning Fast Cha...</td>\n",
       "      <td>Computers&amp;Accessories|Accessories&amp;Peripherals|...</td>\n",
       "      <td>₹399</td>\n",
       "      <td>₹1,099</td>\n",
       "      <td>64%</td>\n",
       "      <td>4.2</td>\n",
       "      <td>24,269</td>\n",
       "      <td>High Compatibility : Compatible With iPhone 12...</td>\n",
       "      <td>AG3D6O4STAQKAY2UVGEUV46KN35Q,AHMY5CWJMMK5BJRBB...</td>\n",
       "      <td>Manav,Adarsh gupta,Sundeep,S.Sayeed Ahmed,jasp...</td>\n",
       "      <td>R3HXWT0LRP0NMF,R2AJM3LFTLZHFO,R6AQJGUP6P86,R1K...</td>\n",
       "      <td>Satisfied,Charging is really fast,Value for mo...</td>\n",
       "      <td>Looks durable Charging is fine tooNo complains...</td>\n",
       "      <td>https://m.media-amazon.com/images/W/WEBP_40237...</td>\n",
       "      <td>https://www.amazon.in/Wayona-Braided-WN3LG1-Sy...</td>\n",
       "    </tr>\n",
       "    <tr>\n",
       "      <th>1</th>\n",
       "      <td>B098NS6PVG</td>\n",
       "      <td>Ambrane Unbreakable 60W / 3A Fast Charging 1.5...</td>\n",
       "      <td>Computers&amp;Accessories|Accessories&amp;Peripherals|...</td>\n",
       "      <td>₹199</td>\n",
       "      <td>₹349</td>\n",
       "      <td>43%</td>\n",
       "      <td>4.0</td>\n",
       "      <td>43,994</td>\n",
       "      <td>Compatible with all Type C enabled devices, be...</td>\n",
       "      <td>AECPFYFQVRUWC3KGNLJIOREFP5LQ,AGYYVPDD7YG7FYNBX...</td>\n",
       "      <td>ArdKn,Nirbhay kumar,Sagar Viswanathan,Asp,Plac...</td>\n",
       "      <td>RGIQEG07R9HS2,R1SMWZQ86XIN8U,R2J3Y1WL29GWDE,RY...</td>\n",
       "      <td>A Good Braided Cable for Your Type C Device,Go...</td>\n",
       "      <td>I ordered this cable to connect my phone to An...</td>\n",
       "      <td>https://m.media-amazon.com/images/W/WEBP_40237...</td>\n",
       "      <td>https://www.amazon.in/Ambrane-Unbreakable-Char...</td>\n",
       "    </tr>\n",
       "    <tr>\n",
       "      <th>2</th>\n",
       "      <td>B096MSW6CT</td>\n",
       "      <td>Sounce Fast Phone Charging Cable &amp; Data Sync U...</td>\n",
       "      <td>Computers&amp;Accessories|Accessories&amp;Peripherals|...</td>\n",
       "      <td>₹199</td>\n",
       "      <td>₹1,899</td>\n",
       "      <td>90%</td>\n",
       "      <td>3.9</td>\n",
       "      <td>7,928</td>\n",
       "      <td>【 Fast Charger&amp; Data Sync】-With built-in safet...</td>\n",
       "      <td>AGU3BBQ2V2DDAMOAKGFAWDDQ6QHA,AESFLDV2PT363T2AQ...</td>\n",
       "      <td>Kunal,Himanshu,viswanath,sai niharka,saqib mal...</td>\n",
       "      <td>R3J3EQQ9TZI5ZJ,R3E7WBGK7ID0KV,RWU79XKQ6I1QF,R2...</td>\n",
       "      <td>Good speed for earlier versions,Good Product,W...</td>\n",
       "      <td>Not quite durable and sturdy,https://m.media-a...</td>\n",
       "      <td>https://m.media-amazon.com/images/W/WEBP_40237...</td>\n",
       "      <td>https://www.amazon.in/Sounce-iPhone-Charging-C...</td>\n",
       "    </tr>\n",
       "    <tr>\n",
       "      <th>3</th>\n",
       "      <td>B08HDJ86NZ</td>\n",
       "      <td>boAt Deuce USB 300 2 in 1 Type-C &amp; Micro USB S...</td>\n",
       "      <td>Computers&amp;Accessories|Accessories&amp;Peripherals|...</td>\n",
       "      <td>₹329</td>\n",
       "      <td>₹699</td>\n",
       "      <td>53%</td>\n",
       "      <td>4.2</td>\n",
       "      <td>94,363</td>\n",
       "      <td>The boAt Deuce USB 300 2 in 1 cable is compati...</td>\n",
       "      <td>AEWAZDZZJLQUYVOVGBEUKSLXHQ5A,AG5HTSFRRE6NL3M5S...</td>\n",
       "      <td>Omkar dhale,JD,HEMALATHA,Ajwadh a.,amar singh ...</td>\n",
       "      <td>R3EEUZKKK9J36I,R3HJVYCLYOY554,REDECAZ7AMPQC,R1...</td>\n",
       "      <td>Good product,Good one,Nice,Really nice product...</td>\n",
       "      <td>Good product,long wire,Charges good,Nice,I bou...</td>\n",
       "      <td>https://m.media-amazon.com/images/I/41V5FtEWPk...</td>\n",
       "      <td>https://www.amazon.in/Deuce-300-Resistant-Tang...</td>\n",
       "    </tr>\n",
       "    <tr>\n",
       "      <th>4</th>\n",
       "      <td>B08CF3B7N1</td>\n",
       "      <td>Portronics Konnect L 1.2M Fast Charging 3A 8 P...</td>\n",
       "      <td>Computers&amp;Accessories|Accessories&amp;Peripherals|...</td>\n",
       "      <td>₹154</td>\n",
       "      <td>₹399</td>\n",
       "      <td>61%</td>\n",
       "      <td>4.2</td>\n",
       "      <td>16,905</td>\n",
       "      <td>[CHARGE &amp; SYNC FUNCTION]- This cable comes wit...</td>\n",
       "      <td>AE3Q6KSUK5P75D5HFYHCRAOLODSA,AFUGIFH5ZAFXRDSZH...</td>\n",
       "      <td>rahuls6099,Swasat Borah,Ajay Wadke,Pranali,RVK...</td>\n",
       "      <td>R1BP4L2HH9TFUP,R16PVJEXKV6QZS,R2UPDB81N66T4P,R...</td>\n",
       "      <td>As good as original,Decent,Good one for second...</td>\n",
       "      <td>Bought this instead of original apple, does th...</td>\n",
       "      <td>https://m.media-amazon.com/images/W/WEBP_40237...</td>\n",
       "      <td>https://www.amazon.in/Portronics-Konnect-POR-1...</td>\n",
       "    </tr>\n",
       "  </tbody>\n",
       "</table>\n",
       "</div>"
      ],
      "text/plain": [
       "   product_id                                       product_name  \\\n",
       "0  B07JW9H4J1  Wayona Nylon Braided USB to Lightning Fast Cha...   \n",
       "1  B098NS6PVG  Ambrane Unbreakable 60W / 3A Fast Charging 1.5...   \n",
       "2  B096MSW6CT  Sounce Fast Phone Charging Cable & Data Sync U...   \n",
       "3  B08HDJ86NZ  boAt Deuce USB 300 2 in 1 Type-C & Micro USB S...   \n",
       "4  B08CF3B7N1  Portronics Konnect L 1.2M Fast Charging 3A 8 P...   \n",
       "\n",
       "                                            category discounted_price  \\\n",
       "0  Computers&Accessories|Accessories&Peripherals|...             ₹399   \n",
       "1  Computers&Accessories|Accessories&Peripherals|...             ₹199   \n",
       "2  Computers&Accessories|Accessories&Peripherals|...             ₹199   \n",
       "3  Computers&Accessories|Accessories&Peripherals|...             ₹329   \n",
       "4  Computers&Accessories|Accessories&Peripherals|...             ₹154   \n",
       "\n",
       "  actual_price discount_percentage rating rating_count  \\\n",
       "0       ₹1,099                 64%    4.2       24,269   \n",
       "1         ₹349                 43%    4.0       43,994   \n",
       "2       ₹1,899                 90%    3.9        7,928   \n",
       "3         ₹699                 53%    4.2       94,363   \n",
       "4         ₹399                 61%    4.2       16,905   \n",
       "\n",
       "                                       about_product  \\\n",
       "0  High Compatibility : Compatible With iPhone 12...   \n",
       "1  Compatible with all Type C enabled devices, be...   \n",
       "2  【 Fast Charger& Data Sync】-With built-in safet...   \n",
       "3  The boAt Deuce USB 300 2 in 1 cable is compati...   \n",
       "4  [CHARGE & SYNC FUNCTION]- This cable comes wit...   \n",
       "\n",
       "                                             user_id  \\\n",
       "0  AG3D6O4STAQKAY2UVGEUV46KN35Q,AHMY5CWJMMK5BJRBB...   \n",
       "1  AECPFYFQVRUWC3KGNLJIOREFP5LQ,AGYYVPDD7YG7FYNBX...   \n",
       "2  AGU3BBQ2V2DDAMOAKGFAWDDQ6QHA,AESFLDV2PT363T2AQ...   \n",
       "3  AEWAZDZZJLQUYVOVGBEUKSLXHQ5A,AG5HTSFRRE6NL3M5S...   \n",
       "4  AE3Q6KSUK5P75D5HFYHCRAOLODSA,AFUGIFH5ZAFXRDSZH...   \n",
       "\n",
       "                                           user_name  \\\n",
       "0  Manav,Adarsh gupta,Sundeep,S.Sayeed Ahmed,jasp...   \n",
       "1  ArdKn,Nirbhay kumar,Sagar Viswanathan,Asp,Plac...   \n",
       "2  Kunal,Himanshu,viswanath,sai niharka,saqib mal...   \n",
       "3  Omkar dhale,JD,HEMALATHA,Ajwadh a.,amar singh ...   \n",
       "4  rahuls6099,Swasat Borah,Ajay Wadke,Pranali,RVK...   \n",
       "\n",
       "                                           review_id  \\\n",
       "0  R3HXWT0LRP0NMF,R2AJM3LFTLZHFO,R6AQJGUP6P86,R1K...   \n",
       "1  RGIQEG07R9HS2,R1SMWZQ86XIN8U,R2J3Y1WL29GWDE,RY...   \n",
       "2  R3J3EQQ9TZI5ZJ,R3E7WBGK7ID0KV,RWU79XKQ6I1QF,R2...   \n",
       "3  R3EEUZKKK9J36I,R3HJVYCLYOY554,REDECAZ7AMPQC,R1...   \n",
       "4  R1BP4L2HH9TFUP,R16PVJEXKV6QZS,R2UPDB81N66T4P,R...   \n",
       "\n",
       "                                        review_title  \\\n",
       "0  Satisfied,Charging is really fast,Value for mo...   \n",
       "1  A Good Braided Cable for Your Type C Device,Go...   \n",
       "2  Good speed for earlier versions,Good Product,W...   \n",
       "3  Good product,Good one,Nice,Really nice product...   \n",
       "4  As good as original,Decent,Good one for second...   \n",
       "\n",
       "                                      review_content  \\\n",
       "0  Looks durable Charging is fine tooNo complains...   \n",
       "1  I ordered this cable to connect my phone to An...   \n",
       "2  Not quite durable and sturdy,https://m.media-a...   \n",
       "3  Good product,long wire,Charges good,Nice,I bou...   \n",
       "4  Bought this instead of original apple, does th...   \n",
       "\n",
       "                                            img_link  \\\n",
       "0  https://m.media-amazon.com/images/W/WEBP_40237...   \n",
       "1  https://m.media-amazon.com/images/W/WEBP_40237...   \n",
       "2  https://m.media-amazon.com/images/W/WEBP_40237...   \n",
       "3  https://m.media-amazon.com/images/I/41V5FtEWPk...   \n",
       "4  https://m.media-amazon.com/images/W/WEBP_40237...   \n",
       "\n",
       "                                        product_link  \n",
       "0  https://www.amazon.in/Wayona-Braided-WN3LG1-Sy...  \n",
       "1  https://www.amazon.in/Ambrane-Unbreakable-Char...  \n",
       "2  https://www.amazon.in/Sounce-iPhone-Charging-C...  \n",
       "3  https://www.amazon.in/Deuce-300-Resistant-Tang...  \n",
       "4  https://www.amazon.in/Portronics-Konnect-POR-1...  "
      ]
     },
     "execution_count": 3,
     "metadata": {},
     "output_type": "execute_result"
    }
   ],
   "source": [
    "df.head()"
   ]
  },
  {
   "cell_type": "code",
   "execution_count": 4,
   "id": "0cbe8113",
   "metadata": {},
   "outputs": [
    {
     "data": {
      "text/plain": [
       "(1465, 16)"
      ]
     },
     "execution_count": 4,
     "metadata": {},
     "output_type": "execute_result"
    }
   ],
   "source": [
    "df.shape"
   ]
  },
  {
   "cell_type": "markdown",
   "id": "71257bb9",
   "metadata": {},
   "source": [
    "##### MISSING VALUES"
   ]
  },
  {
   "cell_type": "code",
   "execution_count": 5,
   "id": "6e46c8fa",
   "metadata": {},
   "outputs": [
    {
     "name": "stdout",
     "output_type": "stream",
     "text": [
      "product_id             0\n",
      "product_name           0\n",
      "category               0\n",
      "discounted_price       0\n",
      "actual_price           0\n",
      "discount_percentage    0\n",
      "rating                 0\n",
      "rating_count           2\n",
      "about_product          0\n",
      "user_id                0\n",
      "user_name              0\n",
      "review_id              0\n",
      "review_title           0\n",
      "review_content         0\n",
      "img_link               0\n",
      "product_link           0\n",
      "dtype: int64\n"
     ]
    },
    {
     "data": {
      "text/html": [
       "<div>\n",
       "<style scoped>\n",
       "    .dataframe tbody tr th:only-of-type {\n",
       "        vertical-align: middle;\n",
       "    }\n",
       "\n",
       "    .dataframe tbody tr th {\n",
       "        vertical-align: top;\n",
       "    }\n",
       "\n",
       "    .dataframe thead th {\n",
       "        text-align: right;\n",
       "    }\n",
       "</style>\n",
       "<table border=\"1\" class=\"dataframe\">\n",
       "  <thead>\n",
       "    <tr style=\"text-align: right;\">\n",
       "      <th></th>\n",
       "      <th>product_id</th>\n",
       "      <th>product_name</th>\n",
       "      <th>category</th>\n",
       "      <th>discounted_price</th>\n",
       "      <th>actual_price</th>\n",
       "      <th>discount_percentage</th>\n",
       "      <th>rating</th>\n",
       "      <th>rating_count</th>\n",
       "      <th>about_product</th>\n",
       "      <th>user_id</th>\n",
       "      <th>user_name</th>\n",
       "      <th>review_id</th>\n",
       "      <th>review_title</th>\n",
       "      <th>review_content</th>\n",
       "      <th>img_link</th>\n",
       "      <th>product_link</th>\n",
       "    </tr>\n",
       "  </thead>\n",
       "  <tbody>\n",
       "    <tr>\n",
       "      <th>282</th>\n",
       "      <td>B0B94JPY2N</td>\n",
       "      <td>Amazon Brand - Solimo 65W Fast Charging Braide...</td>\n",
       "      <td>Computers&amp;Accessories|Accessories&amp;Peripherals|...</td>\n",
       "      <td>₹199</td>\n",
       "      <td>₹999</td>\n",
       "      <td>80%</td>\n",
       "      <td>3.0</td>\n",
       "      <td>NaN</td>\n",
       "      <td>USB C to C Cable: This cable has type C connec...</td>\n",
       "      <td>AE7CFHY23VAJT2FI4NZKKP6GS2UQ</td>\n",
       "      <td>Pranav</td>\n",
       "      <td>RUB7U91HVZ30</td>\n",
       "      <td>The cable works but is not 65W as advertised</td>\n",
       "      <td>I have a pd supported car charger and I bought...</td>\n",
       "      <td>https://m.media-amazon.com/images/W/WEBP_40237...</td>\n",
       "      <td>https://www.amazon.in/Amazon-Brand-Charging-Su...</td>\n",
       "    </tr>\n",
       "    <tr>\n",
       "      <th>324</th>\n",
       "      <td>B0BQRJ3C47</td>\n",
       "      <td>REDTECH USB-C to Lightning Cable 3.3FT, [Apple...</td>\n",
       "      <td>Computers&amp;Accessories|Accessories&amp;Peripherals|...</td>\n",
       "      <td>₹249</td>\n",
       "      <td>₹999</td>\n",
       "      <td>75%</td>\n",
       "      <td>5.0</td>\n",
       "      <td>NaN</td>\n",
       "      <td>💎[The Fastest Charge] - This iPhone USB C cabl...</td>\n",
       "      <td>AGJC5O5H5BBXWUV7WRIEIOOR3TVQ</td>\n",
       "      <td>Abdul Gafur</td>\n",
       "      <td>RQXD5SAMMPC6L</td>\n",
       "      <td>Awesome Product</td>\n",
       "      <td>Quick delivery.Awesome ProductPacking was good...</td>\n",
       "      <td>https://m.media-amazon.com/images/I/31-q0xhaTA...</td>\n",
       "      <td>https://www.amazon.in/REDTECH-Lightning-Certif...</td>\n",
       "    </tr>\n",
       "  </tbody>\n",
       "</table>\n",
       "</div>"
      ],
      "text/plain": [
       "     product_id                                       product_name  \\\n",
       "282  B0B94JPY2N  Amazon Brand - Solimo 65W Fast Charging Braide...   \n",
       "324  B0BQRJ3C47  REDTECH USB-C to Lightning Cable 3.3FT, [Apple...   \n",
       "\n",
       "                                              category discounted_price  \\\n",
       "282  Computers&Accessories|Accessories&Peripherals|...             ₹199   \n",
       "324  Computers&Accessories|Accessories&Peripherals|...             ₹249   \n",
       "\n",
       "    actual_price discount_percentage rating rating_count  \\\n",
       "282         ₹999                 80%    3.0          NaN   \n",
       "324         ₹999                 75%    5.0          NaN   \n",
       "\n",
       "                                         about_product  \\\n",
       "282  USB C to C Cable: This cable has type C connec...   \n",
       "324  💎[The Fastest Charge] - This iPhone USB C cabl...   \n",
       "\n",
       "                          user_id    user_name      review_id  \\\n",
       "282  AE7CFHY23VAJT2FI4NZKKP6GS2UQ       Pranav   RUB7U91HVZ30   \n",
       "324  AGJC5O5H5BBXWUV7WRIEIOOR3TVQ  Abdul Gafur  RQXD5SAMMPC6L   \n",
       "\n",
       "                                     review_title  \\\n",
       "282  The cable works but is not 65W as advertised   \n",
       "324                               Awesome Product   \n",
       "\n",
       "                                        review_content  \\\n",
       "282  I have a pd supported car charger and I bought...   \n",
       "324  Quick delivery.Awesome ProductPacking was good...   \n",
       "\n",
       "                                              img_link  \\\n",
       "282  https://m.media-amazon.com/images/W/WEBP_40237...   \n",
       "324  https://m.media-amazon.com/images/I/31-q0xhaTA...   \n",
       "\n",
       "                                          product_link  \n",
       "282  https://www.amazon.in/Amazon-Brand-Charging-Su...  \n",
       "324  https://www.amazon.in/REDTECH-Lightning-Certif...  "
      ]
     },
     "execution_count": 5,
     "metadata": {},
     "output_type": "execute_result"
    }
   ],
   "source": [
    "def check_missing_values(dataframe):\n",
    "    return dataframe.isnull().sum()\n",
    "\n",
    "print(check_missing_values(df))\n",
    "df[df.rating_count.isnull()]"
   ]
  },
  {
   "cell_type": "markdown",
   "id": "0a30adb1",
   "metadata": {},
   "source": [
    "> Only rating_count present NaN. As it is only two rows I decided to remove then using .dropna() function."
   ]
  },
  {
   "cell_type": "code",
   "execution_count": 6,
   "id": "200f56b4",
   "metadata": {},
   "outputs": [
    {
     "name": "stdout",
     "output_type": "stream",
     "text": [
      "product_id             0\n",
      "product_name           0\n",
      "category               0\n",
      "discounted_price       0\n",
      "actual_price           0\n",
      "discount_percentage    0\n",
      "rating                 0\n",
      "rating_count           0\n",
      "about_product          0\n",
      "user_id                0\n",
      "user_name              0\n",
      "review_id              0\n",
      "review_title           0\n",
      "review_content         0\n",
      "img_link               0\n",
      "product_link           0\n",
      "dtype: int64\n"
     ]
    }
   ],
   "source": [
    "df.dropna(subset=['rating_count'], inplace=True)\n",
    "print(check_missing_values(df))"
   ]
  },
  {
   "cell_type": "markdown",
   "id": "42858343",
   "metadata": {},
   "source": [
    "##### DUPLICATE DATA"
   ]
  },
  {
   "cell_type": "code",
   "execution_count": 7,
   "id": "7be51f47",
   "metadata": {},
   "outputs": [
    {
     "name": "stdout",
     "output_type": "stream",
     "text": [
      "0\n"
     ]
    }
   ],
   "source": [
    "def check_duplicates(dataframe):\n",
    "    return dataframe.duplicated().sum()\n",
    "\n",
    "print(check_duplicates(df))"
   ]
  },
  {
   "cell_type": "markdown",
   "id": "4cf3fd57",
   "metadata": {},
   "source": [
    "##### DATA TYPES"
   ]
  },
  {
   "cell_type": "code",
   "execution_count": 8,
   "id": "3261616a",
   "metadata": {},
   "outputs": [
    {
     "name": "stdout",
     "output_type": "stream",
     "text": [
      "product_id             object\n",
      "product_name           object\n",
      "category               object\n",
      "discounted_price       object\n",
      "actual_price           object\n",
      "discount_percentage    object\n",
      "rating                 object\n",
      "rating_count           object\n",
      "about_product          object\n",
      "user_id                object\n",
      "user_name              object\n",
      "review_id              object\n",
      "review_title           object\n",
      "review_content         object\n",
      "img_link               object\n",
      "product_link           object\n",
      "dtype: object\n"
     ]
    }
   ],
   "source": [
    "def check_data_types(dataframe):\n",
    "    return dataframe.dtypes\n",
    "\n",
    "print(check_data_types(df))"
   ]
  },
  {
   "cell_type": "markdown",
   "id": "c871f5f6",
   "metadata": {},
   "source": [
    "> Some variables in a dataset may have an object data type, which means they are strings. In order to perform numerical analysis on these variables, we need to convert them to numeric values. For example, if we want to calculate the total price of all products, we cannot do so if the price variable is in object format. We need to convert it to a numeric data type first."
   ]
  },
  {
   "cell_type": "code",
   "execution_count": 9,
   "id": "9d77769d",
   "metadata": {},
   "outputs": [],
   "source": [
    "df['discounted_price'] = df['discounted_price'].astype(str).str.replace('₹', '').str.replace(',', '').astype(float)\n",
    "df['actual_price'] = df['actual_price'].astype(str).str.replace('₹', '').str.replace(',', '').astype(float)\n",
    "df['discount_percentage'] = df['discount_percentage'].astype(str).str.replace('%','').astype(float)/100"
   ]
  },
  {
   "cell_type": "markdown",
   "id": "87270a64",
   "metadata": {},
   "source": [
    "> The rating column has a value with an incorrect character, so we will exclude the row to obtain a clean dataset."
   ]
  },
  {
   "cell_type": "code",
   "execution_count": 10,
   "id": "3450c40b",
   "metadata": {},
   "outputs": [
    {
     "name": "stdout",
     "output_type": "stream",
     "text": [
      "Total rows with '|' in 'rating' column: 1\n",
      "Total rows with '|' in 'rating' column: 0\n"
     ]
    }
   ],
   "source": [
    "count = df['rating'].str.contains('\\|').sum()\n",
    "print(f\"Total rows with '|' in 'rating' column: {count}\")\n",
    "df = df[df['rating'].apply(lambda x: '|' not in str(x))]\n",
    "count = df['rating'].str.contains('\\|').sum()\n",
    "print(f\"Total rows with '|' in 'rating' column: {count}\")"
   ]
  },
  {
   "cell_type": "code",
   "execution_count": 11,
   "id": "de34c77a",
   "metadata": {},
   "outputs": [],
   "source": [
    "df['rating'] = df['rating'].astype(str).str.replace(',', '').astype(float)\n",
    "df['rating_count'] = df['rating_count'].astype(str).str.replace(',', '').astype(float)"
   ]
  },
  {
   "cell_type": "code",
   "execution_count": 12,
   "id": "d2c826c5",
   "metadata": {},
   "outputs": [
    {
     "name": "stdout",
     "output_type": "stream",
     "text": [
      "product_id              object\n",
      "product_name            object\n",
      "category                object\n",
      "discounted_price       float64\n",
      "actual_price           float64\n",
      "discount_percentage    float64\n",
      "rating                 float64\n",
      "rating_count           float64\n",
      "about_product           object\n",
      "user_id                 object\n",
      "user_name               object\n",
      "review_id               object\n",
      "review_title            object\n",
      "review_content          object\n",
      "img_link                object\n",
      "product_link            object\n",
      "dtype: object\n"
     ]
    }
   ],
   "source": [
    "print(check_data_types(df))"
   ]
  },
  {
   "cell_type": "markdown",
   "id": "e412028c",
   "metadata": {},
   "source": [
    "> Now that the data types have been modified, let's add another column to our database that could be useful. \"rating_weighted\" was chosen since it may be used to take into account both the quantity and the average of ratings for a product. This column gives ratings with a high number of raters more weight by dividing the average rating by the total number of ratings. This can assist distinguish between items with high average ratings but few raters and those with great customer satisfaction and numerous positive reviews."
   ]
  },
  {
   "cell_type": "code",
   "execution_count": 13,
   "id": "86520a5a",
   "metadata": {},
   "outputs": [
    {
     "name": "stdout",
     "output_type": "stream",
     "text": [
      "product_id              object\n",
      "product_name            object\n",
      "category                object\n",
      "discounted_price       float64\n",
      "actual_price           float64\n",
      "discount_percentage    float64\n",
      "rating                 float64\n",
      "rating_count           float64\n",
      "about_product           object\n",
      "user_id                 object\n",
      "user_name               object\n",
      "review_id               object\n",
      "review_title            object\n",
      "review_content          object\n",
      "img_link                object\n",
      "product_link            object\n",
      "dtype: object\n"
     ]
    }
   ],
   "source": [
    "print(check_data_types(df))"
   ]
  },
  {
   "cell_type": "markdown",
   "id": "0e2f567d",
   "metadata": {},
   "source": [
    "##### DROPING UNUSUFUL COLUMNS"
   ]
  },
  {
   "cell_type": "code",
   "execution_count": 14,
   "id": "34ddffbc",
   "metadata": {},
   "outputs": [],
   "source": [
    "df = df.drop(['img_link', 'product_link'], axis=1)"
   ]
  },
  {
   "cell_type": "markdown",
   "id": "a6d470af",
   "metadata": {},
   "source": [
    "###### CREATING RATING WEIGH"
   ]
  },
  {
   "cell_type": "markdown",
   "id": "c76858fe",
   "metadata": {},
   "source": [
    "> Now that we have adjusted the data types, let's create one more colum that could be interesting to have in our database. \"rating_weighted\" because it can be created as a way of considering not only the average rating, but also the number of people who rated the product. This column weighs the average rating by the number of ratings, giving more weight to ratings with a large number of raters. This can help identify products with high customer satisfaction and many positive ratings compared to products with high average ratings but few raters."
   ]
  },
  {
   "cell_type": "code",
   "execution_count": 15,
   "id": "d22376c5",
   "metadata": {},
   "outputs": [],
   "source": [
    "# Creating the column \"rating_weighted\"\n",
    "df['rating_weighted'] = df['rating'] * df['rating_count']"
   ]
  },
  {
   "cell_type": "markdown",
   "id": "c640f36e",
   "metadata": {},
   "source": [
    "> In order to have a better understanding of how our items are distributed throughout the various categories I will extract both the main and final categories from the category column. By defining the primary category, we can comprehend the product's categorization in a more general sense, whereas the secondary category explains the product's nature in more detail.\n",
    ">\n",
    "> As an example, if there is a primary category for \"Electronics\" and a subcategory for \"Smartphones\", we may infer that the product in question is a smartphone and so belongs to the electronics category as a whole. Understanding the distribution of our items and spotting trends and patterns within particular categories may both benefit from this knowledge.\n",
    ">\n",
    "> Also, removing both the primary and secondary categories helps improve communication and data presentation. These categories allow us to produce more informative and succinct charts and tables that more clearly depict the distribution of items by category.\n",
    ">\n",
    "> In summary, identifying both the primary and secondary categories is a crucial phase in our exploratory data analysis procedure that aids in our knowledge of the data and decision-making."
   ]
  },
  {
   "cell_type": "code",
   "execution_count": 16,
   "id": "d56ce86c",
   "metadata": {},
   "outputs": [],
   "source": [
    "df['sub_category'] = df['category'].astype(str).str.split('|').str[-1]\n",
    "df['main_category'] = df['category'].astype(str).str.split('|').str[0]"
   ]
  },
  {
   "cell_type": "code",
   "execution_count": 17,
   "id": "44a0c8b4",
   "metadata": {},
   "outputs": [
    {
     "data": {
      "text/plain": [
       "Index(['product_id', 'product_name', 'category', 'discounted_price',\n",
       "       'actual_price', 'discount_percentage', 'rating', 'rating_count',\n",
       "       'about_product', 'user_id', 'user_name', 'review_id', 'review_title',\n",
       "       'review_content', 'rating_weighted', 'sub_category', 'main_category'],\n",
       "      dtype='object')"
      ]
     },
     "execution_count": 17,
     "metadata": {},
     "output_type": "execute_result"
    }
   ],
   "source": [
    "df.columns"
   ]
  },
  {
   "cell_type": "code",
   "execution_count": 18,
   "id": "91c0fc3f",
   "metadata": {},
   "outputs": [
    {
     "data": {
      "text/plain": [
       "Electronics              526\n",
       "Computers&Accessories    451\n",
       "Home&Kitchen             447\n",
       "OfficeProducts            31\n",
       "MusicalInstruments         2\n",
       "HomeImprovement            2\n",
       "Toys&Games                 1\n",
       "Car&Motorbike              1\n",
       "Health&PersonalCare        1\n",
       "Name: category, dtype: int64"
      ]
     },
     "execution_count": 18,
     "metadata": {},
     "output_type": "execute_result"
    }
   ],
   "source": [
    "df['category'].str.split('|').apply(lambda x: x[0]).value_counts()"
   ]
  },
  {
   "cell_type": "code",
   "execution_count": 19,
   "id": "88cfa079",
   "metadata": {},
   "outputs": [],
   "source": [
    "df['category']=df['category'].str.split('|').apply(lambda x: x[0])"
   ]
  },
  {
   "cell_type": "code",
   "execution_count": 20,
   "id": "9a8e50be",
   "metadata": {
    "scrolled": false
   },
   "outputs": [
    {
     "data": {
      "text/html": [
       "<div>\n",
       "<style scoped>\n",
       "    .dataframe tbody tr th:only-of-type {\n",
       "        vertical-align: middle;\n",
       "    }\n",
       "\n",
       "    .dataframe tbody tr th {\n",
       "        vertical-align: top;\n",
       "    }\n",
       "\n",
       "    .dataframe thead th {\n",
       "        text-align: right;\n",
       "    }\n",
       "</style>\n",
       "<table border=\"1\" class=\"dataframe\">\n",
       "  <thead>\n",
       "    <tr style=\"text-align: right;\">\n",
       "      <th></th>\n",
       "      <th>product_id</th>\n",
       "      <th>category</th>\n",
       "      <th>discounted_price</th>\n",
       "      <th>actual_price</th>\n",
       "      <th>discount_percentage</th>\n",
       "      <th>rating</th>\n",
       "      <th>rating_count</th>\n",
       "      <th>about_product</th>\n",
       "      <th>user_id</th>\n",
       "      <th>user_name</th>\n",
       "      <th>review_id</th>\n",
       "      <th>review_title</th>\n",
       "      <th>review_content</th>\n",
       "      <th>rating_weighted</th>\n",
       "      <th>sub_category</th>\n",
       "      <th>main_category</th>\n",
       "    </tr>\n",
       "    <tr>\n",
       "      <th>product_name</th>\n",
       "      <th></th>\n",
       "      <th></th>\n",
       "      <th></th>\n",
       "      <th></th>\n",
       "      <th></th>\n",
       "      <th></th>\n",
       "      <th></th>\n",
       "      <th></th>\n",
       "      <th></th>\n",
       "      <th></th>\n",
       "      <th></th>\n",
       "      <th></th>\n",
       "      <th></th>\n",
       "      <th></th>\n",
       "      <th></th>\n",
       "      <th></th>\n",
       "    </tr>\n",
       "  </thead>\n",
       "  <tbody>\n",
       "    <tr>\n",
       "      <th>Wayona Nylon Braided USB to Lightning Fast Charging and Data Sync Cable Compatible for iPhone 13, 12,11, X, 8, 7, 6, 5, iPad Air, Pro, Mini (3 FT Pack of 1, Grey)</th>\n",
       "      <td>B07JW9H4J1</td>\n",
       "      <td>Computers&amp;Accessories</td>\n",
       "      <td>399.0</td>\n",
       "      <td>1099.0</td>\n",
       "      <td>0.64</td>\n",
       "      <td>4.2</td>\n",
       "      <td>24269.0</td>\n",
       "      <td>High Compatibility : Compatible With iPhone 12...</td>\n",
       "      <td>AG3D6O4STAQKAY2UVGEUV46KN35Q,AHMY5CWJMMK5BJRBB...</td>\n",
       "      <td>Manav,Adarsh gupta,Sundeep,S.Sayeed Ahmed,jasp...</td>\n",
       "      <td>R3HXWT0LRP0NMF,R2AJM3LFTLZHFO,R6AQJGUP6P86,R1K...</td>\n",
       "      <td>Satisfied,Charging is really fast,Value for mo...</td>\n",
       "      <td>Looks durable Charging is fine tooNo complains...</td>\n",
       "      <td>101929.8</td>\n",
       "      <td>USBCables</td>\n",
       "      <td>Computers&amp;Accessories</td>\n",
       "    </tr>\n",
       "    <tr>\n",
       "      <th>Ambrane Unbreakable 60W / 3A Fast Charging 1.5m Braided Type C Cable for Smartphones, Tablets, Laptops &amp; other Type C devices, PD Technology, 480Mbps Data Sync, Quick Charge 3.0 (RCT15A, Black)</th>\n",
       "      <td>B098NS6PVG</td>\n",
       "      <td>Computers&amp;Accessories</td>\n",
       "      <td>199.0</td>\n",
       "      <td>349.0</td>\n",
       "      <td>0.43</td>\n",
       "      <td>4.0</td>\n",
       "      <td>43994.0</td>\n",
       "      <td>Compatible with all Type C enabled devices, be...</td>\n",
       "      <td>AECPFYFQVRUWC3KGNLJIOREFP5LQ,AGYYVPDD7YG7FYNBX...</td>\n",
       "      <td>ArdKn,Nirbhay kumar,Sagar Viswanathan,Asp,Plac...</td>\n",
       "      <td>RGIQEG07R9HS2,R1SMWZQ86XIN8U,R2J3Y1WL29GWDE,RY...</td>\n",
       "      <td>A Good Braided Cable for Your Type C Device,Go...</td>\n",
       "      <td>I ordered this cable to connect my phone to An...</td>\n",
       "      <td>175976.0</td>\n",
       "      <td>USBCables</td>\n",
       "      <td>Computers&amp;Accessories</td>\n",
       "    </tr>\n",
       "    <tr>\n",
       "      <th>Sounce Fast Phone Charging Cable &amp; Data Sync USB Cable Compatible for iPhone 13, 12,11, X, 8, 7, 6, 5, iPad Air, Pro, Mini &amp; iOS Devices</th>\n",
       "      <td>B096MSW6CT</td>\n",
       "      <td>Computers&amp;Accessories</td>\n",
       "      <td>199.0</td>\n",
       "      <td>1899.0</td>\n",
       "      <td>0.90</td>\n",
       "      <td>3.9</td>\n",
       "      <td>7928.0</td>\n",
       "      <td>【 Fast Charger&amp; Data Sync】-With built-in safet...</td>\n",
       "      <td>AGU3BBQ2V2DDAMOAKGFAWDDQ6QHA,AESFLDV2PT363T2AQ...</td>\n",
       "      <td>Kunal,Himanshu,viswanath,sai niharka,saqib mal...</td>\n",
       "      <td>R3J3EQQ9TZI5ZJ,R3E7WBGK7ID0KV,RWU79XKQ6I1QF,R2...</td>\n",
       "      <td>Good speed for earlier versions,Good Product,W...</td>\n",
       "      <td>Not quite durable and sturdy,https://m.media-a...</td>\n",
       "      <td>30919.2</td>\n",
       "      <td>USBCables</td>\n",
       "      <td>Computers&amp;Accessories</td>\n",
       "    </tr>\n",
       "    <tr>\n",
       "      <th>boAt Deuce USB 300 2 in 1 Type-C &amp; Micro USB Stress Resistant, Tangle-Free, Sturdy Cable with 3A Fast Charging &amp; 480mbps Data Transmission, 10000+ Bends Lifespan and Extended 1.5m Length(Martian Red)</th>\n",
       "      <td>B08HDJ86NZ</td>\n",
       "      <td>Computers&amp;Accessories</td>\n",
       "      <td>329.0</td>\n",
       "      <td>699.0</td>\n",
       "      <td>0.53</td>\n",
       "      <td>4.2</td>\n",
       "      <td>94363.0</td>\n",
       "      <td>The boAt Deuce USB 300 2 in 1 cable is compati...</td>\n",
       "      <td>AEWAZDZZJLQUYVOVGBEUKSLXHQ5A,AG5HTSFRRE6NL3M5S...</td>\n",
       "      <td>Omkar dhale,JD,HEMALATHA,Ajwadh a.,amar singh ...</td>\n",
       "      <td>R3EEUZKKK9J36I,R3HJVYCLYOY554,REDECAZ7AMPQC,R1...</td>\n",
       "      <td>Good product,Good one,Nice,Really nice product...</td>\n",
       "      <td>Good product,long wire,Charges good,Nice,I bou...</td>\n",
       "      <td>396324.6</td>\n",
       "      <td>USBCables</td>\n",
       "      <td>Computers&amp;Accessories</td>\n",
       "    </tr>\n",
       "    <tr>\n",
       "      <th>Portronics Konnect L 1.2M Fast Charging 3A 8 Pin USB Cable with Charge &amp; Sync Function for iPhone, iPad (Grey)</th>\n",
       "      <td>B08CF3B7N1</td>\n",
       "      <td>Computers&amp;Accessories</td>\n",
       "      <td>154.0</td>\n",
       "      <td>399.0</td>\n",
       "      <td>0.61</td>\n",
       "      <td>4.2</td>\n",
       "      <td>16905.0</td>\n",
       "      <td>[CHARGE &amp; SYNC FUNCTION]- This cable comes wit...</td>\n",
       "      <td>AE3Q6KSUK5P75D5HFYHCRAOLODSA,AFUGIFH5ZAFXRDSZH...</td>\n",
       "      <td>rahuls6099,Swasat Borah,Ajay Wadke,Pranali,RVK...</td>\n",
       "      <td>R1BP4L2HH9TFUP,R16PVJEXKV6QZS,R2UPDB81N66T4P,R...</td>\n",
       "      <td>As good as original,Decent,Good one for second...</td>\n",
       "      <td>Bought this instead of original apple, does th...</td>\n",
       "      <td>71001.0</td>\n",
       "      <td>USBCables</td>\n",
       "      <td>Computers&amp;Accessories</td>\n",
       "    </tr>\n",
       "    <tr>\n",
       "      <th>...</th>\n",
       "      <td>...</td>\n",
       "      <td>...</td>\n",
       "      <td>...</td>\n",
       "      <td>...</td>\n",
       "      <td>...</td>\n",
       "      <td>...</td>\n",
       "      <td>...</td>\n",
       "      <td>...</td>\n",
       "      <td>...</td>\n",
       "      <td>...</td>\n",
       "      <td>...</td>\n",
       "      <td>...</td>\n",
       "      <td>...</td>\n",
       "      <td>...</td>\n",
       "      <td>...</td>\n",
       "      <td>...</td>\n",
       "    </tr>\n",
       "    <tr>\n",
       "      <th>Noir Aqua - 5pcs PP Spun Filter + 1 Spanner | for All Types of RO Water purifiers (5 Piece, White, 10 Inch, 5 Micron) - RO Spun Filter Cartridge Sponge Replacement Water Filter Candle</th>\n",
       "      <td>B08L7J3T31</td>\n",
       "      <td>Home&amp;Kitchen</td>\n",
       "      <td>379.0</td>\n",
       "      <td>919.0</td>\n",
       "      <td>0.59</td>\n",
       "      <td>4.0</td>\n",
       "      <td>1090.0</td>\n",
       "      <td>SUPREME QUALITY 90 GRAM 3 LAYER THIK PP SPUN F...</td>\n",
       "      <td>AHITFY6AHALOFOHOZEOC6XBP4FEA,AFRABBODZJZQB6Z4U...</td>\n",
       "      <td>Prabha ds,Raghuram bk,Real Deal,Amazon Custome...</td>\n",
       "      <td>R3G3XFHPBFF0E8,R3C0BZCD32EIGW,R2EBVBCN9QPD9R,R...</td>\n",
       "      <td>Received the product without spanner,Excellent...</td>\n",
       "      <td>I received product without spanner,Excellent p...</td>\n",
       "      <td>4360.0</td>\n",
       "      <td>WaterPurifierAccessories</td>\n",
       "      <td>Home&amp;Kitchen</td>\n",
       "    </tr>\n",
       "    <tr>\n",
       "      <th>Prestige Delight PRWO Electric Rice Cooker (1 L, White)</th>\n",
       "      <td>B01M6453MB</td>\n",
       "      <td>Home&amp;Kitchen</td>\n",
       "      <td>2280.0</td>\n",
       "      <td>3045.0</td>\n",
       "      <td>0.25</td>\n",
       "      <td>4.1</td>\n",
       "      <td>4118.0</td>\n",
       "      <td>230 Volts, 400 watts, 1 Year</td>\n",
       "      <td>AFG5FM3NEMOL6BNFRV2NK5FNJCHQ,AGEINTRN6Z563RMLH...</td>\n",
       "      <td>Manu Bhai,Naveenpittu,Evatira Sangma,JAGANNADH...</td>\n",
       "      <td>R3DDL2UPKQ2CK9,R2SYYU1OATVIU5,R1VM993161IYRW,R...</td>\n",
       "      <td>ok,everything was good couldn't return bcoz I ...</td>\n",
       "      <td>ok,got everything as mentioned but the measuri...</td>\n",
       "      <td>16883.8</td>\n",
       "      <td>Rice&amp;PastaCookers</td>\n",
       "      <td>Home&amp;Kitchen</td>\n",
       "    </tr>\n",
       "    <tr>\n",
       "      <th>Bajaj Majesty RX10 2000 Watts Heat Convector Room Heater (White, ISI Approved)</th>\n",
       "      <td>B009P2LIL4</td>\n",
       "      <td>Home&amp;Kitchen</td>\n",
       "      <td>2219.0</td>\n",
       "      <td>3080.0</td>\n",
       "      <td>0.28</td>\n",
       "      <td>3.6</td>\n",
       "      <td>468.0</td>\n",
       "      <td>International design and styling|Two heat sett...</td>\n",
       "      <td>AGVPWCMAHYQWJOQKMUJN4DW3KM5Q,AF4Q3E66MY4SR7YQZ...</td>\n",
       "      <td>Nehal Desai,Danish Parwez,Amazon Customer,Amaz...</td>\n",
       "      <td>R1TLRJVW4STY5I,R2O455KRN493R1,R3Q5MVGBRIAS2G,R...</td>\n",
       "      <td>very good,Work but front melt after 2 month,Go...</td>\n",
       "      <td>plastic but cool body ,u have to find sturdy s...</td>\n",
       "      <td>1684.8</td>\n",
       "      <td>HeatConvectors</td>\n",
       "      <td>Home&amp;Kitchen</td>\n",
       "    </tr>\n",
       "    <tr>\n",
       "      <th>Havells Ventil Air DSP 230mm Exhaust Fan (Pista Green)</th>\n",
       "      <td>B00J5DYCCA</td>\n",
       "      <td>Home&amp;Kitchen</td>\n",
       "      <td>1399.0</td>\n",
       "      <td>1890.0</td>\n",
       "      <td>0.26</td>\n",
       "      <td>4.0</td>\n",
       "      <td>8031.0</td>\n",
       "      <td>Fan sweep area: 230 MM ; Noise level: (40 - 45...</td>\n",
       "      <td>AF2JQCLSCY3QJATWUNNHUSVUPNQQ,AFDMLUXC5LS5RXDJS...</td>\n",
       "      <td>Shubham Dubey,E.GURUBARAN,Mayank S.,eusuf khan...</td>\n",
       "      <td>R39Q2Y79MM9SWK,R3079BG1NIH6MB,R29A31ZELTZNJM,R...</td>\n",
       "      <td>Fan Speed is slow,Good quality,Good product,go...</td>\n",
       "      <td>I have installed this in my kitchen working fi...</td>\n",
       "      <td>32124.0</td>\n",
       "      <td>ExhaustFans</td>\n",
       "      <td>Home&amp;Kitchen</td>\n",
       "    </tr>\n",
       "    <tr>\n",
       "      <th>Borosil Jumbo 1000-Watt Grill Sandwich Maker (Black)</th>\n",
       "      <td>B01486F4G6</td>\n",
       "      <td>Home&amp;Kitchen</td>\n",
       "      <td>2863.0</td>\n",
       "      <td>3690.0</td>\n",
       "      <td>0.22</td>\n",
       "      <td>4.3</td>\n",
       "      <td>6987.0</td>\n",
       "      <td>Brand-Borosil, Specification â€“ 23V ~ 5Hz;1 W...</td>\n",
       "      <td>AFGW5PT3R6ZAVQR4Y5MWVAKBZAYA,AG7QNJ2SCS5VS5VYY...</td>\n",
       "      <td>Rajib,Ajay B,Vikas Kahol,PARDEEP,Anindya Prama...</td>\n",
       "      <td>R20RBRZ0WEUJT9,ROKIFK9R2ISSE,R30EEG2FNJSN5I,R2...</td>\n",
       "      <td>Works perfect,Ok good product,Nice Product. Re...</td>\n",
       "      <td>It does it job perfectly..only issue is temp c...</td>\n",
       "      <td>30044.1</td>\n",
       "      <td>SandwichMakers</td>\n",
       "      <td>Home&amp;Kitchen</td>\n",
       "    </tr>\n",
       "  </tbody>\n",
       "</table>\n",
       "<p>1462 rows × 16 columns</p>\n",
       "</div>"
      ],
      "text/plain": [
       "                                                    product_id  \\\n",
       "product_name                                                     \n",
       "Wayona Nylon Braided USB to Lightning Fast Char...  B07JW9H4J1   \n",
       "Ambrane Unbreakable 60W / 3A Fast Charging 1.5m...  B098NS6PVG   \n",
       "Sounce Fast Phone Charging Cable & Data Sync US...  B096MSW6CT   \n",
       "boAt Deuce USB 300 2 in 1 Type-C & Micro USB St...  B08HDJ86NZ   \n",
       "Portronics Konnect L 1.2M Fast Charging 3A 8 Pi...  B08CF3B7N1   \n",
       "...                                                        ...   \n",
       "Noir Aqua - 5pcs PP Spun Filter + 1 Spanner | f...  B08L7J3T31   \n",
       "Prestige Delight PRWO Electric Rice Cooker (1 L...  B01M6453MB   \n",
       "Bajaj Majesty RX10 2000 Watts Heat Convector Ro...  B009P2LIL4   \n",
       "Havells Ventil Air DSP 230mm Exhaust Fan (Pista...  B00J5DYCCA   \n",
       "Borosil Jumbo 1000-Watt Grill Sandwich Maker (B...  B01486F4G6   \n",
       "\n",
       "                                                                 category  \\\n",
       "product_name                                                                \n",
       "Wayona Nylon Braided USB to Lightning Fast Char...  Computers&Accessories   \n",
       "Ambrane Unbreakable 60W / 3A Fast Charging 1.5m...  Computers&Accessories   \n",
       "Sounce Fast Phone Charging Cable & Data Sync US...  Computers&Accessories   \n",
       "boAt Deuce USB 300 2 in 1 Type-C & Micro USB St...  Computers&Accessories   \n",
       "Portronics Konnect L 1.2M Fast Charging 3A 8 Pi...  Computers&Accessories   \n",
       "...                                                                   ...   \n",
       "Noir Aqua - 5pcs PP Spun Filter + 1 Spanner | f...           Home&Kitchen   \n",
       "Prestige Delight PRWO Electric Rice Cooker (1 L...           Home&Kitchen   \n",
       "Bajaj Majesty RX10 2000 Watts Heat Convector Ro...           Home&Kitchen   \n",
       "Havells Ventil Air DSP 230mm Exhaust Fan (Pista...           Home&Kitchen   \n",
       "Borosil Jumbo 1000-Watt Grill Sandwich Maker (B...           Home&Kitchen   \n",
       "\n",
       "                                                    discounted_price  \\\n",
       "product_name                                                           \n",
       "Wayona Nylon Braided USB to Lightning Fast Char...             399.0   \n",
       "Ambrane Unbreakable 60W / 3A Fast Charging 1.5m...             199.0   \n",
       "Sounce Fast Phone Charging Cable & Data Sync US...             199.0   \n",
       "boAt Deuce USB 300 2 in 1 Type-C & Micro USB St...             329.0   \n",
       "Portronics Konnect L 1.2M Fast Charging 3A 8 Pi...             154.0   \n",
       "...                                                              ...   \n",
       "Noir Aqua - 5pcs PP Spun Filter + 1 Spanner | f...             379.0   \n",
       "Prestige Delight PRWO Electric Rice Cooker (1 L...            2280.0   \n",
       "Bajaj Majesty RX10 2000 Watts Heat Convector Ro...            2219.0   \n",
       "Havells Ventil Air DSP 230mm Exhaust Fan (Pista...            1399.0   \n",
       "Borosil Jumbo 1000-Watt Grill Sandwich Maker (B...            2863.0   \n",
       "\n",
       "                                                    actual_price  \\\n",
       "product_name                                                       \n",
       "Wayona Nylon Braided USB to Lightning Fast Char...        1099.0   \n",
       "Ambrane Unbreakable 60W / 3A Fast Charging 1.5m...         349.0   \n",
       "Sounce Fast Phone Charging Cable & Data Sync US...        1899.0   \n",
       "boAt Deuce USB 300 2 in 1 Type-C & Micro USB St...         699.0   \n",
       "Portronics Konnect L 1.2M Fast Charging 3A 8 Pi...         399.0   \n",
       "...                                                          ...   \n",
       "Noir Aqua - 5pcs PP Spun Filter + 1 Spanner | f...         919.0   \n",
       "Prestige Delight PRWO Electric Rice Cooker (1 L...        3045.0   \n",
       "Bajaj Majesty RX10 2000 Watts Heat Convector Ro...        3080.0   \n",
       "Havells Ventil Air DSP 230mm Exhaust Fan (Pista...        1890.0   \n",
       "Borosil Jumbo 1000-Watt Grill Sandwich Maker (B...        3690.0   \n",
       "\n",
       "                                                    discount_percentage  \\\n",
       "product_name                                                              \n",
       "Wayona Nylon Braided USB to Lightning Fast Char...                 0.64   \n",
       "Ambrane Unbreakable 60W / 3A Fast Charging 1.5m...                 0.43   \n",
       "Sounce Fast Phone Charging Cable & Data Sync US...                 0.90   \n",
       "boAt Deuce USB 300 2 in 1 Type-C & Micro USB St...                 0.53   \n",
       "Portronics Konnect L 1.2M Fast Charging 3A 8 Pi...                 0.61   \n",
       "...                                                                 ...   \n",
       "Noir Aqua - 5pcs PP Spun Filter + 1 Spanner | f...                 0.59   \n",
       "Prestige Delight PRWO Electric Rice Cooker (1 L...                 0.25   \n",
       "Bajaj Majesty RX10 2000 Watts Heat Convector Ro...                 0.28   \n",
       "Havells Ventil Air DSP 230mm Exhaust Fan (Pista...                 0.26   \n",
       "Borosil Jumbo 1000-Watt Grill Sandwich Maker (B...                 0.22   \n",
       "\n",
       "                                                    rating  rating_count  \\\n",
       "product_name                                                               \n",
       "Wayona Nylon Braided USB to Lightning Fast Char...     4.2       24269.0   \n",
       "Ambrane Unbreakable 60W / 3A Fast Charging 1.5m...     4.0       43994.0   \n",
       "Sounce Fast Phone Charging Cable & Data Sync US...     3.9        7928.0   \n",
       "boAt Deuce USB 300 2 in 1 Type-C & Micro USB St...     4.2       94363.0   \n",
       "Portronics Konnect L 1.2M Fast Charging 3A 8 Pi...     4.2       16905.0   \n",
       "...                                                    ...           ...   \n",
       "Noir Aqua - 5pcs PP Spun Filter + 1 Spanner | f...     4.0        1090.0   \n",
       "Prestige Delight PRWO Electric Rice Cooker (1 L...     4.1        4118.0   \n",
       "Bajaj Majesty RX10 2000 Watts Heat Convector Ro...     3.6         468.0   \n",
       "Havells Ventil Air DSP 230mm Exhaust Fan (Pista...     4.0        8031.0   \n",
       "Borosil Jumbo 1000-Watt Grill Sandwich Maker (B...     4.3        6987.0   \n",
       "\n",
       "                                                                                        about_product  \\\n",
       "product_name                                                                                            \n",
       "Wayona Nylon Braided USB to Lightning Fast Char...  High Compatibility : Compatible With iPhone 12...   \n",
       "Ambrane Unbreakable 60W / 3A Fast Charging 1.5m...  Compatible with all Type C enabled devices, be...   \n",
       "Sounce Fast Phone Charging Cable & Data Sync US...  【 Fast Charger& Data Sync】-With built-in safet...   \n",
       "boAt Deuce USB 300 2 in 1 Type-C & Micro USB St...  The boAt Deuce USB 300 2 in 1 cable is compati...   \n",
       "Portronics Konnect L 1.2M Fast Charging 3A 8 Pi...  [CHARGE & SYNC FUNCTION]- This cable comes wit...   \n",
       "...                                                                                               ...   \n",
       "Noir Aqua - 5pcs PP Spun Filter + 1 Spanner | f...  SUPREME QUALITY 90 GRAM 3 LAYER THIK PP SPUN F...   \n",
       "Prestige Delight PRWO Electric Rice Cooker (1 L...                       230 Volts, 400 watts, 1 Year   \n",
       "Bajaj Majesty RX10 2000 Watts Heat Convector Ro...  International design and styling|Two heat sett...   \n",
       "Havells Ventil Air DSP 230mm Exhaust Fan (Pista...  Fan sweep area: 230 MM ; Noise level: (40 - 45...   \n",
       "Borosil Jumbo 1000-Watt Grill Sandwich Maker (B...  Brand-Borosil, Specification â€“ 23V ~ 5Hz;1 W...   \n",
       "\n",
       "                                                                                              user_id  \\\n",
       "product_name                                                                                            \n",
       "Wayona Nylon Braided USB to Lightning Fast Char...  AG3D6O4STAQKAY2UVGEUV46KN35Q,AHMY5CWJMMK5BJRBB...   \n",
       "Ambrane Unbreakable 60W / 3A Fast Charging 1.5m...  AECPFYFQVRUWC3KGNLJIOREFP5LQ,AGYYVPDD7YG7FYNBX...   \n",
       "Sounce Fast Phone Charging Cable & Data Sync US...  AGU3BBQ2V2DDAMOAKGFAWDDQ6QHA,AESFLDV2PT363T2AQ...   \n",
       "boAt Deuce USB 300 2 in 1 Type-C & Micro USB St...  AEWAZDZZJLQUYVOVGBEUKSLXHQ5A,AG5HTSFRRE6NL3M5S...   \n",
       "Portronics Konnect L 1.2M Fast Charging 3A 8 Pi...  AE3Q6KSUK5P75D5HFYHCRAOLODSA,AFUGIFH5ZAFXRDSZH...   \n",
       "...                                                                                               ...   \n",
       "Noir Aqua - 5pcs PP Spun Filter + 1 Spanner | f...  AHITFY6AHALOFOHOZEOC6XBP4FEA,AFRABBODZJZQB6Z4U...   \n",
       "Prestige Delight PRWO Electric Rice Cooker (1 L...  AFG5FM3NEMOL6BNFRV2NK5FNJCHQ,AGEINTRN6Z563RMLH...   \n",
       "Bajaj Majesty RX10 2000 Watts Heat Convector Ro...  AGVPWCMAHYQWJOQKMUJN4DW3KM5Q,AF4Q3E66MY4SR7YQZ...   \n",
       "Havells Ventil Air DSP 230mm Exhaust Fan (Pista...  AF2JQCLSCY3QJATWUNNHUSVUPNQQ,AFDMLUXC5LS5RXDJS...   \n",
       "Borosil Jumbo 1000-Watt Grill Sandwich Maker (B...  AFGW5PT3R6ZAVQR4Y5MWVAKBZAYA,AG7QNJ2SCS5VS5VYY...   \n",
       "\n",
       "                                                                                            user_name  \\\n",
       "product_name                                                                                            \n",
       "Wayona Nylon Braided USB to Lightning Fast Char...  Manav,Adarsh gupta,Sundeep,S.Sayeed Ahmed,jasp...   \n",
       "Ambrane Unbreakable 60W / 3A Fast Charging 1.5m...  ArdKn,Nirbhay kumar,Sagar Viswanathan,Asp,Plac...   \n",
       "Sounce Fast Phone Charging Cable & Data Sync US...  Kunal,Himanshu,viswanath,sai niharka,saqib mal...   \n",
       "boAt Deuce USB 300 2 in 1 Type-C & Micro USB St...  Omkar dhale,JD,HEMALATHA,Ajwadh a.,amar singh ...   \n",
       "Portronics Konnect L 1.2M Fast Charging 3A 8 Pi...  rahuls6099,Swasat Borah,Ajay Wadke,Pranali,RVK...   \n",
       "...                                                                                               ...   \n",
       "Noir Aqua - 5pcs PP Spun Filter + 1 Spanner | f...  Prabha ds,Raghuram bk,Real Deal,Amazon Custome...   \n",
       "Prestige Delight PRWO Electric Rice Cooker (1 L...  Manu Bhai,Naveenpittu,Evatira Sangma,JAGANNADH...   \n",
       "Bajaj Majesty RX10 2000 Watts Heat Convector Ro...  Nehal Desai,Danish Parwez,Amazon Customer,Amaz...   \n",
       "Havells Ventil Air DSP 230mm Exhaust Fan (Pista...  Shubham Dubey,E.GURUBARAN,Mayank S.,eusuf khan...   \n",
       "Borosil Jumbo 1000-Watt Grill Sandwich Maker (B...  Rajib,Ajay B,Vikas Kahol,PARDEEP,Anindya Prama...   \n",
       "\n",
       "                                                                                            review_id  \\\n",
       "product_name                                                                                            \n",
       "Wayona Nylon Braided USB to Lightning Fast Char...  R3HXWT0LRP0NMF,R2AJM3LFTLZHFO,R6AQJGUP6P86,R1K...   \n",
       "Ambrane Unbreakable 60W / 3A Fast Charging 1.5m...  RGIQEG07R9HS2,R1SMWZQ86XIN8U,R2J3Y1WL29GWDE,RY...   \n",
       "Sounce Fast Phone Charging Cable & Data Sync US...  R3J3EQQ9TZI5ZJ,R3E7WBGK7ID0KV,RWU79XKQ6I1QF,R2...   \n",
       "boAt Deuce USB 300 2 in 1 Type-C & Micro USB St...  R3EEUZKKK9J36I,R3HJVYCLYOY554,REDECAZ7AMPQC,R1...   \n",
       "Portronics Konnect L 1.2M Fast Charging 3A 8 Pi...  R1BP4L2HH9TFUP,R16PVJEXKV6QZS,R2UPDB81N66T4P,R...   \n",
       "...                                                                                               ...   \n",
       "Noir Aqua - 5pcs PP Spun Filter + 1 Spanner | f...  R3G3XFHPBFF0E8,R3C0BZCD32EIGW,R2EBVBCN9QPD9R,R...   \n",
       "Prestige Delight PRWO Electric Rice Cooker (1 L...  R3DDL2UPKQ2CK9,R2SYYU1OATVIU5,R1VM993161IYRW,R...   \n",
       "Bajaj Majesty RX10 2000 Watts Heat Convector Ro...  R1TLRJVW4STY5I,R2O455KRN493R1,R3Q5MVGBRIAS2G,R...   \n",
       "Havells Ventil Air DSP 230mm Exhaust Fan (Pista...  R39Q2Y79MM9SWK,R3079BG1NIH6MB,R29A31ZELTZNJM,R...   \n",
       "Borosil Jumbo 1000-Watt Grill Sandwich Maker (B...  R20RBRZ0WEUJT9,ROKIFK9R2ISSE,R30EEG2FNJSN5I,R2...   \n",
       "\n",
       "                                                                                         review_title  \\\n",
       "product_name                                                                                            \n",
       "Wayona Nylon Braided USB to Lightning Fast Char...  Satisfied,Charging is really fast,Value for mo...   \n",
       "Ambrane Unbreakable 60W / 3A Fast Charging 1.5m...  A Good Braided Cable for Your Type C Device,Go...   \n",
       "Sounce Fast Phone Charging Cable & Data Sync US...  Good speed for earlier versions,Good Product,W...   \n",
       "boAt Deuce USB 300 2 in 1 Type-C & Micro USB St...  Good product,Good one,Nice,Really nice product...   \n",
       "Portronics Konnect L 1.2M Fast Charging 3A 8 Pi...  As good as original,Decent,Good one for second...   \n",
       "...                                                                                               ...   \n",
       "Noir Aqua - 5pcs PP Spun Filter + 1 Spanner | f...  Received the product without spanner,Excellent...   \n",
       "Prestige Delight PRWO Electric Rice Cooker (1 L...  ok,everything was good couldn't return bcoz I ...   \n",
       "Bajaj Majesty RX10 2000 Watts Heat Convector Ro...  very good,Work but front melt after 2 month,Go...   \n",
       "Havells Ventil Air DSP 230mm Exhaust Fan (Pista...  Fan Speed is slow,Good quality,Good product,go...   \n",
       "Borosil Jumbo 1000-Watt Grill Sandwich Maker (B...  Works perfect,Ok good product,Nice Product. Re...   \n",
       "\n",
       "                                                                                       review_content  \\\n",
       "product_name                                                                                            \n",
       "Wayona Nylon Braided USB to Lightning Fast Char...  Looks durable Charging is fine tooNo complains...   \n",
       "Ambrane Unbreakable 60W / 3A Fast Charging 1.5m...  I ordered this cable to connect my phone to An...   \n",
       "Sounce Fast Phone Charging Cable & Data Sync US...  Not quite durable and sturdy,https://m.media-a...   \n",
       "boAt Deuce USB 300 2 in 1 Type-C & Micro USB St...  Good product,long wire,Charges good,Nice,I bou...   \n",
       "Portronics Konnect L 1.2M Fast Charging 3A 8 Pi...  Bought this instead of original apple, does th...   \n",
       "...                                                                                               ...   \n",
       "Noir Aqua - 5pcs PP Spun Filter + 1 Spanner | f...  I received product without spanner,Excellent p...   \n",
       "Prestige Delight PRWO Electric Rice Cooker (1 L...  ok,got everything as mentioned but the measuri...   \n",
       "Bajaj Majesty RX10 2000 Watts Heat Convector Ro...  plastic but cool body ,u have to find sturdy s...   \n",
       "Havells Ventil Air DSP 230mm Exhaust Fan (Pista...  I have installed this in my kitchen working fi...   \n",
       "Borosil Jumbo 1000-Watt Grill Sandwich Maker (B...  It does it job perfectly..only issue is temp c...   \n",
       "\n",
       "                                                    rating_weighted  \\\n",
       "product_name                                                          \n",
       "Wayona Nylon Braided USB to Lightning Fast Char...         101929.8   \n",
       "Ambrane Unbreakable 60W / 3A Fast Charging 1.5m...         175976.0   \n",
       "Sounce Fast Phone Charging Cable & Data Sync US...          30919.2   \n",
       "boAt Deuce USB 300 2 in 1 Type-C & Micro USB St...         396324.6   \n",
       "Portronics Konnect L 1.2M Fast Charging 3A 8 Pi...          71001.0   \n",
       "...                                                             ...   \n",
       "Noir Aqua - 5pcs PP Spun Filter + 1 Spanner | f...           4360.0   \n",
       "Prestige Delight PRWO Electric Rice Cooker (1 L...          16883.8   \n",
       "Bajaj Majesty RX10 2000 Watts Heat Convector Ro...           1684.8   \n",
       "Havells Ventil Air DSP 230mm Exhaust Fan (Pista...          32124.0   \n",
       "Borosil Jumbo 1000-Watt Grill Sandwich Maker (B...          30044.1   \n",
       "\n",
       "                                                                sub_category  \\\n",
       "product_name                                                                   \n",
       "Wayona Nylon Braided USB to Lightning Fast Char...                 USBCables   \n",
       "Ambrane Unbreakable 60W / 3A Fast Charging 1.5m...                 USBCables   \n",
       "Sounce Fast Phone Charging Cable & Data Sync US...                 USBCables   \n",
       "boAt Deuce USB 300 2 in 1 Type-C & Micro USB St...                 USBCables   \n",
       "Portronics Konnect L 1.2M Fast Charging 3A 8 Pi...                 USBCables   \n",
       "...                                                                      ...   \n",
       "Noir Aqua - 5pcs PP Spun Filter + 1 Spanner | f...  WaterPurifierAccessories   \n",
       "Prestige Delight PRWO Electric Rice Cooker (1 L...         Rice&PastaCookers   \n",
       "Bajaj Majesty RX10 2000 Watts Heat Convector Ro...            HeatConvectors   \n",
       "Havells Ventil Air DSP 230mm Exhaust Fan (Pista...               ExhaustFans   \n",
       "Borosil Jumbo 1000-Watt Grill Sandwich Maker (B...            SandwichMakers   \n",
       "\n",
       "                                                            main_category  \n",
       "product_name                                                               \n",
       "Wayona Nylon Braided USB to Lightning Fast Char...  Computers&Accessories  \n",
       "Ambrane Unbreakable 60W / 3A Fast Charging 1.5m...  Computers&Accessories  \n",
       "Sounce Fast Phone Charging Cable & Data Sync US...  Computers&Accessories  \n",
       "boAt Deuce USB 300 2 in 1 Type-C & Micro USB St...  Computers&Accessories  \n",
       "Portronics Konnect L 1.2M Fast Charging 3A 8 Pi...  Computers&Accessories  \n",
       "...                                                                   ...  \n",
       "Noir Aqua - 5pcs PP Spun Filter + 1 Spanner | f...           Home&Kitchen  \n",
       "Prestige Delight PRWO Electric Rice Cooker (1 L...           Home&Kitchen  \n",
       "Bajaj Majesty RX10 2000 Watts Heat Convector Ro...           Home&Kitchen  \n",
       "Havells Ventil Air DSP 230mm Exhaust Fan (Pista...           Home&Kitchen  \n",
       "Borosil Jumbo 1000-Watt Grill Sandwich Maker (B...           Home&Kitchen  \n",
       "\n",
       "[1462 rows x 16 columns]"
      ]
     },
     "execution_count": 20,
     "metadata": {},
     "output_type": "execute_result"
    }
   ],
   "source": [
    "df.set_index('product_name')"
   ]
  },
  {
   "cell_type": "markdown",
   "id": "0652cff6",
   "metadata": {},
   "source": [
    "##### VISUALIZATION"
   ]
  },
  {
   "cell_type": "markdown",
   "id": "000f0eb1",
   "metadata": {},
   "source": [
    "Analyze the distribution of customer ratings using a histogram."
   ]
  },
  {
   "cell_type": "code",
   "execution_count": 21,
   "id": "bc6517ca",
   "metadata": {},
   "outputs": [
    {
     "data": {
      "image/png": "[encoded data removed]",
      "text/plain": [
       "<Figure size 640x480 with 1 Axes>"
      ]
     },
     "metadata": {},
     "output_type": "display_data"
    }
   ],
   "source": [
    "# Plot histogram\n",
    "plt.hist(df['rating'])\n",
    "plt.xlabel('Rating')\n",
    "plt.ylabel('Number of Reviews')\n",
    "plt.title('Distribution of Customer Ratings')\n",
    "plt.show()"
   ]
  },
  {
   "cell_type": "code",
   "execution_count": 22,
   "id": "c3cd3e6b",
   "metadata": {},
   "outputs": [
    {
     "name": "stdout",
     "output_type": "stream",
     "text": [
      "  Cluster  Number of Reviews\n",
      "4     0-1                  0\n",
      "3     1-2                  1\n",
      "2     2-3                  8\n",
      "1     3-4                525\n",
      "0     4-5                928\n"
     ]
    }
   ],
   "source": [
    "# Create table with values per cluster\n",
    "bins = [0, 1, 2, 3, 4, 5] # Define bin edges\n",
    "df['cluster'] = pd.cut(df['rating'], bins=bins, include_lowest=True, labels=['0-1', '1-2', '2-3', '3-4', '4-5'])\n",
    "table = df['cluster'].value_counts().reset_index().sort_values('index').rename(columns={'index': 'Cluster', 'cluster': 'Number of Reviews'})\n",
    "print(table)"
   ]
  },
  {
   "cell_type": "markdown",
   "id": "0caa72ca",
   "metadata": {},
   "source": [
    "> The analysis reveals the following insights:\n",
    ">\n",
    ">   * The majority of customer ratings fall within the 3-4 and 4-5 range, comprising a total of 1453 reviews.\n",
    ">   * Notably, there is a rise in reviews within the 2-3 range, compared to the lower 0-1 and 1-2 ranges.\n",
    ">   * The 0-1 range exhibits the fewest reviews, indicating potential areas for enhancing customer satisfaction.\n",
    ">\n",
    "> In summary, while most customers express satisfaction, there are opportunities to further elevate positive ratings."
   ]
  },
  {
   "cell_type": "markdown",
   "id": "2861de9d",
   "metadata": {},
   "source": [
    "##### CORRELATION MATRIX"
   ]
  },
  {
   "cell_type": "markdown",
   "id": "20106a94",
   "metadata": {},
   "source": [
    "> Perform statistical analysis to identify any correlations between different features, such as the relationship between product price and customer rating."
   ]
  },
  {
   "cell_type": "code",
   "execution_count": 23,
   "id": "5c7272e6",
   "metadata": {},
   "outputs": [
    {
     "name": "stdout",
     "output_type": "stream",
     "text": [
      "                     discounted_price  actual_price  discount_percentage  \\\n",
      "discounted_price             1.000000      0.961910            -0.242298   \n",
      "actual_price                 0.961910      1.000000            -0.117855   \n",
      "discount_percentage         -0.242298     -0.117855             1.000000   \n",
      "rating                       0.121132      0.122467            -0.155679   \n",
      "rating_count                -0.027304     -0.036215             0.011294   \n",
      "rating_weighted             -0.027039     -0.035959             0.010701   \n",
      "\n",
      "                       rating  rating_count  rating_weighted  \n",
      "discounted_price     0.121132     -0.027304        -0.027039  \n",
      "actual_price         0.122467     -0.036215        -0.035959  \n",
      "discount_percentage -0.155679      0.011294         0.010701  \n",
      "rating               1.000000      0.102235         0.115217  \n",
      "rating_count         0.102235      1.000000         0.999061  \n",
      "rating_weighted      0.115217      0.999061         1.000000  \n"
     ]
    }
   ],
   "source": [
    "# Drop non-numeric columns\n",
    "numeric_cols = df.select_dtypes(include=['float64', 'int64'])\n",
    "correlation_matrix = numeric_cols.corr()\n",
    "\n",
    "# Print the correlation matrix\n",
    "print(correlation_matrix)"
   ]
  },
  {
   "cell_type": "markdown",
   "id": "b3397980",
   "metadata": {},
   "source": [
    "##### PLOTTING CORRELATION"
   ]
  },
  {
   "cell_type": "code",
   "execution_count": 24,
   "id": "2e344473",
   "metadata": {},
   "outputs": [
    {
     "data": {
      "image/png": "[encoded data removed]",
      "text/plain": [
       "<Figure size 1000x800 with 2 Axes>"
      ]
     },
     "metadata": {},
     "output_type": "display_data"
    }
   ],
   "source": [
    "import seaborn as sns\n",
    "plt.figure(figsize=(10, 8))\n",
    "sns.heatmap(correlation_matrix, annot=True, cmap='coolwarm')\n",
    "plt.title('Correlation Matrix')\n",
    "plt.show()"
   ]
  },
  {
   "cell_type": "markdown",
   "id": "2933438e",
   "metadata": {},
   "source": [
    "> The provided correlation table offers insights into the relationships between various variables in our dataset. Notably, there exists a weak positive correlation between the overall rating and both the rating count and weighted rating, indicating that products with higher ratings tend to garner more reviews and possess higher weighted ratings. Additionally, a moderate positive correlation of 0.121 is observed between the \"rating\" and \"discounted_price\" variables, suggesting that customers may be more inclined to rate a product higher if it is offered at a discounted price. It is important to emphasize that while correlation is identified, causation cannot be inferred. Understanding these associations can, however, provide valuable context for our data. \n",
    ">\n",
    "> To contextualize these findings, it's important to recognize that the strength of a positive correlation—whether weak, moderate, or strong—depends on the specific field of study and research question. A general guideline is as follows: a correlation coefficient (r) between 0.1 and 0.3 denotes a weak positive correlation, while 0.3 to 0.5 indicates a moderate positive correlation. A correlation coefficient surpassing 0.5 signifies a strong positive correlation. Nevertheless, it is crucial to consider factors like sample size, measurement precision, and outliers when interpreting correlation coefficients"
   ]
  },
  {
   "cell_type": "markdown",
   "id": "e4807b5d",
   "metadata": {},
   "source": [
    "##### APPLY MODEL"
   ]
  },
  {
   "cell_type": "code",
   "execution_count": 25,
   "id": "325f058f",
   "metadata": {},
   "outputs": [],
   "source": [
    "X1 = df[['rating', 'rating_count', 'actual_price']]\n",
    "y1 = df['discounted_price']"
   ]
  },
  {
   "cell_type": "code",
   "execution_count": 26,
   "id": "b993f360",
   "metadata": {},
   "outputs": [],
   "source": [
    "from sklearn.model_selection import train_test_split\n",
    "from sklearn.linear_model import LinearRegression\n",
    "\n",
    "X1_train, X1_test, y1_train, y1_test = train_test_split(X1, y1, test_size = 0.2)\n",
    "lr_model = LinearRegression()\n",
    "lr_model.fit(X1_train, y1_train)\n",
    "\n",
    "y1_pred = lr_model.predict(X1_test)"
   ]
  },
  {
   "cell_type": "markdown",
   "id": "4016bbcc",
   "metadata": {},
   "source": [
    "##### INTERCEPT, COEFFICIENT, R SQUARED VALUE"
   ]
  },
  {
   "cell_type": "code",
   "execution_count": 27,
   "id": "457a0c67",
   "metadata": {},
   "outputs": [
    {
     "name": "stdout",
     "output_type": "stream",
     "text": [
      "Linear Regression Intercept:  -528.0769514697558\n",
      "Linear Regression Coefficient:  [7.26935444e+01 1.08891815e-03 6.10323922e-01]\n",
      "R2 Score:  0.9261814231491294\n"
     ]
    }
   ],
   "source": [
    "from sklearn.metrics import r2_score\n",
    "\n",
    "print('Linear Regression Intercept: ',lr_model.intercept_)\n",
    "print('Linear Regression Coefficient: ',lr_model.coef_)\n",
    "print('R2 Score: ', r2_score(y1_test, y1_pred))"
   ]
  },
  {
   "cell_type": "markdown",
   "id": "2cce5726",
   "metadata": {},
   "source": [
    "##### APPLY SCALER"
   ]
  },
  {
   "cell_type": "code",
   "execution_count": 28,
   "id": "38991493",
   "metadata": {},
   "outputs": [],
   "source": [
    "from sklearn.preprocessing import StandardScaler\n",
    "\n",
    "scaler = StandardScaler()\n",
    "\n",
    "X2 = df[['rating', 'rating_count', 'actual_price']]\n",
    "y2 = df['discounted_price']\n",
    "\n",
    "X2 = scaler.fit_transform(X2)"
   ]
  },
  {
   "cell_type": "code",
   "execution_count": 29,
   "id": "799220f7",
   "metadata": {},
   "outputs": [
    {
     "name": "stdout",
     "output_type": "stream",
     "text": [
      "R2 Score: 0.8634637211930857\n"
     ]
    }
   ],
   "source": [
    "X2_train, X2_test, y2_train, y2_test = train_test_split(X2, y2, test_size = 0.2)\n",
    "\n",
    "lr_model.fit(X2_train, y2_train)\n",
    "\n",
    "y2_pred = lr_model.predict(X2_test)\n",
    "print('R2 Score:', r2_score(y2_test, y2_pred))"
   ]
  },
  {
   "cell_type": "markdown",
   "id": "3013bf6f",
   "metadata": {},
   "source": [
    "##### LASSO"
   ]
  },
  {
   "cell_type": "code",
   "execution_count": 30,
   "id": "b7e04621",
   "metadata": {},
   "outputs": [
    {
     "name": "stdout",
     "output_type": "stream",
     "text": [
      "Lasso coefficients:  [  33.21672913   30.03818733 6651.35980485]\n",
      "Lasso score:  0.8634626975485986\n"
     ]
    }
   ],
   "source": [
    "from sklearn.linear_model import Lasso\n",
    "\n",
    "lasso = Lasso(alpha=0.1)\n",
    "lasso.fit(X2_train, y2_train)\n",
    "\n",
    "lasso_pred = lasso.predict(X2_test)\n",
    "\n",
    "print('Lasso coefficients: ',lasso.coef_)\n",
    "print('Lasso score: ',lasso.score(X2_test, y2_test))"
   ]
  },
  {
   "cell_type": "markdown",
   "id": "ee0e4d06",
   "metadata": {},
   "source": [
    "##### RIDGE"
   ]
  },
  {
   "cell_type": "code",
   "execution_count": 31,
   "id": "72e09c1e",
   "metadata": {},
   "outputs": [
    {
     "name": "stdout",
     "output_type": "stream",
     "text": [
      "Ridge score:  0.8634593192716927\n"
     ]
    }
   ],
   "source": [
    "from sklearn.linear_model import Ridge\n",
    "ridge = Ridge(alpha = 0.1)\n",
    "\n",
    "ridge.fit(X2_train, y2_train)\n",
    "ridge_pred = ridge.predict(X2_test)\n",
    "print('Ridge score: ',ridge.score(X2_test, y2_test))"
   ]
  },
  {
   "cell_type": "markdown",
   "id": "5cbada8b",
   "metadata": {},
   "source": [
    "##### RECOMENTATION SYSTEM"
   ]
  },
  {
   "cell_type": "markdown",
   "id": "6fc16cee",
   "metadata": {},
   "source": [
    "> To achieve this goal, I am developing a recommendation system using an Amazon dataset encompassing 1462 rows, with key columns including 'product_name', 'category', 'discounted_price', 'actual_price', among others. Leveraging this dataset, I will build a tailored recommendation engine capable of suggesting products based on a user's browsing history and preferences. This means that upon logging in, users will receive personalized product recommendations, enhancing their shopping experience by introducing them to new and relevant items. This personalized approach aims to make their shopping journey more enjoyable and convenient."
   ]
  },
  {
   "cell_type": "markdown",
   "id": "28ac8d80",
   "metadata": {},
   "source": [
    "###### 1. USER-BASED "
   ]
  },
  {
   "cell_type": "code",
   "execution_count": 32,
   "id": "815fb824",
   "metadata": {},
   "outputs": [
    {
     "name": "stdout",
     "output_type": "stream",
     "text": [
      "      User ID  Frequency\n",
      "0        1045         10\n",
      "1         622          8\n",
      "2         673          8\n",
      "3         253          7\n",
      "4          87          7\n",
      "...       ...        ...\n",
      "1186      505          1\n",
      "1187       11          1\n",
      "1188      897          1\n",
      "1189      369          1\n",
      "1190      432          1\n",
      "\n",
      "[1191 rows x 2 columns]\n",
      "1045\n"
     ]
    }
   ],
   "source": [
    "from sklearn.preprocessing import LabelEncoder\n",
    "\n",
    "le = LabelEncoder()\n",
    "df['user_id_encoded'] = le.fit_transform(df['user_id'])\n",
    "\n",
    "# Create a new dataframe with the user_id frequency table\n",
    "freq_table = pd.DataFrame({'User ID': df['user_id_encoded'].value_counts().index, 'Frequency': df['user_id_encoded'].value_counts().values})\n",
    "\n",
    "# Display the dataframe\n",
    "print(freq_table)\n",
    "id_example = freq_table.iloc[0,0]\n",
    "print(id_example)"
   ]
  },
  {
   "cell_type": "markdown",
   "id": "333d63f0",
   "metadata": {},
   "source": [
    "> Converting strings to numbers is a fundamental step in data analysis and machine learning. This transformation is essential for many algorithms that require numeric input to function effectively. It ensures that the algorithm can process the data accurately. Additionally, numerical data offers advantages over strings, enabling mathematical operations for calculations like averages and statistics. In the context of recommendation systems, converting user IDs from strings to numbers streamlines the computation of similarity scores between users or items, enhancing the system's efficiency and accuracy. In summary, this conversion is a crucial and beneficial practice, especially in elevating the performance of recommendation systems within the realm of data analysis and machine learning."
   ]
  },
  {
   "cell_type": "code",
   "execution_count": 33,
   "id": "8166e8a4",
   "metadata": {},
   "outputs": [],
   "source": [
    "from sklearn.feature_extraction.text import TfidfVectorizer\n",
    "from sklearn.metrics.pairwise import cosine_similarity\n",
    "\n",
    "def recommend_products(df, user_id_encoded):\n",
    "    # Use TfidfVectorizer to transform the product descriptions into numerical feature vectors\n",
    "    tfidf = TfidfVectorizer(stop_words='english')\n",
    "    df['about_product'] = df['about_product'].fillna('')  # fill NaN values with empty string\n",
    "    tfidf_matrix = tfidf.fit_transform(df['about_product'])\n",
    "\n",
    "    # Get the purchase history for the user\n",
    "    user_history = df[df['user_id_encoded'] == user_id_encoded]\n",
    "\n",
    "    # Use cosine_similarity to calculate the similarity between each pair of product descriptions\n",
    "    # only for the products that the user has already purchased\n",
    "    indices = user_history.index.tolist()\n",
    "\n",
    "    if indices:\n",
    "        # Create a new similarity matrix with only the rows and columns for the purchased products\n",
    "        cosine_sim_user = cosine_similarity(tfidf_matrix[indices], tfidf_matrix)\n",
    "\n",
    "        # Create a pandas Series with product indices as the index and product names as the values\n",
    "        products = df.iloc[indices]['product_name']\n",
    "        indices = pd.Series(products.index, index=products)\n",
    "\n",
    "        # Get the indices and similarity scores of products similar to the ones the user has already purchased\n",
    "        similarity_scores = list(enumerate(cosine_sim_user[-1]))\n",
    "        similarity_scores = [(i, score) for (i, score) in similarity_scores if i not in indices]\n",
    "\n",
    "        # Sort the similarity scores in descending order\n",
    "        similarity_scores = sorted(similarity_scores, key=lambda x: x[1], reverse=True)\n",
    "\n",
    "        # Get the indices of the top 5 most similar products\n",
    "        top_products = [i[0] for i in similarity_scores[1:6]]\n",
    "\n",
    "        # Get the names of the top 5 most similar products\n",
    "        recommended_products = df.iloc[top_products]['product_name'].tolist()\n",
    "\n",
    "        # Get the reasons for the recommendation\n",
    "        score = [similarity_scores[i][1] for i in range(5)]\n",
    "\n",
    "        # Create a DataFrame with the results\n",
    "        results_df = pd.DataFrame({'Id Encoded': [user_id_encoded] * 5,\n",
    "                                   'recommended product': recommended_products,\n",
    "                                   'score recommendation': score})\n",
    "\n",
    "        return results_df\n",
    "\n",
    "    else:\n",
    "        print(\"No purchase history found.\")\n",
    "        return None"
   ]
  },
  {
   "cell_type": "code",
   "execution_count": 34,
   "id": "cebddebf",
   "metadata": {},
   "outputs": [
    {
     "data": {
      "text/html": [
       "<div>\n",
       "<style scoped>\n",
       "    .dataframe tbody tr th:only-of-type {\n",
       "        vertical-align: middle;\n",
       "    }\n",
       "\n",
       "    .dataframe tbody tr th {\n",
       "        vertical-align: top;\n",
       "    }\n",
       "\n",
       "    .dataframe thead th {\n",
       "        text-align: right;\n",
       "    }\n",
       "</style>\n",
       "<table border=\"1\" class=\"dataframe\">\n",
       "  <thead>\n",
       "    <tr style=\"text-align: right;\">\n",
       "      <th></th>\n",
       "      <th>Id Encoded</th>\n",
       "      <th>recommended product</th>\n",
       "      <th>score recommendation</th>\n",
       "    </tr>\n",
       "  </thead>\n",
       "  <tbody>\n",
       "    <tr>\n",
       "      <th>0</th>\n",
       "      <td>57</td>\n",
       "      <td>Bajaj ATX 4 750-Watt Pop-up Toaster (White)</td>\n",
       "      <td>1.000000</td>\n",
       "    </tr>\n",
       "    <tr>\n",
       "      <th>1</th>\n",
       "      <td>57</td>\n",
       "      <td>Philips HD6975/00 25 Litre Digital Oven Toaste...</td>\n",
       "      <td>0.415846</td>\n",
       "    </tr>\n",
       "    <tr>\n",
       "      <th>2</th>\n",
       "      <td>57</td>\n",
       "      <td>Prestige Sandwich Maker PGMFD 01, Black</td>\n",
       "      <td>0.238281</td>\n",
       "    </tr>\n",
       "    <tr>\n",
       "      <th>3</th>\n",
       "      <td>57</td>\n",
       "      <td>Lifelong LLMG74 750 Watt Mixer Grinder with 3 ...</td>\n",
       "      <td>0.199790</td>\n",
       "    </tr>\n",
       "    <tr>\n",
       "      <th>4</th>\n",
       "      <td>57</td>\n",
       "      <td>Havells Cista Room Heater, White, 2000 Watts</td>\n",
       "      <td>0.165944</td>\n",
       "    </tr>\n",
       "  </tbody>\n",
       "</table>\n",
       "</div>"
      ],
      "text/plain": [
       "   Id Encoded                                recommended product  \\\n",
       "0          57        Bajaj ATX 4 750-Watt Pop-up Toaster (White)   \n",
       "1          57  Philips HD6975/00 25 Litre Digital Oven Toaste...   \n",
       "2          57            Prestige Sandwich Maker PGMFD 01, Black   \n",
       "3          57  Lifelong LLMG74 750 Watt Mixer Grinder with 3 ...   \n",
       "4          57       Havells Cista Room Heater, White, 2000 Watts   \n",
       "\n",
       "   score recommendation  \n",
       "0              1.000000  \n",
       "1              0.415846  \n",
       "2              0.238281  \n",
       "3              0.199790  \n",
       "4              0.165944  "
      ]
     },
     "execution_count": 34,
     "metadata": {},
     "output_type": "execute_result"
    }
   ],
   "source": [
    "recommend_products(df, 57)"
   ]
  },
  {
   "cell_type": "code",
   "execution_count": 35,
   "id": "30d29411",
   "metadata": {},
   "outputs": [
    {
     "data": {
      "text/html": [
       "<div>\n",
       "<style scoped>\n",
       "    .dataframe tbody tr th:only-of-type {\n",
       "        vertical-align: middle;\n",
       "    }\n",
       "\n",
       "    .dataframe tbody tr th {\n",
       "        vertical-align: top;\n",
       "    }\n",
       "\n",
       "    .dataframe thead th {\n",
       "        text-align: right;\n",
       "    }\n",
       "</style>\n",
       "<table border=\"1\" class=\"dataframe\">\n",
       "  <thead>\n",
       "    <tr style=\"text-align: right;\">\n",
       "      <th></th>\n",
       "      <th>Id Encoded</th>\n",
       "      <th>recommended product</th>\n",
       "      <th>score recommendation</th>\n",
       "    </tr>\n",
       "  </thead>\n",
       "  <tbody>\n",
       "    <tr>\n",
       "      <th>0</th>\n",
       "      <td>1</td>\n",
       "      <td>Lifelong LLQH925 Dyno Quartz Heater 2 Power se...</td>\n",
       "      <td>1.000000</td>\n",
       "    </tr>\n",
       "    <tr>\n",
       "      <th>1</th>\n",
       "      <td>1</td>\n",
       "      <td>USHA Quartz Room Heater with Overheating Prote...</td>\n",
       "      <td>0.948659</td>\n",
       "    </tr>\n",
       "    <tr>\n",
       "      <th>2</th>\n",
       "      <td>1</td>\n",
       "      <td>Orpat OEH-1260 2000-Watt Fan Heater (Grey)</td>\n",
       "      <td>0.659366</td>\n",
       "    </tr>\n",
       "    <tr>\n",
       "      <th>3</th>\n",
       "      <td>1</td>\n",
       "      <td>Maharaja Whiteline Lava Neo 1200-Watts Halogen...</td>\n",
       "      <td>0.330815</td>\n",
       "    </tr>\n",
       "    <tr>\n",
       "      <th>4</th>\n",
       "      <td>1</td>\n",
       "      <td>Bajaj RHX-2 800-Watt Room Heater (White)</td>\n",
       "      <td>0.312224</td>\n",
       "    </tr>\n",
       "  </tbody>\n",
       "</table>\n",
       "</div>"
      ],
      "text/plain": [
       "   Id Encoded                                recommended product  \\\n",
       "0           1  Lifelong LLQH925 Dyno Quartz Heater 2 Power se...   \n",
       "1           1  USHA Quartz Room Heater with Overheating Prote...   \n",
       "2           1         Orpat OEH-1260 2000-Watt Fan Heater (Grey)   \n",
       "3           1  Maharaja Whiteline Lava Neo 1200-Watts Halogen...   \n",
       "4           1           Bajaj RHX-2 800-Watt Room Heater (White)   \n",
       "\n",
       "   score recommendation  \n",
       "0              1.000000  \n",
       "1              0.948659  \n",
       "2              0.659366  \n",
       "3              0.330815  \n",
       "4              0.312224  "
      ]
     },
     "execution_count": 35,
     "metadata": {},
     "output_type": "execute_result"
    }
   ],
   "source": [
    "recommend_products(df, 1)"
   ]
  },
  {
   "cell_type": "markdown",
   "id": "3473e28f",
   "metadata": {},
   "source": [
    "#  (!) INLCUDE COMENT "
   ]
  },
  {
   "cell_type": "code",
   "execution_count": null,
   "id": "06b09617",
   "metadata": {},
   "outputs": [],
   "source": []
  },
  {
   "cell_type": "markdown",
   "id": "df686f30",
   "metadata": {},
   "source": [
    "   ###### 2. CONTENT-BASED"
   ]
  },
  {
   "cell_type": "code",
   "execution_count": 36,
   "id": "23c5ad98",
   "metadata": {},
   "outputs": [
    {
     "data": {
      "text/plain": [
       "0    Looks durable Charging is fine tooNo complains...\n",
       "1    I ordered this cable to connect my phone to An...\n",
       "2    Not quite durable and sturdy,https://m.media-a...\n",
       "3    Good product,long wire,Charges good,Nice,I bou...\n",
       "4    Bought this instead of original apple, does th...\n",
       "5    It's a good product.,Like,Very good item stron...\n",
       "6    Build quality is good and it is comes with 2 y...\n",
       "7    Worth for money - suitable for Android auto......\n",
       "8    I use this to connect an old PC to internet. I...\n",
       "9    I ordered this cable to connect my phone to An...\n",
       "Name: review_content, dtype: object"
      ]
     },
     "execution_count": 36,
     "metadata": {},
     "output_type": "execute_result"
    }
   ],
   "source": [
    "# Print plot overviews of the first 10 review content.\n",
    "df['review_content'].head(10)"
   ]
  },
  {
   "cell_type": "code",
   "execution_count": 37,
   "id": "2d74230f",
   "metadata": {},
   "outputs": [
    {
     "data": {
      "text/plain": [
       "(1462, 13826)"
      ]
     },
     "execution_count": 37,
     "metadata": {},
     "output_type": "execute_result"
    }
   ],
   "source": [
    "# Import TfIdfVectorizer from scikit-learn\n",
    "from sklearn.feature_extraction.text import TfidfVectorizer\n",
    "\n",
    "# Define a TF-IDF Vectorizer Object. Remove all english stop words such as 'the', 'a'\n",
    "tfidf = TfidfVectorizer(stop_words = 'english')\n",
    "\n",
    "# Replace NaN with an empty string\n",
    "df['review_content'] = df['review_content'].fillna('')\n",
    "\n",
    "# Construct the required TF-IDF matrix by fitting and transforming the data\n",
    "tfidf_matrix = tfidf.fit_transform(df['review_content'])\n",
    "\n",
    "# Output the shape of tfidf_matrix\n",
    "tfidf_matrix.shape"
   ]
  },
  {
   "cell_type": "markdown",
   "id": "a0beedb7",
   "metadata": {},
   "source": [
    "> Array mapping from feature integer indices to feature name."
   ]
  },
  {
   "cell_type": "code",
   "execution_count": 38,
   "id": "e7e00235",
   "metadata": {},
   "outputs": [
    {
     "data": {
      "text/plain": [
       "array(['exist', 'existent', 'existing', 'exists', 'exlent', 'exllent',\n",
       "       'expand', 'expandable', 'expanded', 'expanding'], dtype=object)"
      ]
     },
     "execution_count": 38,
     "metadata": {},
     "output_type": "execute_result"
    }
   ],
   "source": [
    "tfidf.get_feature_names_out()[5000:5010]"
   ]
  },
  {
   "cell_type": "markdown",
   "id": "d9866460",
   "metadata": {},
   "source": [
    "> From the above output, you observe that 13826 different vocabularies or words in your dataset have 1462 review."
   ]
  },
  {
   "cell_type": "code",
   "execution_count": 39,
   "id": "1d455100",
   "metadata": {},
   "outputs": [],
   "source": [
    "# Import linear_kernel\n",
    "from sklearn.metrics.pairwise import linear_kernel\n",
    "\n",
    "# Compute the cosine similarity matrix\n",
    "cosine_sim = linear_kernel(tfidf_matrix[:10000], tfidf_matrix[:10000])"
   ]
  },
  {
   "cell_type": "code",
   "execution_count": 40,
   "id": "bdd727e9",
   "metadata": {},
   "outputs": [
    {
     "data": {
      "text/plain": [
       "(1462, 1462)"
      ]
     },
     "execution_count": 40,
     "metadata": {},
     "output_type": "execute_result"
    }
   ],
   "source": [
    "cosine_sim.shape"
   ]
  },
  {
   "cell_type": "code",
   "execution_count": 41,
   "id": "3ba46f03",
   "metadata": {},
   "outputs": [
    {
     "data": {
      "text/plain": [
       "array([0.23957207, 1.        , 0.03289605, ..., 0.02845232, 0.03285085,\n",
       "       0.020841  ])"
      ]
     },
     "execution_count": 41,
     "metadata": {},
     "output_type": "execute_result"
    }
   ],
   "source": [
    "cosine_sim[1]"
   ]
  },
  {
   "cell_type": "markdown",
   "id": "0a7aea31",
   "metadata": {},
   "source": [
    "##### CALCULATE PRODUCT SIMILARITY"
   ]
  },
  {
   "cell_type": "code",
   "execution_count": 42,
   "id": "14091f27",
   "metadata": {},
   "outputs": [],
   "source": [
    "# Combine 'product_name' and 'review_content' into a single text column\n",
    "df['text'] = df['product_name'] + ' ' + df['review_content']"
   ]
  },
  {
   "cell_type": "code",
   "execution_count": 43,
   "id": "1630b230",
   "metadata": {},
   "outputs": [],
   "source": [
    "# Initialize TF-IDF vectorizer\n",
    "vectorizer = TfidfVectorizer()"
   ]
  },
  {
   "cell_type": "code",
   "execution_count": 44,
   "id": "20b83d8b",
   "metadata": {},
   "outputs": [],
   "source": [
    "# Apply TF-IDF vectorization to 'text' column\n",
    "tfidf_matrix = vectorizer.fit_transform(df['text'])"
   ]
  },
  {
   "cell_type": "markdown",
   "id": "d9235255",
   "metadata": {},
   "source": [
    "##### GET PRODUCT RECOMMENDATIONS"
   ]
  },
  {
   "cell_type": "code",
   "execution_count": 45,
   "id": "8b25c51e",
   "metadata": {},
   "outputs": [],
   "source": [
    "def get_product_recommendations(product_id, num_recommendations=5):\n",
    "    # Get the index of the product with the given ID\n",
    "    index = df[df['product_id'] == product_id].index[0]\n",
    "\n",
    "    # Get the pairwise similarity scores of the product\n",
    "    sim_scores = list(enumerate(cosine_sim[index]))\n",
    "\n",
    "    # Sort the products based on similarity scores\n",
    "    sim_scores = sorted(sim_scores, key=lambda x: x[1], reverse=True)\n",
    "\n",
    "    # Get the top N similar products\n",
    "    top_products = [df.iloc[score[0]] for score in sim_scores[1:num_recommendations+1]]\n",
    "\n",
    "    return top_products"
   ]
  },
  {
   "cell_type": "markdown",
   "id": "31f8586a",
   "metadata": {},
   "source": [
    "> Now we can replace 'product_id' with any product id"
   ]
  },
  {
   "cell_type": "code",
   "execution_count": 46,
   "id": "fa83fc64",
   "metadata": {},
   "outputs": [
    {
     "name": "stdout",
     "output_type": "stream",
     "text": [
      "[product_id                                                    B08CF3B7N1\n",
      "product_name           Portronics Konnect L 1.2M Fast Charging 3A 8 P...\n",
      "category                                           Computers&Accessories\n",
      "discounted_price                                                   154.0\n",
      "actual_price                                                       399.0\n",
      "discount_percentage                                                 0.61\n",
      "rating                                                               4.2\n",
      "rating_count                                                     16905.0\n",
      "about_product          [CHARGE & SYNC FUNCTION]- This cable comes wit...\n",
      "user_id                AE3Q6KSUK5P75D5HFYHCRAOLODSA,AFUGIFH5ZAFXRDSZH...\n",
      "user_name              rahuls6099,Swasat Borah,Ajay Wadke,Pranali,RVK...\n",
      "review_id              R1BP4L2HH9TFUP,R16PVJEXKV6QZS,R2UPDB81N66T4P,R...\n",
      "review_title           As good as original,Decent,Good one for second...\n",
      "review_content         Bought this instead of original apple, does th...\n",
      "rating_weighted                                                  71001.0\n",
      "sub_category                                                   USBCables\n",
      "main_category                                      Computers&Accessories\n",
      "cluster                                                              4-5\n",
      "user_id_encoded                                                       17\n",
      "text                   Portronics Konnect L 1.2M Fast Charging 3A 8 P...\n",
      "Name: 393, dtype: object, product_id                                                    B08CF3B7N1\n",
      "product_name           Portronics Konnect L 1.2M Fast Charging 3A 8 P...\n",
      "category                                           Computers&Accessories\n",
      "discounted_price                                                   154.0\n",
      "actual_price                                                       399.0\n",
      "discount_percentage                                                 0.61\n",
      "rating                                                               4.2\n",
      "rating_count                                                     16905.0\n",
      "about_product          [CHARGE & SYNC FUNCTION]- This cable comes wit...\n",
      "user_id                AE3Q6KSUK5P75D5HFYHCRAOLODSA,AFUGIFH5ZAFXRDSZH...\n",
      "user_name              rahuls6099,Swasat Borah,Ajay Wadke,Pranali,RVK...\n",
      "review_id              R1BP4L2HH9TFUP,R16PVJEXKV6QZS,R2UPDB81N66T4P,R...\n",
      "review_title           As good as original,Decent,Good one for second...\n",
      "review_content         Bought this instead of original apple, does th...\n",
      "rating_weighted                                                  71001.0\n",
      "sub_category                                                   USBCables\n",
      "main_category                                      Computers&Accessories\n",
      "cluster                                                              4-5\n",
      "user_id_encoded                                                       17\n",
      "text                   Portronics Konnect L 1.2M Fast Charging 3A 8 P...\n",
      "Name: 632, dtype: object, product_id                                                    B0B8SSZ76F\n",
      "product_name           Amazon Basics USB C to Lightning TPE MFi Certi...\n",
      "category                                           Computers&Accessories\n",
      "discounted_price                                                   799.0\n",
      "actual_price                                                      1999.0\n",
      "discount_percentage                                                  0.6\n",
      "rating                                                               4.2\n",
      "rating_count                                                      8583.0\n",
      "about_product          TPE MFi-certified charging cable to fast charg...\n",
      "user_id                AHXJZSVEOLZI5RBMJNOHPVSA2DNA,AGM3M7VSW4O2MBOMC...\n",
      "user_name              That Crazy Photographer,Nathan Avram,raj singh...\n",
      "review_id              R1HU969QEMB97J,RJ2PP06G0YUWC,RUS257RE8HM73,R1Z...\n",
      "review_title           Perfect cable for my use. Far better than the ...\n",
      "review_content         I was looking for durable cable for my ipad ca...\n",
      "rating_weighted                                                  36048.6\n",
      "sub_category                                                   USBCables\n",
      "main_category                                      Computers&Accessories\n",
      "cluster                                                              4-5\n",
      "user_id_encoded                                                     1171\n",
      "text                   Amazon Basics USB C to Lightning TPE MFi Certi...\n",
      "Name: 213, dtype: object, product_id                                                    B07DWFX9YS\n",
      "product_name           Amazon Basics USB A to Lightning PVC Molded Ny...\n",
      "category                                           Computers&Accessories\n",
      "discounted_price                                                   789.0\n",
      "actual_price                                                      1999.0\n",
      "discount_percentage                                                 0.61\n",
      "rating                                                               4.2\n",
      "rating_count                                                     34540.0\n",
      "about_product          MFi-certified charging cable for charging Appl...\n",
      "user_id                AEFJC2FTSOL3UWEG42NAOBRG5VTA,AFLEC3GF7O2FVX6GU...\n",
      "user_name              DINESHWAR,rubhaganth,Gurinder Singh,Nathan,Cly...\n",
      "review_id              R27FPYAT4QN865,R1YXRZNZVOXVNK,R22TFM41T4WQ02,R...\n",
      "review_title           Looks more durable,cheap n best,Good length an...\n",
      "review_content         This is my third time which purchasing a light...\n",
      "rating_weighted                                                 145068.0\n",
      "sub_category                                                   USBCables\n",
      "main_category                                      Computers&Accessories\n",
      "cluster                                                              4-5\n",
      "user_id_encoded                                                      113\n",
      "text                   Amazon Basics USB A to Lightning PVC Molded Ny...\n",
      "Name: 259, dtype: object, product_id                                                    B08CHKQ8D4\n",
      "product_name           Wayona Type C to Lightning MFI Certified 20W F...\n",
      "category                                           Computers&Accessories\n",
      "discounted_price                                                   719.0\n",
      "actual_price                                                      1499.0\n",
      "discount_percentage                                                 0.52\n",
      "rating                                                               4.1\n",
      "rating_count                                                      1045.0\n",
      "about_product          【Power Delivery Fast Charging】: Charge your iP...\n",
      "user_id                AFKENW6K3CFMTD3EGXQCUGK5XWWA,AHW52L6QGPO7TTN7L...\n",
      "user_name              Kiran Kolla,Vishal gupta,Pranav,JS,Palak dadhi...\n",
      "review_id              R3ROJ6AWGN2UFN,R3160KII7MBSDT,R8ZDM5P3NBJ6V,R2...\n",
      "review_title           Good,I don’t like this product,Awesome product...\n",
      "review_content         Good,,Quality of cable is good and fast chargi...\n",
      "rating_weighted                                                   4284.5\n",
      "sub_category                                                   USBCables\n",
      "main_category                                      Computers&Accessories\n",
      "cluster                                                              4-5\n",
      "user_id_encoded                                                      462\n",
      "text                   Wayona Type C to Lightning MFI Certified 20W F...\n",
      "Name: 99, dtype: object]\n"
     ]
    }
   ],
   "source": [
    "product_id = 'B08CF3B7N1'  \n",
    "recommendations = get_product_recommendations(product_id)\n",
    "print(recommendations)"
   ]
  },
  {
   "cell_type": "markdown",
   "id": "aee4e01a",
   "metadata": {},
   "source": [
    "#  (!) INLCUDE COMENT "
   ]
  },
  {
   "cell_type": "markdown",
   "id": "6ce86690",
   "metadata": {},
   "source": [
    "-----"
   ]
  },
  {
   "cell_type": "markdown",
   "id": "e13e9c7a",
   "metadata": {},
   "source": [
    "**QUESTION 2**\n",
    "\n",
    "Perform Market Basket Analysis on the chosen dataset by using Apriori and FP growth algorithms. Can\n",
    "you express major divergence between these models? Compare and contrast the machine learning results\n",
    "obtained based on both algorithms."
   ]
  },
  {
   "cell_type": "markdown",
   "id": "2be0baef",
   "metadata": {},
   "source": [
    "> **Market basket analysis** - consider products that are frequently reviewed together as being bought together"
   ]
  },
  {
   "cell_type": "code",
   "execution_count": 47,
   "id": "6e8c578e",
   "metadata": {},
   "outputs": [
    {
     "data": {
      "text/html": [
       "<div>\n",
       "<style scoped>\n",
       "    .dataframe tbody tr th:only-of-type {\n",
       "        vertical-align: middle;\n",
       "    }\n",
       "\n",
       "    .dataframe tbody tr th {\n",
       "        vertical-align: top;\n",
       "    }\n",
       "\n",
       "    .dataframe thead th {\n",
       "        text-align: right;\n",
       "    }\n",
       "</style>\n",
       "<table border=\"1\" class=\"dataframe\">\n",
       "  <thead>\n",
       "    <tr style=\"text-align: right;\">\n",
       "      <th></th>\n",
       "      <th>product_id</th>\n",
       "      <th>product_name</th>\n",
       "      <th>category</th>\n",
       "      <th>discounted_price</th>\n",
       "      <th>actual_price</th>\n",
       "      <th>discount_percentage</th>\n",
       "      <th>rating</th>\n",
       "      <th>rating_count</th>\n",
       "      <th>about_product</th>\n",
       "      <th>user_id</th>\n",
       "      <th>user_name</th>\n",
       "      <th>review_id</th>\n",
       "      <th>review_title</th>\n",
       "      <th>review_content</th>\n",
       "      <th>img_link</th>\n",
       "      <th>product_link</th>\n",
       "    </tr>\n",
       "  </thead>\n",
       "  <tbody>\n",
       "    <tr>\n",
       "      <th>0</th>\n",
       "      <td>B07JW9H4J1</td>\n",
       "      <td>Wayona Nylon Braided USB to Lightning Fast Cha...</td>\n",
       "      <td>Computers&amp;Accessories|Accessories&amp;Peripherals|...</td>\n",
       "      <td>₹399</td>\n",
       "      <td>₹1,099</td>\n",
       "      <td>64%</td>\n",
       "      <td>4.2</td>\n",
       "      <td>24,269</td>\n",
       "      <td>High Compatibility : Compatible With iPhone 12...</td>\n",
       "      <td>AG3D6O4STAQKAY2UVGEUV46KN35Q,AHMY5CWJMMK5BJRBB...</td>\n",
       "      <td>Manav,Adarsh gupta,Sundeep,S.Sayeed Ahmed,jasp...</td>\n",
       "      <td>R3HXWT0LRP0NMF,R2AJM3LFTLZHFO,R6AQJGUP6P86,R1K...</td>\n",
       "      <td>Satisfied,Charging is really fast,Value for mo...</td>\n",
       "      <td>Looks durable Charging is fine tooNo complains...</td>\n",
       "      <td>https://m.media-amazon.com/images/W/WEBP_40237...</td>\n",
       "      <td>https://www.amazon.in/Wayona-Braided-WN3LG1-Sy...</td>\n",
       "    </tr>\n",
       "    <tr>\n",
       "      <th>1</th>\n",
       "      <td>B098NS6PVG</td>\n",
       "      <td>Ambrane Unbreakable 60W / 3A Fast Charging 1.5...</td>\n",
       "      <td>Computers&amp;Accessories|Accessories&amp;Peripherals|...</td>\n",
       "      <td>₹199</td>\n",
       "      <td>₹349</td>\n",
       "      <td>43%</td>\n",
       "      <td>4.0</td>\n",
       "      <td>43,994</td>\n",
       "      <td>Compatible with all Type C enabled devices, be...</td>\n",
       "      <td>AECPFYFQVRUWC3KGNLJIOREFP5LQ,AGYYVPDD7YG7FYNBX...</td>\n",
       "      <td>ArdKn,Nirbhay kumar,Sagar Viswanathan,Asp,Plac...</td>\n",
       "      <td>RGIQEG07R9HS2,R1SMWZQ86XIN8U,R2J3Y1WL29GWDE,RY...</td>\n",
       "      <td>A Good Braided Cable for Your Type C Device,Go...</td>\n",
       "      <td>I ordered this cable to connect my phone to An...</td>\n",
       "      <td>https://m.media-amazon.com/images/W/WEBP_40237...</td>\n",
       "      <td>https://www.amazon.in/Ambrane-Unbreakable-Char...</td>\n",
       "    </tr>\n",
       "    <tr>\n",
       "      <th>2</th>\n",
       "      <td>B096MSW6CT</td>\n",
       "      <td>Sounce Fast Phone Charging Cable &amp; Data Sync U...</td>\n",
       "      <td>Computers&amp;Accessories|Accessories&amp;Peripherals|...</td>\n",
       "      <td>₹199</td>\n",
       "      <td>₹1,899</td>\n",
       "      <td>90%</td>\n",
       "      <td>3.9</td>\n",
       "      <td>7,928</td>\n",
       "      <td>【 Fast Charger&amp; Data Sync】-With built-in safet...</td>\n",
       "      <td>AGU3BBQ2V2DDAMOAKGFAWDDQ6QHA,AESFLDV2PT363T2AQ...</td>\n",
       "      <td>Kunal,Himanshu,viswanath,sai niharka,saqib mal...</td>\n",
       "      <td>R3J3EQQ9TZI5ZJ,R3E7WBGK7ID0KV,RWU79XKQ6I1QF,R2...</td>\n",
       "      <td>Good speed for earlier versions,Good Product,W...</td>\n",
       "      <td>Not quite durable and sturdy,https://m.media-a...</td>\n",
       "      <td>https://m.media-amazon.com/images/W/WEBP_40237...</td>\n",
       "      <td>https://www.amazon.in/Sounce-iPhone-Charging-C...</td>\n",
       "    </tr>\n",
       "    <tr>\n",
       "      <th>3</th>\n",
       "      <td>B08HDJ86NZ</td>\n",
       "      <td>boAt Deuce USB 300 2 in 1 Type-C &amp; Micro USB S...</td>\n",
       "      <td>Computers&amp;Accessories|Accessories&amp;Peripherals|...</td>\n",
       "      <td>₹329</td>\n",
       "      <td>₹699</td>\n",
       "      <td>53%</td>\n",
       "      <td>4.2</td>\n",
       "      <td>94,363</td>\n",
       "      <td>The boAt Deuce USB 300 2 in 1 cable is compati...</td>\n",
       "      <td>AEWAZDZZJLQUYVOVGBEUKSLXHQ5A,AG5HTSFRRE6NL3M5S...</td>\n",
       "      <td>Omkar dhale,JD,HEMALATHA,Ajwadh a.,amar singh ...</td>\n",
       "      <td>R3EEUZKKK9J36I,R3HJVYCLYOY554,REDECAZ7AMPQC,R1...</td>\n",
       "      <td>Good product,Good one,Nice,Really nice product...</td>\n",
       "      <td>Good product,long wire,Charges good,Nice,I bou...</td>\n",
       "      <td>https://m.media-amazon.com/images/I/41V5FtEWPk...</td>\n",
       "      <td>https://www.amazon.in/Deuce-300-Resistant-Tang...</td>\n",
       "    </tr>\n",
       "    <tr>\n",
       "      <th>4</th>\n",
       "      <td>B08CF3B7N1</td>\n",
       "      <td>Portronics Konnect L 1.2M Fast Charging 3A 8 P...</td>\n",
       "      <td>Computers&amp;Accessories|Accessories&amp;Peripherals|...</td>\n",
       "      <td>₹154</td>\n",
       "      <td>₹399</td>\n",
       "      <td>61%</td>\n",
       "      <td>4.2</td>\n",
       "      <td>16,905</td>\n",
       "      <td>[CHARGE &amp; SYNC FUNCTION]- This cable comes wit...</td>\n",
       "      <td>AE3Q6KSUK5P75D5HFYHCRAOLODSA,AFUGIFH5ZAFXRDSZH...</td>\n",
       "      <td>rahuls6099,Swasat Borah,Ajay Wadke,Pranali,RVK...</td>\n",
       "      <td>R1BP4L2HH9TFUP,R16PVJEXKV6QZS,R2UPDB81N66T4P,R...</td>\n",
       "      <td>As good as original,Decent,Good one for second...</td>\n",
       "      <td>Bought this instead of original apple, does th...</td>\n",
       "      <td>https://m.media-amazon.com/images/W/WEBP_40237...</td>\n",
       "      <td>https://www.amazon.in/Portronics-Konnect-POR-1...</td>\n",
       "    </tr>\n",
       "  </tbody>\n",
       "</table>\n",
       "</div>"
      ],
      "text/plain": [
       "   product_id                                       product_name  \\\n",
       "0  B07JW9H4J1  Wayona Nylon Braided USB to Lightning Fast Cha...   \n",
       "1  B098NS6PVG  Ambrane Unbreakable 60W / 3A Fast Charging 1.5...   \n",
       "2  B096MSW6CT  Sounce Fast Phone Charging Cable & Data Sync U...   \n",
       "3  B08HDJ86NZ  boAt Deuce USB 300 2 in 1 Type-C & Micro USB S...   \n",
       "4  B08CF3B7N1  Portronics Konnect L 1.2M Fast Charging 3A 8 P...   \n",
       "\n",
       "                                            category discounted_price  \\\n",
       "0  Computers&Accessories|Accessories&Peripherals|...             ₹399   \n",
       "1  Computers&Accessories|Accessories&Peripherals|...             ₹199   \n",
       "2  Computers&Accessories|Accessories&Peripherals|...             ₹199   \n",
       "3  Computers&Accessories|Accessories&Peripherals|...             ₹329   \n",
       "4  Computers&Accessories|Accessories&Peripherals|...             ₹154   \n",
       "\n",
       "  actual_price discount_percentage rating rating_count  \\\n",
       "0       ₹1,099                 64%    4.2       24,269   \n",
       "1         ₹349                 43%    4.0       43,994   \n",
       "2       ₹1,899                 90%    3.9        7,928   \n",
       "3         ₹699                 53%    4.2       94,363   \n",
       "4         ₹399                 61%    4.2       16,905   \n",
       "\n",
       "                                       about_product  \\\n",
       "0  High Compatibility : Compatible With iPhone 12...   \n",
       "1  Compatible with all Type C enabled devices, be...   \n",
       "2  【 Fast Charger& Data Sync】-With built-in safet...   \n",
       "3  The boAt Deuce USB 300 2 in 1 cable is compati...   \n",
       "4  [CHARGE & SYNC FUNCTION]- This cable comes wit...   \n",
       "\n",
       "                                             user_id  \\\n",
       "0  AG3D6O4STAQKAY2UVGEUV46KN35Q,AHMY5CWJMMK5BJRBB...   \n",
       "1  AECPFYFQVRUWC3KGNLJIOREFP5LQ,AGYYVPDD7YG7FYNBX...   \n",
       "2  AGU3BBQ2V2DDAMOAKGFAWDDQ6QHA,AESFLDV2PT363T2AQ...   \n",
       "3  AEWAZDZZJLQUYVOVGBEUKSLXHQ5A,AG5HTSFRRE6NL3M5S...   \n",
       "4  AE3Q6KSUK5P75D5HFYHCRAOLODSA,AFUGIFH5ZAFXRDSZH...   \n",
       "\n",
       "                                           user_name  \\\n",
       "0  Manav,Adarsh gupta,Sundeep,S.Sayeed Ahmed,jasp...   \n",
       "1  ArdKn,Nirbhay kumar,Sagar Viswanathan,Asp,Plac...   \n",
       "2  Kunal,Himanshu,viswanath,sai niharka,saqib mal...   \n",
       "3  Omkar dhale,JD,HEMALATHA,Ajwadh a.,amar singh ...   \n",
       "4  rahuls6099,Swasat Borah,Ajay Wadke,Pranali,RVK...   \n",
       "\n",
       "                                           review_id  \\\n",
       "0  R3HXWT0LRP0NMF,R2AJM3LFTLZHFO,R6AQJGUP6P86,R1K...   \n",
       "1  RGIQEG07R9HS2,R1SMWZQ86XIN8U,R2J3Y1WL29GWDE,RY...   \n",
       "2  R3J3EQQ9TZI5ZJ,R3E7WBGK7ID0KV,RWU79XKQ6I1QF,R2...   \n",
       "3  R3EEUZKKK9J36I,R3HJVYCLYOY554,REDECAZ7AMPQC,R1...   \n",
       "4  R1BP4L2HH9TFUP,R16PVJEXKV6QZS,R2UPDB81N66T4P,R...   \n",
       "\n",
       "                                        review_title  \\\n",
       "0  Satisfied,Charging is really fast,Value for mo...   \n",
       "1  A Good Braided Cable for Your Type C Device,Go...   \n",
       "2  Good speed for earlier versions,Good Product,W...   \n",
       "3  Good product,Good one,Nice,Really nice product...   \n",
       "4  As good as original,Decent,Good one for second...   \n",
       "\n",
       "                                      review_content  \\\n",
       "0  Looks durable Charging is fine tooNo complains...   \n",
       "1  I ordered this cable to connect my phone to An...   \n",
       "2  Not quite durable and sturdy,https://m.media-a...   \n",
       "3  Good product,long wire,Charges good,Nice,I bou...   \n",
       "4  Bought this instead of original apple, does th...   \n",
       "\n",
       "                                            img_link  \\\n",
       "0  https://m.media-amazon.com/images/W/WEBP_40237...   \n",
       "1  https://m.media-amazon.com/images/W/WEBP_40237...   \n",
       "2  https://m.media-amazon.com/images/W/WEBP_40237...   \n",
       "3  https://m.media-amazon.com/images/I/41V5FtEWPk...   \n",
       "4  https://m.media-amazon.com/images/W/WEBP_40237...   \n",
       "\n",
       "                                        product_link  \n",
       "0  https://www.amazon.in/Wayona-Braided-WN3LG1-Sy...  \n",
       "1  https://www.amazon.in/Ambrane-Unbreakable-Char...  \n",
       "2  https://www.amazon.in/Sounce-iPhone-Charging-C...  \n",
       "3  https://www.amazon.in/Deuce-300-Resistant-Tang...  \n",
       "4  https://www.amazon.in/Portronics-Konnect-POR-1...  "
      ]
     },
     "execution_count": 47,
     "metadata": {},
     "output_type": "execute_result"
    }
   ],
   "source": [
    "df = pd.read_csv('amazon.csv')\n",
    "df.head()"
   ]
  },
  {
   "cell_type": "markdown",
   "id": "2da3e497",
   "metadata": {},
   "source": [
    "# produto x categoria\n",
    "# categoria x produto"
   ]
  },
  {
   "cell_type": "code",
   "execution_count": null,
   "id": "fd4d594d",
   "metadata": {},
   "outputs": [],
   "source": []
  },
  {
   "cell_type": "code",
   "execution_count": 48,
   "id": "74425111",
   "metadata": {
    "scrolled": true
   },
   "outputs": [],
   "source": [
    "import pandas as pd\n",
    "from mlxtend.frequent_patterns import apriori\n",
    "from mlxtend.frequent_patterns import association_rules"
   ]
  },
  {
   "cell_type": "code",
   "execution_count": 49,
   "id": "948fd442",
   "metadata": {
    "scrolled": true
   },
   "outputs": [
    {
     "data": {
      "text/html": [
       "<div>\n",
       "<style scoped>\n",
       "    .dataframe tbody tr th:only-of-type {\n",
       "        vertical-align: middle;\n",
       "    }\n",
       "\n",
       "    .dataframe tbody tr th {\n",
       "        vertical-align: top;\n",
       "    }\n",
       "\n",
       "    .dataframe thead th {\n",
       "        text-align: right;\n",
       "    }\n",
       "</style>\n",
       "<table border=\"1\" class=\"dataframe\">\n",
       "  <thead>\n",
       "    <tr style=\"text-align: right;\">\n",
       "      <th></th>\n",
       "      <th>product_id</th>\n",
       "      <th>product_name</th>\n",
       "      <th>category</th>\n",
       "      <th>discounted_price</th>\n",
       "      <th>actual_price</th>\n",
       "      <th>discount_percentage</th>\n",
       "      <th>rating</th>\n",
       "      <th>rating_count</th>\n",
       "      <th>about_product</th>\n",
       "      <th>user_id</th>\n",
       "      <th>user_name</th>\n",
       "      <th>review_id</th>\n",
       "      <th>review_title</th>\n",
       "      <th>review_content</th>\n",
       "      <th>img_link</th>\n",
       "      <th>product_link</th>\n",
       "    </tr>\n",
       "  </thead>\n",
       "  <tbody>\n",
       "    <tr>\n",
       "      <th>0</th>\n",
       "      <td>B07JW9H4J1</td>\n",
       "      <td>Wayona Nylon Braided USB to Lightning Fast Cha...</td>\n",
       "      <td>Computers&amp;Accessories|Accessories&amp;Peripherals|...</td>\n",
       "      <td>₹399</td>\n",
       "      <td>₹1,099</td>\n",
       "      <td>64%</td>\n",
       "      <td>4.2</td>\n",
       "      <td>24,269</td>\n",
       "      <td>High Compatibility : Compatible With iPhone 12...</td>\n",
       "      <td>AG3D6O4STAQKAY2UVGEUV46KN35Q,AHMY5CWJMMK5BJRBB...</td>\n",
       "      <td>Manav,Adarsh gupta,Sundeep,S.Sayeed Ahmed,jasp...</td>\n",
       "      <td>R3HXWT0LRP0NMF,R2AJM3LFTLZHFO,R6AQJGUP6P86,R1K...</td>\n",
       "      <td>Satisfied,Charging is really fast,Value for mo...</td>\n",
       "      <td>Looks durable Charging is fine tooNo complains...</td>\n",
       "      <td>https://m.media-amazon.com/images/W/WEBP_40237...</td>\n",
       "      <td>https://www.amazon.in/Wayona-Braided-WN3LG1-Sy...</td>\n",
       "    </tr>\n",
       "    <tr>\n",
       "      <th>1</th>\n",
       "      <td>B098NS6PVG</td>\n",
       "      <td>Ambrane Unbreakable 60W / 3A Fast Charging 1.5...</td>\n",
       "      <td>Computers&amp;Accessories|Accessories&amp;Peripherals|...</td>\n",
       "      <td>₹199</td>\n",
       "      <td>₹349</td>\n",
       "      <td>43%</td>\n",
       "      <td>4.0</td>\n",
       "      <td>43,994</td>\n",
       "      <td>Compatible with all Type C enabled devices, be...</td>\n",
       "      <td>AECPFYFQVRUWC3KGNLJIOREFP5LQ,AGYYVPDD7YG7FYNBX...</td>\n",
       "      <td>ArdKn,Nirbhay kumar,Sagar Viswanathan,Asp,Plac...</td>\n",
       "      <td>RGIQEG07R9HS2,R1SMWZQ86XIN8U,R2J3Y1WL29GWDE,RY...</td>\n",
       "      <td>A Good Braided Cable for Your Type C Device,Go...</td>\n",
       "      <td>I ordered this cable to connect my phone to An...</td>\n",
       "      <td>https://m.media-amazon.com/images/W/WEBP_40237...</td>\n",
       "      <td>https://www.amazon.in/Ambrane-Unbreakable-Char...</td>\n",
       "    </tr>\n",
       "    <tr>\n",
       "      <th>2</th>\n",
       "      <td>B096MSW6CT</td>\n",
       "      <td>Sounce Fast Phone Charging Cable &amp; Data Sync U...</td>\n",
       "      <td>Computers&amp;Accessories|Accessories&amp;Peripherals|...</td>\n",
       "      <td>₹199</td>\n",
       "      <td>₹1,899</td>\n",
       "      <td>90%</td>\n",
       "      <td>3.9</td>\n",
       "      <td>7,928</td>\n",
       "      <td>【 Fast Charger&amp; Data Sync】-With built-in safet...</td>\n",
       "      <td>AGU3BBQ2V2DDAMOAKGFAWDDQ6QHA,AESFLDV2PT363T2AQ...</td>\n",
       "      <td>Kunal,Himanshu,viswanath,sai niharka,saqib mal...</td>\n",
       "      <td>R3J3EQQ9TZI5ZJ,R3E7WBGK7ID0KV,RWU79XKQ6I1QF,R2...</td>\n",
       "      <td>Good speed for earlier versions,Good Product,W...</td>\n",
       "      <td>Not quite durable and sturdy,https://m.media-a...</td>\n",
       "      <td>https://m.media-amazon.com/images/W/WEBP_40237...</td>\n",
       "      <td>https://www.amazon.in/Sounce-iPhone-Charging-C...</td>\n",
       "    </tr>\n",
       "    <tr>\n",
       "      <th>3</th>\n",
       "      <td>B08HDJ86NZ</td>\n",
       "      <td>boAt Deuce USB 300 2 in 1 Type-C &amp; Micro USB S...</td>\n",
       "      <td>Computers&amp;Accessories|Accessories&amp;Peripherals|...</td>\n",
       "      <td>₹329</td>\n",
       "      <td>₹699</td>\n",
       "      <td>53%</td>\n",
       "      <td>4.2</td>\n",
       "      <td>94,363</td>\n",
       "      <td>The boAt Deuce USB 300 2 in 1 cable is compati...</td>\n",
       "      <td>AEWAZDZZJLQUYVOVGBEUKSLXHQ5A,AG5HTSFRRE6NL3M5S...</td>\n",
       "      <td>Omkar dhale,JD,HEMALATHA,Ajwadh a.,amar singh ...</td>\n",
       "      <td>R3EEUZKKK9J36I,R3HJVYCLYOY554,REDECAZ7AMPQC,R1...</td>\n",
       "      <td>Good product,Good one,Nice,Really nice product...</td>\n",
       "      <td>Good product,long wire,Charges good,Nice,I bou...</td>\n",
       "      <td>https://m.media-amazon.com/images/I/41V5FtEWPk...</td>\n",
       "      <td>https://www.amazon.in/Deuce-300-Resistant-Tang...</td>\n",
       "    </tr>\n",
       "    <tr>\n",
       "      <th>4</th>\n",
       "      <td>B08CF3B7N1</td>\n",
       "      <td>Portronics Konnect L 1.2M Fast Charging 3A 8 P...</td>\n",
       "      <td>Computers&amp;Accessories|Accessories&amp;Peripherals|...</td>\n",
       "      <td>₹154</td>\n",
       "      <td>₹399</td>\n",
       "      <td>61%</td>\n",
       "      <td>4.2</td>\n",
       "      <td>16,905</td>\n",
       "      <td>[CHARGE &amp; SYNC FUNCTION]- This cable comes wit...</td>\n",
       "      <td>AE3Q6KSUK5P75D5HFYHCRAOLODSA,AFUGIFH5ZAFXRDSZH...</td>\n",
       "      <td>rahuls6099,Swasat Borah,Ajay Wadke,Pranali,RVK...</td>\n",
       "      <td>R1BP4L2HH9TFUP,R16PVJEXKV6QZS,R2UPDB81N66T4P,R...</td>\n",
       "      <td>As good as original,Decent,Good one for second...</td>\n",
       "      <td>Bought this instead of original apple, does th...</td>\n",
       "      <td>https://m.media-amazon.com/images/W/WEBP_40237...</td>\n",
       "      <td>https://www.amazon.in/Portronics-Konnect-POR-1...</td>\n",
       "    </tr>\n",
       "  </tbody>\n",
       "</table>\n",
       "</div>"
      ],
      "text/plain": [
       "   product_id                                       product_name  \\\n",
       "0  B07JW9H4J1  Wayona Nylon Braided USB to Lightning Fast Cha...   \n",
       "1  B098NS6PVG  Ambrane Unbreakable 60W / 3A Fast Charging 1.5...   \n",
       "2  B096MSW6CT  Sounce Fast Phone Charging Cable & Data Sync U...   \n",
       "3  B08HDJ86NZ  boAt Deuce USB 300 2 in 1 Type-C & Micro USB S...   \n",
       "4  B08CF3B7N1  Portronics Konnect L 1.2M Fast Charging 3A 8 P...   \n",
       "\n",
       "                                            category discounted_price  \\\n",
       "0  Computers&Accessories|Accessories&Peripherals|...             ₹399   \n",
       "1  Computers&Accessories|Accessories&Peripherals|...             ₹199   \n",
       "2  Computers&Accessories|Accessories&Peripherals|...             ₹199   \n",
       "3  Computers&Accessories|Accessories&Peripherals|...             ₹329   \n",
       "4  Computers&Accessories|Accessories&Peripherals|...             ₹154   \n",
       "\n",
       "  actual_price discount_percentage rating rating_count  \\\n",
       "0       ₹1,099                 64%    4.2       24,269   \n",
       "1         ₹349                 43%    4.0       43,994   \n",
       "2       ₹1,899                 90%    3.9        7,928   \n",
       "3         ₹699                 53%    4.2       94,363   \n",
       "4         ₹399                 61%    4.2       16,905   \n",
       "\n",
       "                                       about_product  \\\n",
       "0  High Compatibility : Compatible With iPhone 12...   \n",
       "1  Compatible with all Type C enabled devices, be...   \n",
       "2  【 Fast Charger& Data Sync】-With built-in safet...   \n",
       "3  The boAt Deuce USB 300 2 in 1 cable is compati...   \n",
       "4  [CHARGE & SYNC FUNCTION]- This cable comes wit...   \n",
       "\n",
       "                                             user_id  \\\n",
       "0  AG3D6O4STAQKAY2UVGEUV46KN35Q,AHMY5CWJMMK5BJRBB...   \n",
       "1  AECPFYFQVRUWC3KGNLJIOREFP5LQ,AGYYVPDD7YG7FYNBX...   \n",
       "2  AGU3BBQ2V2DDAMOAKGFAWDDQ6QHA,AESFLDV2PT363T2AQ...   \n",
       "3  AEWAZDZZJLQUYVOVGBEUKSLXHQ5A,AG5HTSFRRE6NL3M5S...   \n",
       "4  AE3Q6KSUK5P75D5HFYHCRAOLODSA,AFUGIFH5ZAFXRDSZH...   \n",
       "\n",
       "                                           user_name  \\\n",
       "0  Manav,Adarsh gupta,Sundeep,S.Sayeed Ahmed,jasp...   \n",
       "1  ArdKn,Nirbhay kumar,Sagar Viswanathan,Asp,Plac...   \n",
       "2  Kunal,Himanshu,viswanath,sai niharka,saqib mal...   \n",
       "3  Omkar dhale,JD,HEMALATHA,Ajwadh a.,amar singh ...   \n",
       "4  rahuls6099,Swasat Borah,Ajay Wadke,Pranali,RVK...   \n",
       "\n",
       "                                           review_id  \\\n",
       "0  R3HXWT0LRP0NMF,R2AJM3LFTLZHFO,R6AQJGUP6P86,R1K...   \n",
       "1  RGIQEG07R9HS2,R1SMWZQ86XIN8U,R2J3Y1WL29GWDE,RY...   \n",
       "2  R3J3EQQ9TZI5ZJ,R3E7WBGK7ID0KV,RWU79XKQ6I1QF,R2...   \n",
       "3  R3EEUZKKK9J36I,R3HJVYCLYOY554,REDECAZ7AMPQC,R1...   \n",
       "4  R1BP4L2HH9TFUP,R16PVJEXKV6QZS,R2UPDB81N66T4P,R...   \n",
       "\n",
       "                                        review_title  \\\n",
       "0  Satisfied,Charging is really fast,Value for mo...   \n",
       "1  A Good Braided Cable for Your Type C Device,Go...   \n",
       "2  Good speed for earlier versions,Good Product,W...   \n",
       "3  Good product,Good one,Nice,Really nice product...   \n",
       "4  As good as original,Decent,Good one for second...   \n",
       "\n",
       "                                      review_content  \\\n",
       "0  Looks durable Charging is fine tooNo complains...   \n",
       "1  I ordered this cable to connect my phone to An...   \n",
       "2  Not quite durable and sturdy,https://m.media-a...   \n",
       "3  Good product,long wire,Charges good,Nice,I bou...   \n",
       "4  Bought this instead of original apple, does th...   \n",
       "\n",
       "                                            img_link  \\\n",
       "0  https://m.media-amazon.com/images/W/WEBP_40237...   \n",
       "1  https://m.media-amazon.com/images/W/WEBP_40237...   \n",
       "2  https://m.media-amazon.com/images/W/WEBP_40237...   \n",
       "3  https://m.media-amazon.com/images/I/41V5FtEWPk...   \n",
       "4  https://m.media-amazon.com/images/W/WEBP_40237...   \n",
       "\n",
       "                                        product_link  \n",
       "0  https://www.amazon.in/Wayona-Braided-WN3LG1-Sy...  \n",
       "1  https://www.amazon.in/Ambrane-Unbreakable-Char...  \n",
       "2  https://www.amazon.in/Sounce-iPhone-Charging-C...  \n",
       "3  https://www.amazon.in/Deuce-300-Resistant-Tang...  \n",
       "4  https://www.amazon.in/Portronics-Konnect-POR-1...  "
      ]
     },
     "execution_count": 49,
     "metadata": {},
     "output_type": "execute_result"
    }
   ],
   "source": [
    "df.head()"
   ]
  },
  {
   "cell_type": "code",
   "execution_count": 50,
   "id": "57ea8940",
   "metadata": {
    "scrolled": false
   },
   "outputs": [
    {
     "data": {
      "text/html": [
       "<div>\n",
       "<style scoped>\n",
       "    .dataframe tbody tr th:only-of-type {\n",
       "        vertical-align: middle;\n",
       "    }\n",
       "\n",
       "    .dataframe tbody tr th {\n",
       "        vertical-align: top;\n",
       "    }\n",
       "\n",
       "    .dataframe thead th {\n",
       "        text-align: right;\n",
       "    }\n",
       "</style>\n",
       "<table border=\"1\" class=\"dataframe\">\n",
       "  <thead>\n",
       "    <tr style=\"text-align: right;\">\n",
       "      <th></th>\n",
       "      <th>values</th>\n",
       "    </tr>\n",
       "    <tr>\n",
       "      <th>user_id</th>\n",
       "      <th></th>\n",
       "    </tr>\n",
       "  </thead>\n",
       "  <tbody>\n",
       "    <tr>\n",
       "      <th>AHIKJUDTVJ4T6DV6IUGFYZ5LXMPA,AE55KTFVNXYFD5FPYWP2OUPEYNPQ,AEBWA5I4QFCA3P3OBEPMELBGN4GQ,AHMGAC6QM62UXNEOCZIHLHSXPP2Q,AFHROSCGIXUPV3FYQ7H5QOD46Q7Q,AEAMIR3CMSA32IDEINSJKHRNANTA,AF355FTXYAKFH5NYPRTE7SL3WO3Q,AG5DWPD54QGSLWJ6QUFERLPNAX4Q</th>\n",
       "      <td>10</td>\n",
       "    </tr>\n",
       "    <tr>\n",
       "      <th>AG3D6O4STAQKAY2UVGEUV46KN35Q,AHMY5CWJMMK5BJRBBSNLYT3ONILA,AHCTC6ULH4XB6YHDY6PCH2R772LQ,AGYHHIERNXKA6P5T7CZLXKVPT7IQ,AG4OGOFWXJZTQ2HKYIOCOY3KXF2Q,AENGU523SXMOS7JPDTW52PNNVWGQ,AEQJHCVTNINBS4FKTBGQRQTGTE5Q,AFC3FFC5PKFF5PMA52S3VCHOZ5FQ</th>\n",
       "      <td>8</td>\n",
       "    </tr>\n",
       "    <tr>\n",
       "      <th>AGAELRYPMTG5SADZPDYB343EASAA,AGFN4JODOM2NTFCJQOHDBQLVDJTQ,AG7EZVSAXIVGMNDLSA55K7URQCJA,AGGF75HIEMB67OU7J3RDALBSUKQQ,AHY5CI4SU6JBYPIZ5RLAGO6W3F4A,AE4KODNBVTDCZWZO4HZM4GTRERPA,AH6HFHSYOY2OHMODD7244DHG7FUQ,AHRW5JERWYAJCZO65PDKZSOEPR6Q</th>\n",
       "      <td>8</td>\n",
       "    </tr>\n",
       "    <tr>\n",
       "      <th>AECPFYFQVRUWC3KGNLJIOREFP5LQ,AGYYVPDD7YG7FYNBXNGXZJT525AQ,AHONIZU3ICIEHQIGQ6R2VFRSBXOQ,AFPHD2CRPDZMWMBL7WXRSVYWS5JA,AEZ346GX3HJ4O4XNRPHCNHXQURMQ,AEPSWFPNECKO34PUC7I56ITGXR6Q,AHWVEHR5DYLVFTO2KF3IZATFQSWQ,AH4QT33M55677I7ISQOAKEQWACYQ</th>\n",
       "      <td>7</td>\n",
       "    </tr>\n",
       "    <tr>\n",
       "      <th>AEWAZDZZJLQUYVOVGBEUKSLXHQ5A,AG5HTSFRRE6NL3M5SGCUQBP7YSCA,AH725ST5NW2Y4JZPKUNTIJCUK2BA,AHV3TXIFCJPMS4D5JATCEUR266MQ,AGWIGDEMFIIUAOXYY2QATNBSUGHA,AFSTSLQUV4EVEXWKBOLEFHL2H5YQ,AGAKDNBHY2FKX7I4ACRGILU7QL7A,AFNWJUWJRHCC6HN52KMG5AKZY37Q</th>\n",
       "      <td>7</td>\n",
       "    </tr>\n",
       "    <tr>\n",
       "      <th>...</th>\n",
       "      <td>...</td>\n",
       "    </tr>\n",
       "    <tr>\n",
       "      <th>AFGVIUCA3RTCKMTDTO3XGNTHYFWQ,AE3AF67Y5YK6UG7I6HIVMWU4NWVA,AHPYT77JL5UZQ6QHBEZMYGK6WPRA,AFSXOLLBT7WLD5M6GMY4BKJP3RHQ,AHORF7KU5KCVPIXFW5LRQKGTKVFQ,AEKXXDCFC7X7LKTIFHISM4LZGYXA,AEEWUDXSGNJ3CNRK3PKT5NPCLNJQ,AHGOIGUEHWNGMJV3KAMYFP2CBJPQ</th>\n",
       "      <td>1</td>\n",
       "    </tr>\n",
       "    <tr>\n",
       "      <th>AFGW5PT3R6ZAVQR4Y5MWVAKBZAYA,AG7QNJ2SCS5VS5VYYBNV4HDSIJ4Q,AFUDGN5MEXLKUULNTM7Y2G5P7TYA,AHXCDNSXAESERITAFELQABFVNLCA,AGRZD6CHLCUNOLMMIMIHUCG7PIFA,AFQZVGSOSOJHKFQQMCEI4725QEKQ,AEALVGXXIP46OZVXKRUXSDWZJMEA,AGEFL3AY7YXEFZA4ZJU3LP7K7OJQ</th>\n",
       "      <td>1</td>\n",
       "    </tr>\n",
       "    <tr>\n",
       "      <th>AFHCG4ZUNHS5X7PYX6IPZA3AO7PA,AHDH4K7B4XROK4NUUKOQMLVUGXKQ,AFAOEOKOE3IHNJKQDHAZ3JY63F6Q,AEIIOCCDVYEZSGZVFZSNYZKHM6HA,AGXJHFAXB4ZBSYHCSJUOU6TBXBCA,AGRDQEDZJUKOFPT4HQ6JNPP7PXYQ,AH4A6BDLABV357G2A6HQGCJ7KGYA,AHHJ2MPEQDEB2OL5VELPVKG7HA7A</th>\n",
       "      <td>1</td>\n",
       "    </tr>\n",
       "    <tr>\n",
       "      <th>AFHDJKCENRGUUZD2EYH6VDCJO5SA,AGHWZ6VIDNDWZOTO6YROX62J5CGA,AGFR664PXRCRSQRQDL24BDLOAQSA,AF34O4J6KAXDARBDMH2WQ3K6RVNA,AG6MBOHY6DAS5HA35XTBSFMJZKPA,AHX27HPT4SMOSCOOEJKZYKUIWN2A,AHP5XVXHFNOISFJBZ3NQX75EC5QA,AERIT7L44J4U5ZOSUK2JOSJF67PQ</th>\n",
       "      <td>1</td>\n",
       "    </tr>\n",
       "    <tr>\n",
       "      <th>AHZWXUWE3RGLDH4JJUK3HT3VMBJA,AFWUWJMEO4IQEMHKMUXYUILK47LQ,AHESBMCCD2JGQWVMDSW2G6QVJS7Q,AGJ2JB67X6WE4WZMZH4NWXHEGP4A,AEH5FAS6HXOZKYQOUM2YV5KKCNHQ,AGZYICOVCDNGVWXHJCDF63UTU7FA,AFIAREIU3BQVJUNZTYKC5I4TTN7A,AGVOPDVJX5H5BXDGMWPRSWAJSJAQ</th>\n",
       "      <td>1</td>\n",
       "    </tr>\n",
       "  </tbody>\n",
       "</table>\n",
       "<p>1194 rows × 1 columns</p>\n",
       "</div>"
      ],
      "text/plain": [
       "                                                    values\n",
       "user_id                                                   \n",
       "AHIKJUDTVJ4T6DV6IUGFYZ5LXMPA,AE55KTFVNXYFD5FPYW...      10\n",
       "AG3D6O4STAQKAY2UVGEUV46KN35Q,AHMY5CWJMMK5BJRBBS...       8\n",
       "AGAELRYPMTG5SADZPDYB343EASAA,AGFN4JODOM2NTFCJQO...       8\n",
       "AECPFYFQVRUWC3KGNLJIOREFP5LQ,AGYYVPDD7YG7FYNBXN...       7\n",
       "AEWAZDZZJLQUYVOVGBEUKSLXHQ5A,AG5HTSFRRE6NL3M5SG...       7\n",
       "...                                                    ...\n",
       "AFGVIUCA3RTCKMTDTO3XGNTHYFWQ,AE3AF67Y5YK6UG7I6H...       1\n",
       "AFGW5PT3R6ZAVQR4Y5MWVAKBZAYA,AG7QNJ2SCS5VS5VYYB...       1\n",
       "AFHCG4ZUNHS5X7PYX6IPZA3AO7PA,AHDH4K7B4XROK4NUUK...       1\n",
       "AFHDJKCENRGUUZD2EYH6VDCJO5SA,AGHWZ6VIDNDWZOTO6Y...       1\n",
       "AHZWXUWE3RGLDH4JJUK3HT3VMBJA,AFWUWJMEO4IQEMHKMU...       1\n",
       "\n",
       "[1194 rows x 1 columns]"
      ]
     },
     "execution_count": 50,
     "metadata": {},
     "output_type": "execute_result"
    }
   ],
   "source": [
    "teste = pd.DataFrame(df[['user_id']].value_counts(), columns=['values'])\n",
    "teste"
   ]
  },
  {
   "cell_type": "code",
   "execution_count": 51,
   "id": "c1a5ab8c",
   "metadata": {
    "scrolled": true
   },
   "outputs": [
    {
     "name": "stdout",
     "output_type": "stream",
     "text": [
      "product_id                                         B002PD61Y4 B002SZEOLG  \\\n",
      "user_id                                                                    \n",
      "AE22Y3KIS7SE6LI3HE2VS6WWPU4Q,AHWEYO2IJ5I5GDWZAH...          0          0   \n",
      "AE23RS3W7GZO7LHYKJU6KSKVM4MQ,AEQUNEY6GQOTEGUMS6...          0          0   \n",
      "AE242TR3GQ6TYC6W4SJ5UYYKBTYQ                                0          0   \n",
      "AE27UOZENYSWCQVQRRUQIV2ZM7VA,AGMYSLV6NNOAYES25J...          0          0   \n",
      "AE2JTMRKTUOIVIZWS2WDGTMNTU4Q,AF4QXCB32VC2DVE7O3...          0          0   \n",
      "...                                                       ...        ...   \n",
      "AHZFKWGDBRQKNMNQ4ZPL52OZBRKA,AGBEFVJFOQIRF7C7KY...          0          0   \n",
      "AHZJHJWFZLYD64GVP4PXVI2F4LXA,AEUCRZPOISXKHXMCZU...          0          0   \n",
      "AHZNSNBVKQR4OGJAQHE4DCDA4YHA,AFBW6COTZXGHQMWVDU...          0          0   \n",
      "AHZWJCVEIEI76H2VGMUSN5D735IQ,AH2DFUHFTG4CKQFVGZ...          0          0   \n",
      "AHZWXUWE3RGLDH4JJUK3HT3VMBJA,AFWUWJMEO4IQEMHKMU...          0          0   \n",
      "\n",
      "product_id                                         B003B00484 B003L62T7W  \\\n",
      "user_id                                                                    \n",
      "AE22Y3KIS7SE6LI3HE2VS6WWPU4Q,AHWEYO2IJ5I5GDWZAH...          0          0   \n",
      "AE23RS3W7GZO7LHYKJU6KSKVM4MQ,AEQUNEY6GQOTEGUMS6...          0          0   \n",
      "AE242TR3GQ6TYC6W4SJ5UYYKBTYQ                                0          0   \n",
      "AE27UOZENYSWCQVQRRUQIV2ZM7VA,AGMYSLV6NNOAYES25J...          0          0   \n",
      "AE2JTMRKTUOIVIZWS2WDGTMNTU4Q,AF4QXCB32VC2DVE7O3...          0          0   \n",
      "...                                                       ...        ...   \n",
      "AHZFKWGDBRQKNMNQ4ZPL52OZBRKA,AGBEFVJFOQIRF7C7KY...          0          0   \n",
      "AHZJHJWFZLYD64GVP4PXVI2F4LXA,AEUCRZPOISXKHXMCZU...          0          0   \n",
      "AHZNSNBVKQR4OGJAQHE4DCDA4YHA,AFBW6COTZXGHQMWVDU...          0          0   \n",
      "AHZWJCVEIEI76H2VGMUSN5D735IQ,AH2DFUHFTG4CKQFVGZ...          0          0   \n",
      "AHZWXUWE3RGLDH4JJUK3HT3VMBJA,AFWUWJMEO4IQEMHKMU...          0          0   \n",
      "\n",
      "product_id                                         B004IO5BMQ B005FYNT3G  \\\n",
      "user_id                                                                    \n",
      "AE22Y3KIS7SE6LI3HE2VS6WWPU4Q,AHWEYO2IJ5I5GDWZAH...          0          0   \n",
      "AE23RS3W7GZO7LHYKJU6KSKVM4MQ,AEQUNEY6GQOTEGUMS6...          0          0   \n",
      "AE242TR3GQ6TYC6W4SJ5UYYKBTYQ                                0          0   \n",
      "AE27UOZENYSWCQVQRRUQIV2ZM7VA,AGMYSLV6NNOAYES25J...          0          0   \n",
      "AE2JTMRKTUOIVIZWS2WDGTMNTU4Q,AF4QXCB32VC2DVE7O3...          0          0   \n",
      "...                                                       ...        ...   \n",
      "AHZFKWGDBRQKNMNQ4ZPL52OZBRKA,AGBEFVJFOQIRF7C7KY...          0          0   \n",
      "AHZJHJWFZLYD64GVP4PXVI2F4LXA,AEUCRZPOISXKHXMCZU...          0          0   \n",
      "AHZNSNBVKQR4OGJAQHE4DCDA4YHA,AFBW6COTZXGHQMWVDU...          0          0   \n",
      "AHZWJCVEIEI76H2VGMUSN5D735IQ,AH2DFUHFTG4CKQFVGZ...          0          0   \n",
      "AHZWXUWE3RGLDH4JJUK3HT3VMBJA,AFWUWJMEO4IQEMHKMU...          0          0   \n",
      "\n",
      "product_id                                         B005LJQMCK B005LJQMZC  \\\n",
      "user_id                                                                    \n",
      "AE22Y3KIS7SE6LI3HE2VS6WWPU4Q,AHWEYO2IJ5I5GDWZAH...          0          0   \n",
      "AE23RS3W7GZO7LHYKJU6KSKVM4MQ,AEQUNEY6GQOTEGUMS6...          0          0   \n",
      "AE242TR3GQ6TYC6W4SJ5UYYKBTYQ                                0          0   \n",
      "AE27UOZENYSWCQVQRRUQIV2ZM7VA,AGMYSLV6NNOAYES25J...          0          0   \n",
      "AE2JTMRKTUOIVIZWS2WDGTMNTU4Q,AF4QXCB32VC2DVE7O3...          0          0   \n",
      "...                                                       ...        ...   \n",
      "AHZFKWGDBRQKNMNQ4ZPL52OZBRKA,AGBEFVJFOQIRF7C7KY...          0          0   \n",
      "AHZJHJWFZLYD64GVP4PXVI2F4LXA,AEUCRZPOISXKHXMCZU...          0          0   \n",
      "AHZNSNBVKQR4OGJAQHE4DCDA4YHA,AFBW6COTZXGHQMWVDU...          0          0   \n",
      "AHZWJCVEIEI76H2VGMUSN5D735IQ,AH2DFUHFTG4CKQFVGZ...          0          0   \n",
      "AHZWXUWE3RGLDH4JJUK3HT3VMBJA,AFWUWJMEO4IQEMHKMU...          0          0   \n",
      "\n",
      "product_id                                         B006LW0WDQ B0073QGKAS  ...  \\\n",
      "user_id                                                                   ...   \n",
      "AE22Y3KIS7SE6LI3HE2VS6WWPU4Q,AHWEYO2IJ5I5GDWZAH...          0          0  ...   \n",
      "AE23RS3W7GZO7LHYKJU6KSKVM4MQ,AEQUNEY6GQOTEGUMS6...          0          0  ...   \n",
      "AE242TR3GQ6TYC6W4SJ5UYYKBTYQ                                0          0  ...   \n",
      "AE27UOZENYSWCQVQRRUQIV2ZM7VA,AGMYSLV6NNOAYES25J...          0          0  ...   \n",
      "AE2JTMRKTUOIVIZWS2WDGTMNTU4Q,AF4QXCB32VC2DVE7O3...          0          0  ...   \n",
      "...                                                       ...        ...  ...   \n",
      "AHZFKWGDBRQKNMNQ4ZPL52OZBRKA,AGBEFVJFOQIRF7C7KY...          0          0  ...   \n",
      "AHZJHJWFZLYD64GVP4PXVI2F4LXA,AEUCRZPOISXKHXMCZU...          0          0  ...   \n",
      "AHZNSNBVKQR4OGJAQHE4DCDA4YHA,AFBW6COTZXGHQMWVDU...          0          0  ...   \n",
      "AHZWJCVEIEI76H2VGMUSN5D735IQ,AH2DFUHFTG4CKQFVGZ...          0          0  ...   \n",
      "AHZWXUWE3RGLDH4JJUK3HT3VMBJA,AFWUWJMEO4IQEMHKMU...          0          0  ...   \n",
      "\n",
      "product_id                                         B0BP18W8TM B0BP7XLX48  \\\n",
      "user_id                                                                    \n",
      "AE22Y3KIS7SE6LI3HE2VS6WWPU4Q,AHWEYO2IJ5I5GDWZAH...          0          0   \n",
      "AE23RS3W7GZO7LHYKJU6KSKVM4MQ,AEQUNEY6GQOTEGUMS6...          0          0   \n",
      "AE242TR3GQ6TYC6W4SJ5UYYKBTYQ                                0          0   \n",
      "AE27UOZENYSWCQVQRRUQIV2ZM7VA,AGMYSLV6NNOAYES25J...          0          0   \n",
      "AE2JTMRKTUOIVIZWS2WDGTMNTU4Q,AF4QXCB32VC2DVE7O3...          0          0   \n",
      "...                                                       ...        ...   \n",
      "AHZFKWGDBRQKNMNQ4ZPL52OZBRKA,AGBEFVJFOQIRF7C7KY...          0          0   \n",
      "AHZJHJWFZLYD64GVP4PXVI2F4LXA,AEUCRZPOISXKHXMCZU...          0          0   \n",
      "AHZNSNBVKQR4OGJAQHE4DCDA4YHA,AFBW6COTZXGHQMWVDU...          0          0   \n",
      "AHZWJCVEIEI76H2VGMUSN5D735IQ,AH2DFUHFTG4CKQFVGZ...          0          0   \n",
      "AHZWXUWE3RGLDH4JJUK3HT3VMBJA,AFWUWJMEO4IQEMHKMU...          0          0   \n",
      "\n",
      "product_id                                         B0BP89YBC1 B0BPBG712X  \\\n",
      "user_id                                                                    \n",
      "AE22Y3KIS7SE6LI3HE2VS6WWPU4Q,AHWEYO2IJ5I5GDWZAH...          0          0   \n",
      "AE23RS3W7GZO7LHYKJU6KSKVM4MQ,AEQUNEY6GQOTEGUMS6...          0          0   \n",
      "AE242TR3GQ6TYC6W4SJ5UYYKBTYQ                                0          0   \n",
      "AE27UOZENYSWCQVQRRUQIV2ZM7VA,AGMYSLV6NNOAYES25J...          0          0   \n",
      "AE2JTMRKTUOIVIZWS2WDGTMNTU4Q,AF4QXCB32VC2DVE7O3...          0          0   \n",
      "...                                                       ...        ...   \n",
      "AHZFKWGDBRQKNMNQ4ZPL52OZBRKA,AGBEFVJFOQIRF7C7KY...          0          0   \n",
      "AHZJHJWFZLYD64GVP4PXVI2F4LXA,AEUCRZPOISXKHXMCZU...          0          0   \n",
      "AHZNSNBVKQR4OGJAQHE4DCDA4YHA,AFBW6COTZXGHQMWVDU...          0          0   \n",
      "AHZWJCVEIEI76H2VGMUSN5D735IQ,AH2DFUHFTG4CKQFVGZ...          0          0   \n",
      "AHZWXUWE3RGLDH4JJUK3HT3VMBJA,AFWUWJMEO4IQEMHKMU...          0          0   \n",
      "\n",
      "product_id                                         B0BPBXNQQT B0BPCJM7TB  \\\n",
      "user_id                                                                    \n",
      "AE22Y3KIS7SE6LI3HE2VS6WWPU4Q,AHWEYO2IJ5I5GDWZAH...          0          0   \n",
      "AE23RS3W7GZO7LHYKJU6KSKVM4MQ,AEQUNEY6GQOTEGUMS6...          0          0   \n",
      "AE242TR3GQ6TYC6W4SJ5UYYKBTYQ                                0          0   \n",
      "AE27UOZENYSWCQVQRRUQIV2ZM7VA,AGMYSLV6NNOAYES25J...          0          0   \n",
      "AE2JTMRKTUOIVIZWS2WDGTMNTU4Q,AF4QXCB32VC2DVE7O3...          0          0   \n",
      "...                                                       ...        ...   \n",
      "AHZFKWGDBRQKNMNQ4ZPL52OZBRKA,AGBEFVJFOQIRF7C7KY...          0          0   \n",
      "AHZJHJWFZLYD64GVP4PXVI2F4LXA,AEUCRZPOISXKHXMCZU...          0          0   \n",
      "AHZNSNBVKQR4OGJAQHE4DCDA4YHA,AFBW6COTZXGHQMWVDU...          0          0   \n",
      "AHZWJCVEIEI76H2VGMUSN5D735IQ,AH2DFUHFTG4CKQFVGZ...          0          0   \n",
      "AHZWXUWE3RGLDH4JJUK3HT3VMBJA,AFWUWJMEO4IQEMHKMU...          0          0   \n",
      "\n",
      "product_id                                         B0BPJBTB3F B0BQ3K23Y1  \\\n",
      "user_id                                                                    \n",
      "AE22Y3KIS7SE6LI3HE2VS6WWPU4Q,AHWEYO2IJ5I5GDWZAH...          0          0   \n",
      "AE23RS3W7GZO7LHYKJU6KSKVM4MQ,AEQUNEY6GQOTEGUMS6...          0          0   \n",
      "AE242TR3GQ6TYC6W4SJ5UYYKBTYQ                                0          0   \n",
      "AE27UOZENYSWCQVQRRUQIV2ZM7VA,AGMYSLV6NNOAYES25J...          0          0   \n",
      "AE2JTMRKTUOIVIZWS2WDGTMNTU4Q,AF4QXCB32VC2DVE7O3...          0          0   \n",
      "...                                                       ...        ...   \n",
      "AHZFKWGDBRQKNMNQ4ZPL52OZBRKA,AGBEFVJFOQIRF7C7KY...          0          0   \n",
      "AHZJHJWFZLYD64GVP4PXVI2F4LXA,AEUCRZPOISXKHXMCZU...          0          0   \n",
      "AHZNSNBVKQR4OGJAQHE4DCDA4YHA,AFBW6COTZXGHQMWVDU...          0          0   \n",
      "AHZWJCVEIEI76H2VGMUSN5D735IQ,AH2DFUHFTG4CKQFVGZ...          0          0   \n",
      "AHZWXUWE3RGLDH4JJUK3HT3VMBJA,AFWUWJMEO4IQEMHKMU...          0          0   \n",
      "\n",
      "product_id                                         B0BQRJ3C47 B0BR4F878Q  \n",
      "user_id                                                                   \n",
      "AE22Y3KIS7SE6LI3HE2VS6WWPU4Q,AHWEYO2IJ5I5GDWZAH...          0          0  \n",
      "AE23RS3W7GZO7LHYKJU6KSKVM4MQ,AEQUNEY6GQOTEGUMS6...          0          0  \n",
      "AE242TR3GQ6TYC6W4SJ5UYYKBTYQ                                0          0  \n",
      "AE27UOZENYSWCQVQRRUQIV2ZM7VA,AGMYSLV6NNOAYES25J...          0          0  \n",
      "AE2JTMRKTUOIVIZWS2WDGTMNTU4Q,AF4QXCB32VC2DVE7O3...          0          0  \n",
      "...                                                       ...        ...  \n",
      "AHZFKWGDBRQKNMNQ4ZPL52OZBRKA,AGBEFVJFOQIRF7C7KY...          0          0  \n",
      "AHZJHJWFZLYD64GVP4PXVI2F4LXA,AEUCRZPOISXKHXMCZU...          0          0  \n",
      "AHZNSNBVKQR4OGJAQHE4DCDA4YHA,AFBW6COTZXGHQMWVDU...          0          0  \n",
      "AHZWJCVEIEI76H2VGMUSN5D735IQ,AH2DFUHFTG4CKQFVGZ...          0          0  \n",
      "AHZWXUWE3RGLDH4JJUK3HT3VMBJA,AFWUWJMEO4IQEMHKMU...          0          0  \n",
      "\n",
      "[1194 rows x 1351 columns]\n"
     ]
    }
   ],
   "source": [
    "# Create a basket for each user\n",
    "basket = (df.groupby(['user_id', 'product_id'])['rating_count']\n",
    "          .sum().unstack().reset_index().fillna(0)\n",
    "          .set_index('user_id'))\n",
    "\n",
    "print(basket)"
   ]
  },
  {
   "cell_type": "code",
   "execution_count": 52,
   "id": "49331a81",
   "metadata": {},
   "outputs": [
    {
     "ename": "TypeError",
     "evalue": "'<=' not supported between instances of 'str' and 'int'",
     "output_type": "error",
     "traceback": [
      "\u001b[1;31m---------------------------------------------------------------------------\u001b[0m",
      "\u001b[1;31mTypeError\u001b[0m                                 Traceback (most recent call last)",
      "\u001b[1;32m~\\AppData\\Local\\Temp\\ipykernel_26028\\2697181980.py\u001b[0m in \u001b[0;36m<module>\u001b[1;34m\u001b[0m\n\u001b[0;32m      6\u001b[0m         \u001b[1;32mreturn\u001b[0m \u001b[1;36m1\u001b[0m\u001b[1;33m\u001b[0m\u001b[1;33m\u001b[0m\u001b[0m\n\u001b[0;32m      7\u001b[0m \u001b[1;33m\u001b[0m\u001b[0m\n\u001b[1;32m----> 8\u001b[1;33m \u001b[0mbasket_sets\u001b[0m \u001b[1;33m=\u001b[0m \u001b[0mbasket\u001b[0m\u001b[1;33m.\u001b[0m\u001b[0mapplymap\u001b[0m\u001b[1;33m(\u001b[0m\u001b[0mencode_units\u001b[0m\u001b[1;33m)\u001b[0m\u001b[1;33m\u001b[0m\u001b[1;33m\u001b[0m\u001b[0m\n\u001b[0m\u001b[0;32m      9\u001b[0m \u001b[1;33m\u001b[0m\u001b[0m\n\u001b[0;32m     10\u001b[0m \u001b[0mbasket_sets\u001b[0m\u001b[1;33m\u001b[0m\u001b[1;33m\u001b[0m\u001b[0m\n",
      "\u001b[1;32m~\\anaconda3\\lib\\site-packages\\pandas\\core\\frame.py\u001b[0m in \u001b[0;36mapplymap\u001b[1;34m(self, func, na_action, **kwargs)\u001b[0m\n\u001b[0;32m   9651\u001b[0m             \u001b[1;32mreturn\u001b[0m \u001b[0mlib\u001b[0m\u001b[1;33m.\u001b[0m\u001b[0mmap_infer\u001b[0m\u001b[1;33m(\u001b[0m\u001b[0mx\u001b[0m\u001b[1;33m.\u001b[0m\u001b[0mastype\u001b[0m\u001b[1;33m(\u001b[0m\u001b[0mobject\u001b[0m\u001b[1;33m)\u001b[0m\u001b[1;33m.\u001b[0m\u001b[0m_values\u001b[0m\u001b[1;33m,\u001b[0m \u001b[0mfunc\u001b[0m\u001b[1;33m,\u001b[0m \u001b[0mignore_na\u001b[0m\u001b[1;33m=\u001b[0m\u001b[0mignore_na\u001b[0m\u001b[1;33m)\u001b[0m\u001b[1;33m\u001b[0m\u001b[1;33m\u001b[0m\u001b[0m\n\u001b[0;32m   9652\u001b[0m \u001b[1;33m\u001b[0m\u001b[0m\n\u001b[1;32m-> 9653\u001b[1;33m         \u001b[1;32mreturn\u001b[0m \u001b[0mself\u001b[0m\u001b[1;33m.\u001b[0m\u001b[0mapply\u001b[0m\u001b[1;33m(\u001b[0m\u001b[0minfer\u001b[0m\u001b[1;33m)\u001b[0m\u001b[1;33m.\u001b[0m\u001b[0m__finalize__\u001b[0m\u001b[1;33m(\u001b[0m\u001b[0mself\u001b[0m\u001b[1;33m,\u001b[0m \u001b[1;34m\"applymap\"\u001b[0m\u001b[1;33m)\u001b[0m\u001b[1;33m\u001b[0m\u001b[1;33m\u001b[0m\u001b[0m\n\u001b[0m\u001b[0;32m   9654\u001b[0m \u001b[1;33m\u001b[0m\u001b[0m\n\u001b[0;32m   9655\u001b[0m     \u001b[1;31m# ----------------------------------------------------------------------\u001b[0m\u001b[1;33m\u001b[0m\u001b[1;33m\u001b[0m\u001b[0m\n",
      "\u001b[1;32m~\\anaconda3\\lib\\site-packages\\pandas\\core\\frame.py\u001b[0m in \u001b[0;36mapply\u001b[1;34m(self, func, axis, raw, result_type, args, **kwargs)\u001b[0m\n\u001b[0;32m   9566\u001b[0m             \u001b[0mkwargs\u001b[0m\u001b[1;33m=\u001b[0m\u001b[0mkwargs\u001b[0m\u001b[1;33m,\u001b[0m\u001b[1;33m\u001b[0m\u001b[1;33m\u001b[0m\u001b[0m\n\u001b[0;32m   9567\u001b[0m         )\n\u001b[1;32m-> 9568\u001b[1;33m         \u001b[1;32mreturn\u001b[0m \u001b[0mop\u001b[0m\u001b[1;33m.\u001b[0m\u001b[0mapply\u001b[0m\u001b[1;33m(\u001b[0m\u001b[1;33m)\u001b[0m\u001b[1;33m.\u001b[0m\u001b[0m__finalize__\u001b[0m\u001b[1;33m(\u001b[0m\u001b[0mself\u001b[0m\u001b[1;33m,\u001b[0m \u001b[0mmethod\u001b[0m\u001b[1;33m=\u001b[0m\u001b[1;34m\"apply\"\u001b[0m\u001b[1;33m)\u001b[0m\u001b[1;33m\u001b[0m\u001b[1;33m\u001b[0m\u001b[0m\n\u001b[0m\u001b[0;32m   9569\u001b[0m \u001b[1;33m\u001b[0m\u001b[0m\n\u001b[0;32m   9570\u001b[0m     def applymap(\n",
      "\u001b[1;32m~\\anaconda3\\lib\\site-packages\\pandas\\core\\apply.py\u001b[0m in \u001b[0;36mapply\u001b[1;34m(self)\u001b[0m\n\u001b[0;32m    762\u001b[0m             \u001b[1;32mreturn\u001b[0m \u001b[0mself\u001b[0m\u001b[1;33m.\u001b[0m\u001b[0mapply_raw\u001b[0m\u001b[1;33m(\u001b[0m\u001b[1;33m)\u001b[0m\u001b[1;33m\u001b[0m\u001b[1;33m\u001b[0m\u001b[0m\n\u001b[0;32m    763\u001b[0m \u001b[1;33m\u001b[0m\u001b[0m\n\u001b[1;32m--> 764\u001b[1;33m         \u001b[1;32mreturn\u001b[0m \u001b[0mself\u001b[0m\u001b[1;33m.\u001b[0m\u001b[0mapply_standard\u001b[0m\u001b[1;33m(\u001b[0m\u001b[1;33m)\u001b[0m\u001b[1;33m\u001b[0m\u001b[1;33m\u001b[0m\u001b[0m\n\u001b[0m\u001b[0;32m    765\u001b[0m \u001b[1;33m\u001b[0m\u001b[0m\n\u001b[0;32m    766\u001b[0m     \u001b[1;32mdef\u001b[0m \u001b[0magg\u001b[0m\u001b[1;33m(\u001b[0m\u001b[0mself\u001b[0m\u001b[1;33m)\u001b[0m\u001b[1;33m:\u001b[0m\u001b[1;33m\u001b[0m\u001b[1;33m\u001b[0m\u001b[0m\n",
      "\u001b[1;32m~\\anaconda3\\lib\\site-packages\\pandas\\core\\apply.py\u001b[0m in \u001b[0;36mapply_standard\u001b[1;34m(self)\u001b[0m\n\u001b[0;32m    889\u001b[0m \u001b[1;33m\u001b[0m\u001b[0m\n\u001b[0;32m    890\u001b[0m     \u001b[1;32mdef\u001b[0m \u001b[0mapply_standard\u001b[0m\u001b[1;33m(\u001b[0m\u001b[0mself\u001b[0m\u001b[1;33m)\u001b[0m\u001b[1;33m:\u001b[0m\u001b[1;33m\u001b[0m\u001b[1;33m\u001b[0m\u001b[0m\n\u001b[1;32m--> 891\u001b[1;33m         \u001b[0mresults\u001b[0m\u001b[1;33m,\u001b[0m \u001b[0mres_index\u001b[0m \u001b[1;33m=\u001b[0m \u001b[0mself\u001b[0m\u001b[1;33m.\u001b[0m\u001b[0mapply_series_generator\u001b[0m\u001b[1;33m(\u001b[0m\u001b[1;33m)\u001b[0m\u001b[1;33m\u001b[0m\u001b[1;33m\u001b[0m\u001b[0m\n\u001b[0m\u001b[0;32m    892\u001b[0m \u001b[1;33m\u001b[0m\u001b[0m\n\u001b[0;32m    893\u001b[0m         \u001b[1;31m# wrap results\u001b[0m\u001b[1;33m\u001b[0m\u001b[1;33m\u001b[0m\u001b[0m\n",
      "\u001b[1;32m~\\anaconda3\\lib\\site-packages\\pandas\\core\\apply.py\u001b[0m in \u001b[0;36mapply_series_generator\u001b[1;34m(self)\u001b[0m\n\u001b[0;32m    905\u001b[0m             \u001b[1;32mfor\u001b[0m \u001b[0mi\u001b[0m\u001b[1;33m,\u001b[0m \u001b[0mv\u001b[0m \u001b[1;32min\u001b[0m \u001b[0menumerate\u001b[0m\u001b[1;33m(\u001b[0m\u001b[0mseries_gen\u001b[0m\u001b[1;33m)\u001b[0m\u001b[1;33m:\u001b[0m\u001b[1;33m\u001b[0m\u001b[1;33m\u001b[0m\u001b[0m\n\u001b[0;32m    906\u001b[0m                 \u001b[1;31m# ignore SettingWithCopy here in case the user mutates\u001b[0m\u001b[1;33m\u001b[0m\u001b[1;33m\u001b[0m\u001b[0m\n\u001b[1;32m--> 907\u001b[1;33m                 \u001b[0mresults\u001b[0m\u001b[1;33m[\u001b[0m\u001b[0mi\u001b[0m\u001b[1;33m]\u001b[0m \u001b[1;33m=\u001b[0m \u001b[0mself\u001b[0m\u001b[1;33m.\u001b[0m\u001b[0mf\u001b[0m\u001b[1;33m(\u001b[0m\u001b[0mv\u001b[0m\u001b[1;33m)\u001b[0m\u001b[1;33m\u001b[0m\u001b[1;33m\u001b[0m\u001b[0m\n\u001b[0m\u001b[0;32m    908\u001b[0m                 \u001b[1;32mif\u001b[0m \u001b[0misinstance\u001b[0m\u001b[1;33m(\u001b[0m\u001b[0mresults\u001b[0m\u001b[1;33m[\u001b[0m\u001b[0mi\u001b[0m\u001b[1;33m]\u001b[0m\u001b[1;33m,\u001b[0m \u001b[0mABCSeries\u001b[0m\u001b[1;33m)\u001b[0m\u001b[1;33m:\u001b[0m\u001b[1;33m\u001b[0m\u001b[1;33m\u001b[0m\u001b[0m\n\u001b[0;32m    909\u001b[0m                     \u001b[1;31m# If we have a view on v, we need to make a copy because\u001b[0m\u001b[1;33m\u001b[0m\u001b[1;33m\u001b[0m\u001b[0m\n",
      "\u001b[1;32m~\\anaconda3\\lib\\site-packages\\pandas\\core\\frame.py\u001b[0m in \u001b[0;36minfer\u001b[1;34m(x)\u001b[0m\n\u001b[0;32m   9649\u001b[0m             \u001b[1;32mif\u001b[0m \u001b[0mx\u001b[0m\u001b[1;33m.\u001b[0m\u001b[0mempty\u001b[0m\u001b[1;33m:\u001b[0m\u001b[1;33m\u001b[0m\u001b[1;33m\u001b[0m\u001b[0m\n\u001b[0;32m   9650\u001b[0m                 \u001b[1;32mreturn\u001b[0m \u001b[0mlib\u001b[0m\u001b[1;33m.\u001b[0m\u001b[0mmap_infer\u001b[0m\u001b[1;33m(\u001b[0m\u001b[0mx\u001b[0m\u001b[1;33m,\u001b[0m \u001b[0mfunc\u001b[0m\u001b[1;33m,\u001b[0m \u001b[0mignore_na\u001b[0m\u001b[1;33m=\u001b[0m\u001b[0mignore_na\u001b[0m\u001b[1;33m)\u001b[0m\u001b[1;33m\u001b[0m\u001b[1;33m\u001b[0m\u001b[0m\n\u001b[1;32m-> 9651\u001b[1;33m             \u001b[1;32mreturn\u001b[0m \u001b[0mlib\u001b[0m\u001b[1;33m.\u001b[0m\u001b[0mmap_infer\u001b[0m\u001b[1;33m(\u001b[0m\u001b[0mx\u001b[0m\u001b[1;33m.\u001b[0m\u001b[0mastype\u001b[0m\u001b[1;33m(\u001b[0m\u001b[0mobject\u001b[0m\u001b[1;33m)\u001b[0m\u001b[1;33m.\u001b[0m\u001b[0m_values\u001b[0m\u001b[1;33m,\u001b[0m \u001b[0mfunc\u001b[0m\u001b[1;33m,\u001b[0m \u001b[0mignore_na\u001b[0m\u001b[1;33m=\u001b[0m\u001b[0mignore_na\u001b[0m\u001b[1;33m)\u001b[0m\u001b[1;33m\u001b[0m\u001b[1;33m\u001b[0m\u001b[0m\n\u001b[0m\u001b[0;32m   9652\u001b[0m \u001b[1;33m\u001b[0m\u001b[0m\n\u001b[0;32m   9653\u001b[0m         \u001b[1;32mreturn\u001b[0m \u001b[0mself\u001b[0m\u001b[1;33m.\u001b[0m\u001b[0mapply\u001b[0m\u001b[1;33m(\u001b[0m\u001b[0minfer\u001b[0m\u001b[1;33m)\u001b[0m\u001b[1;33m.\u001b[0m\u001b[0m__finalize__\u001b[0m\u001b[1;33m(\u001b[0m\u001b[0mself\u001b[0m\u001b[1;33m,\u001b[0m \u001b[1;34m\"applymap\"\u001b[0m\u001b[1;33m)\u001b[0m\u001b[1;33m\u001b[0m\u001b[1;33m\u001b[0m\u001b[0m\n",
      "\u001b[1;32m~\\anaconda3\\lib\\site-packages\\pandas\\_libs\\lib.pyx\u001b[0m in \u001b[0;36mpandas._libs.lib.map_infer\u001b[1;34m()\u001b[0m\n",
      "\u001b[1;32m~\\AppData\\Local\\Temp\\ipykernel_26028\\2697181980.py\u001b[0m in \u001b[0;36mencode_units\u001b[1;34m(x)\u001b[0m\n\u001b[0;32m      1\u001b[0m \u001b[1;31m# Create and declare a method named as 'encode_units()'\u001b[0m\u001b[1;33m\u001b[0m\u001b[1;33m\u001b[0m\u001b[0m\n\u001b[0;32m      2\u001b[0m \u001b[1;32mdef\u001b[0m \u001b[0mencode_units\u001b[0m\u001b[1;33m(\u001b[0m\u001b[0mx\u001b[0m\u001b[1;33m)\u001b[0m\u001b[1;33m:\u001b[0m\u001b[1;33m\u001b[0m\u001b[1;33m\u001b[0m\u001b[0m\n\u001b[1;32m----> 3\u001b[1;33m     \u001b[1;32mif\u001b[0m \u001b[0mx\u001b[0m \u001b[1;33m<=\u001b[0m \u001b[1;36m0\u001b[0m\u001b[1;33m:\u001b[0m\u001b[1;33m\u001b[0m\u001b[1;33m\u001b[0m\u001b[0m\n\u001b[0m\u001b[0;32m      4\u001b[0m         \u001b[1;32mreturn\u001b[0m \u001b[1;36m0\u001b[0m\u001b[1;33m\u001b[0m\u001b[1;33m\u001b[0m\u001b[0m\n\u001b[0;32m      5\u001b[0m     \u001b[1;32mif\u001b[0m \u001b[0mx\u001b[0m \u001b[1;33m>=\u001b[0m \u001b[1;36m1\u001b[0m\u001b[1;33m:\u001b[0m\u001b[1;33m\u001b[0m\u001b[1;33m\u001b[0m\u001b[0m\n",
      "\u001b[1;31mTypeError\u001b[0m: '<=' not supported between instances of 'str' and 'int'"
     ]
    }
   ],
   "source": [
    "# Create and declare a method named as 'encode_units()'\n",
    "def encode_units(x):\n",
    "    if x <= 0:\n",
    "        return 0\n",
    "    if x >= 1:\n",
    "        return 1\n",
    "\n",
    "basket_sets = basket.applymap(encode_units)\n",
    "\n",
    "basket_sets"
   ]
  },
  {
   "cell_type": "markdown",
   "id": "e5543e4d",
   "metadata": {},
   "source": [
    "# Apriori Rule for Market Basket Analysis"
   ]
  },
  {
   "cell_type": "code",
   "execution_count": null,
   "id": "10dac77b",
   "metadata": {},
   "outputs": [],
   "source": [
    "frequent_itemsets = apriori(basket_sets, min_support = 0.02, use_colnames = True)"
   ]
  },
  {
   "cell_type": "code",
   "execution_count": null,
   "id": "8d482352",
   "metadata": {},
   "outputs": [],
   "source": [
    "rules = association_rules(frequent_itemsets, metric = \"lift\", min_threshold = 5)\n",
    "rules.head()"
   ]
  },
  {
   "cell_type": "code",
   "execution_count": null,
   "id": "6fc97fbd",
   "metadata": {},
   "outputs": [],
   "source": []
  },
  {
   "cell_type": "markdown",
   "id": "34d924a2",
   "metadata": {},
   "source": [
    "# FP-growth algorithm for Market Basket Analysis"
   ]
  },
  {
   "cell_type": "code",
   "execution_count": null,
   "id": "3c614ea9",
   "metadata": {},
   "outputs": [],
   "source": [
    "# Evaluate the frequent item rules for fpgrowth function\n",
    "frequent_itemsets_fp1 = fpgrowth(basket_sets, min_support = 0.1, use_colnames = True)\n",
    "\n",
    "print(frequent_itemsets_fp1)"
   ]
  },
  {
   "cell_type": "code",
   "execution_count": null,
   "id": "9ba65d9a",
   "metadata": {},
   "outputs": [],
   "source": []
  },
  {
   "cell_type": "code",
   "execution_count": null,
   "id": "d8097a65",
   "metadata": {},
   "outputs": [],
   "source": [
    "# Apriori algorithm\n",
    "frequent_itemsets = apriori(basket_sets, min_support=0.07, use_colnames=True)\n",
    "\n",
    "# Print frequent itemsets for inspection\n",
    "print(\"Frequent Itemsets:\")\n",
    "print(frequent_itemsets)\n",
    "\n",
    "# Association Rules\n",
    "rules = association_rules(frequent_itemsets, metric=\"lift\", min_threshold=1)\n",
    "\n",
    "# Print rules for inspection\n",
    "print(\"\\nAssociation Rules:\")\n",
    "print(rules)\n"
   ]
  },
  {
   "cell_type": "code",
   "execution_count": null,
   "id": "7b43dcc6",
   "metadata": {},
   "outputs": [],
   "source": []
  },
  {
   "cell_type": "markdown",
   "id": "b2e52218",
   "metadata": {},
   "source": [
    "<a id=\"1\"></a>\n",
    "# <p style=\"padding:10px;background-color:#257CCB;margin:0;color:white;font-family:arial;font-size:100%;text-align:center;border-radius: 15px 50px;overflow:hidden;font-weight:500\">_DATA VISUALISATION_</p>"
   ]
  },
  {
   "cell_type": "markdown",
   "id": "c48b4c58",
   "metadata": {},
   "source": [
    "**QUESTION 3**\n",
    "\n",
    "Create an interactive Dashboard aimed at older adults (65+) with specific features to summarise the most\n",
    "important aspects of the data and identify through your visualisation why this dataset is suitable for\n",
    "Machine Learning models in an online retail business. Explain how your dashboard is designed with this\n",
    "demographic in mind."
   ]
  },
  {
   "cell_type": "markdown",
   "id": "610a5a15",
   "metadata": {},
   "source": [
    "https://www.bing.com/images/search?q=python+dashboard&form=HDRSC3&first=1&cw=1177&ch=689"
   ]
  },
  {
   "cell_type": "code",
   "execution_count": null,
   "id": "51d2f026",
   "metadata": {},
   "outputs": [],
   "source": [
    "pip install pandas plotly"
   ]
  },
  {
   "cell_type": "code",
   "execution_count": null,
   "id": "191907c0",
   "metadata": {},
   "outputs": [],
   "source": [
    "import pandas as pd\n",
    "import plotly.express as px\n",
    "\n",
    "# Load the dataset\n",
    "df = pd.read_csv('amazon.csv')\n",
    "\n",
    "# Visualization 1: Bar chart for product categories\n",
    "category_counts = df['category'].value_counts().reset_index()\n",
    "category_counts.columns = ['Category', 'Count']\n",
    "\n",
    "fig1 = px.bar(category_counts, x='Category', y='Count', title='Product Categories Distribution')\n",
    "fig1.show()\n",
    "\n",
    "# Visualization 2: Line chart for sales trends\n",
    "sales_trends = df.groupby('product_name')['rating_count'].sum().reset_index().sort_values(by='rating_count', ascending=False)[:10]\n",
    "\n",
    "fig2 = px.line(sales_trends, x='product_name', y='rating_count', title='Top 10 Products by Rating Count')\n",
    "fig2.show()\n",
    "\n",
    "# Visualization 3: Pie chart for product ratings distribution\n",
    "rating_distribution = df['rating'].value_counts().reset_index()\n",
    "rating_distribution.columns = ['Rating', 'Count']\n",
    "\n",
    "fig3 = px.pie(rating_distribution, values='Count', names='Rating', title='Product Ratings Distribution')\n",
    "fig3.show()\n"
   ]
  },
  {
   "cell_type": "code",
   "execution_count": null,
   "id": "89fb3381",
   "metadata": {},
   "outputs": [],
   "source": [
    "# Replace 'your_data.csv' with the actual file path or URL of your Amazon dataset\n",
    "amazon_data = pd.read_csv('amazon.csv')\n",
    "\n",
    "# Perform any necessary data preprocessing\n",
    "# For example, aggregate sales data by month\n",
    "discount_data = amazon_data.groupby('category')['discount_percentage'].sum().reset_index()"
   ]
  },
  {
   "cell_type": "code",
   "execution_count": null,
   "id": "6cc413de",
   "metadata": {},
   "outputs": [],
   "source": [
    "import pandas as pd\n",
    "import plotly.express as px\n",
    "from jupyter_dash import JupyterDash\n",
    "from dash import dcc, html"
   ]
  },
  {
   "cell_type": "code",
   "execution_count": null,
   "id": "9cb9b0ee",
   "metadata": {},
   "outputs": [],
   "source": [
    "# Initialize the dashboard app\n",
    "app = JupyterDash(__name__)\n",
    "\n",
    "# Define the layout of the dashboard\n",
    "app.layout = html.Div([\n",
    "    html.H1(\"Amazon Online Retail Dashboard\"),\n",
    "    \n",
    "    # Sales Trends Line Chart\n",
    "    dcc.Graph(\n",
    "        id='sales-trends',\n",
    "        figure=px.line(discount_data, x='category', y='discount_percentage', title='Monthly Sales Trends')\n",
    "    ),\n",
    "\n",
    "    # Product Category Pie Chart\n",
    "    dcc.Graph(\n",
    "        id='product-categories',\n",
    "        figure=px.pie(amazon_data, names='product_id', title='Product Category Distribution')\n",
    "    ),\n",
    "\n",
    "    # Customer Reviews Sentiment Heatmap\n",
    "    # (Note: This is a simplified example, and sentiment analysis requires additional processing)\n",
    "    dcc.Graph(\n",
    "        id='sentiment-heatmap',\n",
    "        figure=px.imshow([[0.8, 0.2], [0.4, 0.6]], color_continuous_scale='Viridis', title='Customer Reviews Sentiment')\n",
    "    )\n",
    "])\n",
    "\n",
    "# Run the app\n",
    "if __name__ == '__main__':\n",
    "    app.run_server(debug=True)\n"
   ]
  },
  {
   "cell_type": "code",
   "execution_count": null,
   "id": "f2db7b30",
   "metadata": {},
   "outputs": [],
   "source": []
  },
  {
   "cell_type": "code",
   "execution_count": null,
   "id": "b8304eaa",
   "metadata": {},
   "outputs": [],
   "source": []
  },
  {
   "cell_type": "markdown",
   "id": "8ad21c16",
   "metadata": {},
   "source": [
    "<a id=\"1\"></a>\n",
    "# <p style=\"padding:10px;background-color:#257CCB;margin:0;color:white;font-family:arial;font-size:100%;text-align:center;border-radius: 15px 50px;overflow:hidden;font-weight:500\">_TITLE HERE_</p>"
   ]
  },
  {
   "cell_type": "code",
   "execution_count": null,
   "id": "a014bcdc",
   "metadata": {},
   "outputs": [],
   "source": []
  },
  {
   "cell_type": "markdown",
   "id": "cd4cc257",
   "metadata": {},
   "source": [
    "<a id=\"1\"></a>\n",
    "# <p style=\"padding:10px;background-color:#257CCB;margin:0;color:white;font-family:arial;font-size:100%;text-align:center;border-radius: 15px 50px;overflow:hidden;font-weight:500\">_REFERENCES_</p>"
   ]
  },
  {
   "cell_type": "markdown",
   "id": "22d7a5b0",
   "metadata": {},
   "source": [
    "(22/10)\n",
    " \n",
    "https://stackoverflow.com/questions/14088687/how-to-change-plot-background-color\n",
    "    \n",
    "https://datascientyst.com/full-list-named-colors-pandas-python-matplotlib/\n",
    "\n",
    "https://htmlcolorcodes.com/\n",
    "\n",
    "Amazon Customer Reviews (dataset) https://www.tensorflow.org/datasets/catalog/amazon_us_reviews\n",
    "\n",
    "https://github.com/tensorflow/datasets/blob/master/tensorflow_datasets/datasets/amazon_us_reviews/dummy_data/test.tsv"
   ]
  },
  {
   "cell_type": "markdown",
   "id": "bc1bdde2",
   "metadata": {},
   "source": [
    "References:\n",
    "\n",
    "Linden, G., Smith, B., & York, J. (2003). Amazon.com recommendations: Item-to-item collaborative filtering. IEEE Internet Computing, 7(1), 76-80.\n",
    "\n",
    "Yin, D., Hong, L., Davison, B. D., & Sidiropoulos, N. (2012). Comparative recommendation: A study of effectiveness metrics. In Proceedings of the 35th international ACM SIGIR conference on Research and development in information retrieval (pp. 339-348).\n",
    "\n",
    "McFee, B., Lanckriet, G. R., & Lanckriet, G. R. (2012). Metric learning to rank. In Advances in neural information processing systems (pp. 2573-2581).\n",
    "\n",
    "Kang, J., McAuley, J., & Leskovec, J. (2012). Exploring patterns of activity on e-commerce sites. In Proceedings of the 21st international conference on World Wide Web (pp. 795-804)."
   ]
  },
  {
   "cell_type": "code",
   "execution_count": null,
   "id": "7e5348a7",
   "metadata": {},
   "outputs": [],
   "source": []
  }
 ],
 "metadata": {
  "kernelspec": {
   "display_name": "Python 3 (ipykernel)",
   "language": "python",
   "name": "python3"
  },
  "language_info": {
   "codemirror_mode": {
    "name": "ipython",
    "version": 3
   },
   "file_extension": ".py",
   "mimetype": "text/x-python",
   "name": "python",
   "nbconvert_exporter": "python",
   "pygments_lexer": "ipython3",
   "version": "3.9.13"
  }
 },
 "nbformat": 4,
 "nbformat_minor": 5
}
